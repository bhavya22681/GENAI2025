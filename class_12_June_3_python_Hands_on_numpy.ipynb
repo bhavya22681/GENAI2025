{
  "nbformat": 4,
  "nbformat_minor": 0,
  "metadata": {
    "colab": {
      "provenance": []
    },
    "kernelspec": {
      "name": "python3",
      "display_name": "Python 3"
    },
    "language_info": {
      "name": "python"
    }
  },
  "cells": [
    {
      "cell_type": "markdown",
      "source": [
        "Questions"
      ],
      "metadata": {
        "id": "4PY6wJT6efbO"
      }
    },
    {
      "cell_type": "code",
      "source": [
        "\"1. Total number of transactions\": retail_np_array.shape[0],\n",
        "\"2. Total revenue generated\": np.sum(totals)\n",
        "\"3. Average order value\": np.mean(totals),\n",
        "\"4. Product with the highest total price\": products[np.argmax(totals)],\n",
        "\"5. Product with the lowest total price\": products[np.argmin(totals)],\n",
        "\"6. Average price of products\": np.mean(prices),\n",
        "\"7. Total quantity sold\": np.sum(quantities),\n",
        "\"8. Most frequently purchased product\": np.unique(products, return_counts=True)[0][np.argmax(np.unique(products, return_counts=True)[1])],\n",
        "\"9. Number of unique products\": len(np.unique(products)),\n",
        "\"10. Number of unique customers\": len(np.unique(customer_ids)),\n",
        "\"11. List all products sold\": products.tolist(),\n",
        "\"12. Revenue per product\": {prod: np.sum(totals[products == prod]) for prod in np.unique(products)},\n",
        "\"13. Quantity sold per product\": {prod: np.sum(quantities[products == prod]) for prod in np.unique(products)},\n",
        "\"14. Highest price of a product\": np.max(prices),\n",
        "\"15. Lowest price of a product\": np.min(prices),\n",
        "\"16. Products sold more than once\": products[quantities > 1].tolist(),\n",
        "\"17. Customers who bought more than one item\": customer_ids[quantities > 1].tolist(),\n",
        "\"18. Total spent by CustomerID 1002\": np.sum(totals[customer_ids == 1002]),\n",
        "\"19. Products priced above 1000\": products[prices > 1000].tolist(),\n",
        "\"20. Products with total >= 2000\": products[totals >= 2000].tolist()"
      ],
      "metadata": {
        "id": "dKIGCCnpeupd"
      },
      "execution_count": null,
      "outputs": []
    },
    {
      "cell_type": "code",
      "execution_count": null,
      "metadata": {
        "colab": {
          "base_uri": "https://localhost:8080/"
        },
        "id": "NDa3ZxKkCXPG",
        "outputId": "cf07e19d-3d71-47e8-9497-3376216106cc"
      },
      "outputs": [
        {
          "output_type": "execute_result",
          "data": {
            "text/plain": [
              "array([[1001, 'Laptop', 1, 50000, 50000],\n",
              "       [1002, 'Mouse', 2, 500, 1000],\n",
              "       [1003, 'Keyboard', 1, 1000, 1000],\n",
              "       [1004, 'Monitor', 2, 7000, 14000],\n",
              "       [1005, 'Headphones', 1, 2000, 2000]], dtype=object)"
            ]
          },
          "metadata": {},
          "execution_count": 79
        }
      ],
      "source": [
        "import numpy as np\n",
        "\n",
        "#Retail dataset as numpy array\n",
        "retail_np_array=np.array([\n",
        "    [1001, \"Laptop\", 1, 50000, 50000],\n",
        "    [1002, \"Mouse\", 2, 500, 1000],\n",
        "    [1003, \"Keyboard\", 1, 1000, 1000],\n",
        "    [1004, \"Monitor\", 2, 7000, 14000],\n",
        "    [1005, \"Headphones\", 1, 2000, 2000],\n",
        "], dtype=object)\n",
        "retail_np_array"
      ]
    },
    {
      "cell_type": "code",
      "source": [
        "retail_np_array"
      ],
      "metadata": {
        "colab": {
          "base_uri": "https://localhost:8080/"
        },
        "id": "1Yb6vr1fGoiK",
        "outputId": "14c69585-db90-4862-8c52-defb995cf6c4"
      },
      "execution_count": null,
      "outputs": [
        {
          "output_type": "execute_result",
          "data": {
            "text/plain": [
              "array([[1001, 'Laptop', 1, 50000, 50000],\n",
              "       [1002, 'Mouse', 2, 500, 1000],\n",
              "       [1003, 'Keyboard', 1, 1000, 1000],\n",
              "       [1004, 'Monitor', 2, 7000, 14000],\n",
              "       [1005, 'Headphones', 1, 2000, 2000]], dtype=object)"
            ]
          },
          "metadata": {},
          "execution_count": 80
        }
      ]
    },
    {
      "cell_type": "code",
      "source": [
        "#Extracting columns\n",
        "customer_ids = retail_np_array[:, 0]\n",
        "products = retail_np_array[:, 1]\n",
        "qunatities = retail_np_array[:, 2].astype(int)\n",
        "prices = retail_np_array[:, 3].astype(int)\n",
        "totals = retail_np_array[:, 4].astype(int)\n",
        "retail_np_array"
      ],
      "metadata": {
        "colab": {
          "base_uri": "https://localhost:8080/"
        },
        "id": "I2iNiBvgDQor",
        "outputId": "8528afe9-15d0-45e8-8ba1-3053616f0fe2"
      },
      "execution_count": null,
      "outputs": [
        {
          "output_type": "execute_result",
          "data": {
            "text/plain": [
              "array([[1001, 'Laptop', 1, 50000, 50000],\n",
              "       [1002, 'Mouse', 2, 500, 1000],\n",
              "       [1003, 'Keyboard', 1, 1000, 1000],\n",
              "       [1004, 'Monitor', 2, 7000, 14000],\n",
              "       [1005, 'Headphones', 1, 2000, 2000]], dtype=object)"
            ]
          },
          "metadata": {},
          "execution_count": 81
        }
      ]
    },
    {
      "cell_type": "code",
      "source": [
        "retail_np_array.shape[0]"
      ],
      "metadata": {
        "colab": {
          "base_uri": "https://localhost:8080/"
        },
        "id": "eC6K9ZLWDQmO",
        "outputId": "e502201e-0915-4bfd-d149-774fd56abf94"
      },
      "execution_count": null,
      "outputs": [
        {
          "output_type": "execute_result",
          "data": {
            "text/plain": [
              "5"
            ]
          },
          "metadata": {},
          "execution_count": 82
        }
      ]
    },
    {
      "cell_type": "code",
      "source": [
        "retail_np_array.shape"
      ],
      "metadata": {
        "colab": {
          "base_uri": "https://localhost:8080/"
        },
        "id": "ndrFlb1wIIpT",
        "outputId": "e51a5e27-5fab-4e7d-d546-95bee8903c83"
      },
      "execution_count": null,
      "outputs": [
        {
          "output_type": "execute_result",
          "data": {
            "text/plain": [
              "(5, 5)"
            ]
          },
          "metadata": {},
          "execution_count": 83
        }
      ]
    },
    {
      "cell_type": "code",
      "source": [
        "np.sum(totals),"
      ],
      "metadata": {
        "colab": {
          "base_uri": "https://localhost:8080/"
        },
        "id": "akE2esp4HInN",
        "outputId": "8af6d172-399d-4852-cdae-e24c5bee84a9"
      },
      "execution_count": null,
      "outputs": [
        {
          "output_type": "execute_result",
          "data": {
            "text/plain": [
              "(np.int64(68000),)"
            ]
          },
          "metadata": {},
          "execution_count": 84
        }
      ]
    },
    {
      "cell_type": "code",
      "source": [
        "np.mean(totals),"
      ],
      "metadata": {
        "colab": {
          "base_uri": "https://localhost:8080/"
        },
        "id": "Q9eBXxBWHIkV",
        "outputId": "542d8fca-e28b-4f46-908e-4774bab0341a"
      },
      "execution_count": null,
      "outputs": [
        {
          "output_type": "execute_result",
          "data": {
            "text/plain": [
              "(np.float64(13600.0),)"
            ]
          },
          "metadata": {},
          "execution_count": 85
        }
      ]
    },
    {
      "cell_type": "code",
      "source": [
        "retail_np_array"
      ],
      "metadata": {
        "colab": {
          "base_uri": "https://localhost:8080/"
        },
        "id": "JqWjlKAyJu0N",
        "outputId": "fccfb261-d6f4-4607-8002-90820811e46c"
      },
      "execution_count": null,
      "outputs": [
        {
          "output_type": "execute_result",
          "data": {
            "text/plain": [
              "array([[1001, 'Laptop', 1, 50000, 50000],\n",
              "       [1002, 'Mouse', 2, 500, 1000],\n",
              "       [1003, 'Keyboard', 1, 1000, 1000],\n",
              "       [1004, 'Monitor', 2, 7000, 14000],\n",
              "       [1005, 'Headphones', 1, 2000, 2000]], dtype=object)"
            ]
          },
          "metadata": {},
          "execution_count": 66
        }
      ]
    },
    {
      "cell_type": "code",
      "source": [
        "products[np.argmax(totals)]"
      ],
      "metadata": {
        "colab": {
          "base_uri": "https://localhost:8080/",
          "height": 36
        },
        "id": "LpwmVbgPDQgu",
        "outputId": "8fb5cb08-6c92-4572-d9c7-494ad0010918"
      },
      "execution_count": null,
      "outputs": [
        {
          "output_type": "execute_result",
          "data": {
            "text/plain": [
              "'Laptop'"
            ],
            "application/vnd.google.colaboratory.intrinsic+json": {
              "type": "string"
            }
          },
          "metadata": {},
          "execution_count": 86
        }
      ]
    },
    {
      "cell_type": "code",
      "source": [
        "products[np.argmin(totals)]"
      ],
      "metadata": {
        "colab": {
          "base_uri": "https://localhost:8080/",
          "height": 36
        },
        "id": "x9gB8HH-DQeO",
        "outputId": "b01c8acf-d0bd-4145-fdd0-d23a281b61f6"
      },
      "execution_count": null,
      "outputs": [
        {
          "output_type": "execute_result",
          "data": {
            "text/plain": [
              "'Mouse'"
            ],
            "application/vnd.google.colaboratory.intrinsic+json": {
              "type": "string"
            }
          },
          "metadata": {},
          "execution_count": 68
        }
      ]
    },
    {
      "cell_type": "code",
      "source": [
        "np.mean(prices)"
      ],
      "metadata": {
        "colab": {
          "base_uri": "https://localhost:8080/"
        },
        "id": "c9X72_egDQbb",
        "outputId": "35663f88-25b2-434c-96fe-5083fae0008e"
      },
      "execution_count": null,
      "outputs": [
        {
          "output_type": "execute_result",
          "data": {
            "text/plain": [
              "np.float64(12100.0)"
            ]
          },
          "metadata": {},
          "execution_count": 87
        }
      ]
    },
    {
      "cell_type": "code",
      "source": [
        "np.sum(qunatities)"
      ],
      "metadata": {
        "colab": {
          "base_uri": "https://localhost:8080/"
        },
        "id": "5k9_kJYbDQYz",
        "outputId": "fd643efe-bf52-4bfe-f03c-690a65b636e9"
      },
      "execution_count": null,
      "outputs": [
        {
          "output_type": "execute_result",
          "data": {
            "text/plain": [
              "np.int64(7)"
            ]
          },
          "metadata": {},
          "execution_count": 74
        }
      ]
    },
    {
      "cell_type": "code",
      "source": [
        "np.unique(products, return_counts=True)"
      ],
      "metadata": {
        "colab": {
          "base_uri": "https://localhost:8080/"
        },
        "id": "QfgkZBElDQWO",
        "outputId": "df5ca7b6-429a-470c-a953-a31e7dca8558"
      },
      "execution_count": null,
      "outputs": [
        {
          "output_type": "execute_result",
          "data": {
            "text/plain": [
              "(array(['Headphones', 'Keyboard', 'Laptop', 'Monitor', 'Mouse'],\n",
              "       dtype=object),\n",
              " array([1, 1, 1, 1, 1]))"
            ]
          },
          "metadata": {},
          "execution_count": 75
        }
      ]
    },
    {
      "cell_type": "code",
      "source": [
        "np.unique(products, return_counts=True)[0]"
      ],
      "metadata": {
        "colab": {
          "base_uri": "https://localhost:8080/"
        },
        "id": "4-3oSKy7cY_G",
        "outputId": "d2061bb5-60dc-4cd7-dff5-b01faf1c121a"
      },
      "execution_count": null,
      "outputs": [
        {
          "output_type": "execute_result",
          "data": {
            "text/plain": [
              "array(['Headphones', 'Keyboard', 'Laptop', 'Monitor', 'Mouse'],\n",
              "      dtype=object)"
            ]
          },
          "metadata": {},
          "execution_count": 92
        }
      ]
    },
    {
      "cell_type": "code",
      "source": [
        "[np.argmax(np.unique(products, return_counts=True)[1])]"
      ],
      "metadata": {
        "colab": {
          "base_uri": "https://localhost:8080/"
        },
        "id": "bIhtbhw_cgPJ",
        "outputId": "b348194a-00e9-4280-f0d9-78978bf7d8a1"
      },
      "execution_count": null,
      "outputs": [
        {
          "output_type": "execute_result",
          "data": {
            "text/plain": [
              "[np.int64(0)]"
            ]
          },
          "metadata": {},
          "execution_count": 93
        }
      ]
    },
    {
      "cell_type": "code",
      "source": [
        "np.unique(products, return_counts=True)[0][np.argmax(np.unique(products, return_counts=True)[0])]"
      ],
      "metadata": {
        "colab": {
          "base_uri": "https://localhost:8080/",
          "height": 36
        },
        "id": "RT5B-qc-c5EU",
        "outputId": "2a7a45c2-82ca-4577-fcbf-83bca24e177b"
      },
      "execution_count": null,
      "outputs": [
        {
          "output_type": "execute_result",
          "data": {
            "text/plain": [
              "'Mouse'"
            ],
            "application/vnd.google.colaboratory.intrinsic+json": {
              "type": "string"
            }
          },
          "metadata": {},
          "execution_count": 98
        }
      ]
    },
    {
      "cell_type": "code",
      "source": [
        "np.unique(products, return_counts=True)[0][np.argmax(np.unique(products, return_counts=True)[1])]"
      ],
      "metadata": {
        "colab": {
          "base_uri": "https://localhost:8080/",
          "height": 36
        },
        "id": "aRK1If_INngp",
        "outputId": "3df310e6-08b8-451b-8a4b-33864f3ec9ad"
      },
      "execution_count": null,
      "outputs": [
        {
          "output_type": "execute_result",
          "data": {
            "text/plain": [
              "'Headphones'"
            ],
            "application/vnd.google.colaboratory.intrinsic+json": {
              "type": "string"
            }
          },
          "metadata": {},
          "execution_count": 89
        }
      ]
    },
    {
      "cell_type": "code",
      "source": [
        "len(np.unique(products))"
      ],
      "metadata": {
        "colab": {
          "base_uri": "https://localhost:8080/"
        },
        "id": "MDMhn3ruDQTc",
        "outputId": "879f00b3-6f4a-42b3-8794-fff3391f16f6"
      },
      "execution_count": null,
      "outputs": [
        {
          "output_type": "execute_result",
          "data": {
            "text/plain": [
              "5"
            ]
          },
          "metadata": {},
          "execution_count": 76
        }
      ]
    },
    {
      "cell_type": "code",
      "source": [
        "len(np.unique(customer_ids))"
      ],
      "metadata": {
        "colab": {
          "base_uri": "https://localhost:8080/"
        },
        "id": "KQ_EVCeFDQQl",
        "outputId": "640dba95-9638-435d-c1f0-92eda4ebf829"
      },
      "execution_count": null,
      "outputs": [
        {
          "output_type": "execute_result",
          "data": {
            "text/plain": [
              "5"
            ]
          },
          "metadata": {},
          "execution_count": 77
        }
      ]
    },
    {
      "cell_type": "code",
      "source": [
        "products.tolist()"
      ],
      "metadata": {
        "id": "UWsEofMTDQNi",
        "colab": {
          "base_uri": "https://localhost:8080/"
        },
        "outputId": "6fc2ee7f-93b2-4166-8198-22d04ea07cb9"
      },
      "execution_count": null,
      "outputs": [
        {
          "output_type": "execute_result",
          "data": {
            "text/plain": [
              "['Laptop', 'Mouse', 'Keyboard', 'Monitor', 'Headphones']"
            ]
          },
          "metadata": {},
          "execution_count": 90
        }
      ]
    },
    {
      "cell_type": "code",
      "source": [
        "{prod: np.sum(totals[products == prod]) for prod in np.unique(products)}"
      ],
      "metadata": {
        "colab": {
          "base_uri": "https://localhost:8080/"
        },
        "id": "AFi1d4J5a-g_",
        "outputId": "e6125b6d-b35c-4d5b-cb9b-3fab4d8b9ecd"
      },
      "execution_count": null,
      "outputs": [
        {
          "output_type": "execute_result",
          "data": {
            "text/plain": [
              "{'Headphones': np.int64(2000),\n",
              " 'Keyboard': np.int64(1000),\n",
              " 'Laptop': np.int64(50000),\n",
              " 'Monitor': np.int64(14000),\n",
              " 'Mouse': np.int64(1000)}"
            ]
          },
          "metadata": {},
          "execution_count": 100
        }
      ]
    },
    {
      "cell_type": "code",
      "source": [
        "{prod: np.sum(qunatities[products == prod]) for prod in np.unique(products)}"
      ],
      "metadata": {
        "colab": {
          "base_uri": "https://localhost:8080/"
        },
        "id": "01oJXOu2a_qK",
        "outputId": "1b628c47-8202-4ba4-ba50-643fed32adc2"
      },
      "execution_count": null,
      "outputs": [
        {
          "output_type": "execute_result",
          "data": {
            "text/plain": [
              "{'Headphones': np.int64(1),\n",
              " 'Keyboard': np.int64(1),\n",
              " 'Laptop': np.int64(1),\n",
              " 'Monitor': np.int64(2),\n",
              " 'Mouse': np.int64(2)}"
            ]
          },
          "metadata": {},
          "execution_count": 102
        }
      ]
    },
    {
      "cell_type": "code",
      "source": [
        " np.max(prices)"
      ],
      "metadata": {
        "colab": {
          "base_uri": "https://localhost:8080/"
        },
        "id": "e4eoKI1Ka_mp",
        "outputId": "6a3f3703-a4d1-4aa3-9a7a-0187df075292"
      },
      "execution_count": null,
      "outputs": [
        {
          "output_type": "execute_result",
          "data": {
            "text/plain": [
              "np.int64(50000)"
            ]
          },
          "metadata": {},
          "execution_count": 103
        }
      ]
    },
    {
      "cell_type": "code",
      "source": [
        "np.min(prices)"
      ],
      "metadata": {
        "colab": {
          "base_uri": "https://localhost:8080/"
        },
        "id": "AWw8dss1a_j7",
        "outputId": "91994186-ed72-4038-92b3-bad6a53d0226"
      },
      "execution_count": null,
      "outputs": [
        {
          "output_type": "execute_result",
          "data": {
            "text/plain": [
              "np.int64(500)"
            ]
          },
          "metadata": {},
          "execution_count": 105
        }
      ]
    },
    {
      "cell_type": "code",
      "source": [
        "products[qunatities > 1].tolist(),"
      ],
      "metadata": {
        "colab": {
          "base_uri": "https://localhost:8080/"
        },
        "id": "9_LTozyRa_g9",
        "outputId": "99ce5e5f-2358-42f5-ee02-af5da708c222"
      },
      "execution_count": null,
      "outputs": [
        {
          "output_type": "execute_result",
          "data": {
            "text/plain": [
              "(['Mouse', 'Monitor'],)"
            ]
          },
          "metadata": {},
          "execution_count": 107
        }
      ]
    },
    {
      "cell_type": "code",
      "source": [
        " customer_ids[qunatities > 1].tolist()"
      ],
      "metadata": {
        "colab": {
          "base_uri": "https://localhost:8080/"
        },
        "id": "WNzoOhcma_eP",
        "outputId": "33d8c693-ba22-4b62-a4b3-cfaf28b86195"
      },
      "execution_count": null,
      "outputs": [
        {
          "output_type": "execute_result",
          "data": {
            "text/plain": [
              "[1002, 1004]"
            ]
          },
          "metadata": {},
          "execution_count": 109
        }
      ]
    },
    {
      "cell_type": "code",
      "source": [
        "np.sum(totals[customer_ids == 1002])"
      ],
      "metadata": {
        "colab": {
          "base_uri": "https://localhost:8080/"
        },
        "id": "LiRnatk0a_bf",
        "outputId": "40f0f04e-22dc-4e71-f04f-e8ac380ed73d"
      },
      "execution_count": null,
      "outputs": [
        {
          "output_type": "execute_result",
          "data": {
            "text/plain": [
              "np.int64(1000)"
            ]
          },
          "metadata": {},
          "execution_count": 110
        }
      ]
    },
    {
      "cell_type": "code",
      "source": [
        "products[prices > 1000].tolist()\n",
        "\n",
        "\n"
      ],
      "metadata": {
        "colab": {
          "base_uri": "https://localhost:8080/"
        },
        "id": "Eaq5k6Faa_Yy",
        "outputId": "5bdfb453-8559-4f93-9303-bb8796ec928f"
      },
      "execution_count": null,
      "outputs": [
        {
          "output_type": "execute_result",
          "data": {
            "text/plain": [
              "['Laptop', 'Monitor', 'Headphones']"
            ]
          },
          "metadata": {},
          "execution_count": 111
        }
      ]
    },
    {
      "cell_type": "code",
      "source": [
        "products[totals >= 2000].tolist()"
      ],
      "metadata": {
        "colab": {
          "base_uri": "https://localhost:8080/"
        },
        "id": "N6lQ9YE_a-df",
        "outputId": "45dfd8c9-8480-4824-a405-b6af58cb0380"
      },
      "execution_count": null,
      "outputs": [
        {
          "output_type": "execute_result",
          "data": {
            "text/plain": [
              "['Laptop', 'Monitor', 'Headphones']"
            ]
          },
          "metadata": {},
          "execution_count": 112
        }
      ]
    },
    {
      "cell_type": "code",
      "source": [],
      "metadata": {
        "id": "_UbGHExda-ak"
      },
      "execution_count": null,
      "outputs": []
    },
    {
      "cell_type": "code",
      "source": [],
      "metadata": {
        "id": "Xdesf0kIa-X9"
      },
      "execution_count": null,
      "outputs": []
    },
    {
      "cell_type": "code",
      "source": [],
      "metadata": {
        "id": "ikprmCRCa-U0"
      },
      "execution_count": null,
      "outputs": []
    },
    {
      "cell_type": "code",
      "source": [],
      "metadata": {
        "id": "hZbxWseya-Rg"
      },
      "execution_count": null,
      "outputs": []
    },
    {
      "cell_type": "code",
      "source": [],
      "metadata": {
        "id": "ShoYDUEFa-Of"
      },
      "execution_count": null,
      "outputs": []
    }
  ]
}
