{
  "nbformat": 4,
  "nbformat_minor": 0,
  "metadata": {
    "colab": {
      "provenance": []
    },
    "kernelspec": {
      "name": "python3",
      "display_name": "Python 3"
    },
    "language_info": {
      "name": "python"
    }
  },
  "cells": [
    {
      "cell_type": "code",
      "execution_count": 1,
      "metadata": {
        "colab": {
          "base_uri": "https://localhost:8080/"
        },
        "id": "qSXBnemhRbzQ",
        "outputId": "71381aae-6717-4864-baa9-c531647ca4f5"
      },
      "outputs": [
        {
          "output_type": "stream",
          "name": "stdout",
          "text": [
            "\n",
            "\n",
            "2 \n",
            "\n",
            "2 3 \n",
            "\n",
            "2 3 4 \n",
            "\n",
            "2 3 4 5 \n",
            "\n",
            "2 3 4 5 6 \n",
            "\n"
          ]
        }
      ],
      "source": [
        "for i in range(2,8):\n",
        "    for j in range(2,i):\n",
        "        print(j, end=\" \")\n",
        "    print(\"\\n\")\n",
        "\n"
      ]
    },
    {
      "cell_type": "code",
      "source": [
        "for i in range(71, 75):\n",
        "    for j in range(71,i):\n",
        "        print(chr(j), end=\" \")\n",
        "    print(\"\\n\")"
      ],
      "metadata": {
        "colab": {
          "base_uri": "https://localhost:8080/"
        },
        "id": "vL_nXU9ayfHb",
        "outputId": "41df98b6-6f2b-4cc9-e9e2-e4b4bf21466d"
      },
      "execution_count": 2,
      "outputs": [
        {
          "output_type": "stream",
          "name": "stdout",
          "text": [
            "\n",
            "\n",
            "G \n",
            "\n",
            "G H \n",
            "\n",
            "G H I \n",
            "\n"
          ]
        }
      ]
    },
    {
      "cell_type": "code",
      "source": [
        "for i in range(1,5):\n",
        "    print(\"*\"*i, end=\"\\n\")"
      ],
      "metadata": {
        "colab": {
          "base_uri": "https://localhost:8080/"
        },
        "id": "eHq0cgs_yfCX",
        "outputId": "ff19ca71-8409-437c-b933-b98eb2a13748"
      },
      "execution_count": 19,
      "outputs": [
        {
          "output_type": "stream",
          "name": "stdout",
          "text": [
            "*\n",
            "**\n",
            "***\n",
            "****\n"
          ]
        }
      ]
    },
    {
      "cell_type": "code",
      "source": [
        "for i in range(3,9):\n",
        "    for j in range(0,i):\n",
        "        print(i, end=\" \")\n",
        "    print(\"\\n\")"
      ],
      "metadata": {
        "colab": {
          "base_uri": "https://localhost:8080/"
        },
        "id": "KbpamzYMyfAC",
        "outputId": "dc92c6ff-4921-4c32-c834-cd50ef3edae3"
      },
      "execution_count": 22,
      "outputs": [
        {
          "output_type": "stream",
          "name": "stdout",
          "text": [
            "3 3 3 \n",
            "\n",
            "4 4 4 4 \n",
            "\n",
            "5 5 5 5 5 \n",
            "\n",
            "6 6 6 6 6 6 \n",
            "\n",
            "7 7 7 7 7 7 7 \n",
            "\n",
            "8 8 8 8 8 8 8 8 \n",
            "\n"
          ]
        }
      ]
    },
    {
      "cell_type": "code",
      "source": [
        "x=1\n",
        "for i in range(66,73):\n",
        "  print(chr (i)*x, end=\"\\n\")\n",
        "  x=x+1\n",
        ""
      ],
      "metadata": {
        "colab": {
          "base_uri": "https://localhost:8080/"
        },
        "id": "3r2ndQWEye9K",
        "outputId": "33d63e47-d5bf-4dd7-a80b-dfa4748e71d9"
      },
      "execution_count": 23,
      "outputs": [
        {
          "output_type": "stream",
          "name": "stdout",
          "text": [
            "B\n",
            "CC\n",
            "DDD\n",
            "EEEE\n",
            "FFFFF\n",
            "GGGGGG\n",
            "HHHHHHH\n"
          ]
        }
      ]
    },
    {
      "cell_type": "code",
      "source": [
        "x=1\n",
        "for i in range(5,0,-1):\n",
        "    print(\" \"*i,x*\"*\")\n",
        "    x=x+1\n",
        ""
      ],
      "metadata": {
        "colab": {
          "base_uri": "https://localhost:8080/"
        },
        "id": "dZIJ2cgFye6i",
        "outputId": "d147d781-5fe7-474a-ff6e-25bef2228100"
      },
      "execution_count": 26,
      "outputs": [
        {
          "output_type": "stream",
          "name": "stdout",
          "text": [
            "      *\n",
            "     **\n",
            "    ***\n",
            "   ****\n",
            "  *****\n"
          ]
        }
      ]
    },
    {
      "cell_type": "code",
      "source": [
        "for i in range(1,13,2):\n",
        "    print((i*\"*\").center(12,\" \"))\n",
        ""
      ],
      "metadata": {
        "colab": {
          "base_uri": "https://localhost:8080/"
        },
        "id": "mQB1GC-GrWoL",
        "outputId": "f409c4dd-6a47-44af-b48c-a0da838f8285"
      },
      "execution_count": 27,
      "outputs": [
        {
          "output_type": "stream",
          "name": "stdout",
          "text": [
            "     *      \n",
            "    ***     \n",
            "   *****    \n",
            "  *******   \n",
            " *********  \n",
            "*********** \n"
          ]
        }
      ]
    },
    {
      "cell_type": "code",
      "source": [
        "s=\" \"\n",
        "for j in range(1,6):\n",
        "    s+=f\"{j}\"+\" \"\n",
        "    print(s.center(11, \" \"))\n",
        "s=\" \""
      ],
      "metadata": {
        "colab": {
          "base_uri": "https://localhost:8080/"
        },
        "id": "LmiMawwCrWi3",
        "outputId": "30f5f2ba-a951-4d67-ba92-1fbcdcfe6ab0"
      },
      "execution_count": 31,
      "outputs": [
        {
          "output_type": "stream",
          "name": "stdout",
          "text": [
            "     1     \n",
            "    1 2    \n",
            "   1 2 3   \n",
            "  1 2 3 4  \n",
            " 1 2 3 4 5 \n"
          ]
        }
      ]
    },
    {
      "cell_type": "code",
      "source": [
        "s=\" \"\n",
        "for j in range(5,0,-1):\n",
        "    s+=f\"{j}\"+\" \"\n",
        "    print(s.center(11, \" \"))\n",
        "s=\" \""
      ],
      "metadata": {
        "colab": {
          "base_uri": "https://localhost:8080/"
        },
        "id": "KNacTlANrgtA",
        "outputId": "c94e4171-149a-42fc-d917-50ec0d60a066"
      },
      "execution_count": 33,
      "outputs": [
        {
          "output_type": "stream",
          "name": "stdout",
          "text": [
            "     5     \n",
            "    5 4    \n",
            "   5 4 3   \n",
            "  5 4 3 2  \n",
            " 5 4 3 2 1 \n"
          ]
        }
      ]
    },
    {
      "cell_type": "code",
      "source": [
        "x=\"\"\n",
        "for i in range(65,71):\n",
        "        x=x+chr(i)+\" \"\n",
        "        print(x.center(12,\" \"))\n",
        "        print(\"\\n\")"
      ],
      "metadata": {
        "colab": {
          "base_uri": "https://localhost:8080/"
        },
        "id": "I3UidPcorgpg",
        "outputId": "31d91cc8-e59b-4f01-f17d-eb83136df10b"
      },
      "execution_count": 34,
      "outputs": [
        {
          "output_type": "stream",
          "name": "stdout",
          "text": [
            "     A      \n",
            "\n",
            "\n",
            "    A B     \n",
            "\n",
            "\n",
            "   A B C    \n",
            "\n",
            "\n",
            "  A B C D   \n",
            "\n",
            "\n",
            " A B C D E  \n",
            "\n",
            "\n",
            "A B C D E F \n",
            "\n",
            "\n"
          ]
        }
      ]
    },
    {
      "cell_type": "code",
      "source": [
        "x=\"\"\n",
        "for i in range(70,64,-1):\n",
        "        x=x+chr(i)+\" \"\n",
        "        print(x.center(12,\" \"))\n",
        "        print(\"\\n\")"
      ],
      "metadata": {
        "colab": {
          "base_uri": "https://localhost:8080/"
        },
        "id": "YP5AdeJvrgml",
        "outputId": "8ba14f4e-8cb5-43bb-abf5-53fc46216dd3"
      },
      "execution_count": 35,
      "outputs": [
        {
          "output_type": "stream",
          "name": "stdout",
          "text": [
            "     F      \n",
            "\n",
            "\n",
            "    F E     \n",
            "\n",
            "\n",
            "   F E D    \n",
            "\n",
            "\n",
            "  F E D C   \n",
            "\n",
            "\n",
            " F E D C B  \n",
            "\n",
            "\n",
            "F E D C B A \n",
            "\n",
            "\n"
          ]
        }
      ]
    },
    {
      "cell_type": "code",
      "source": [
        "for i in range(1,10,3):\n",
        "    str=\"*\"*i\n",
        "    print(str.center(12, \" \"))\n",
        ""
      ],
      "metadata": {
        "colab": {
          "base_uri": "https://localhost:8080/"
        },
        "id": "bR8NyJR2rgjp",
        "outputId": "e42cd255-eef0-4af7-97e4-4a94f554bbd1"
      },
      "execution_count": 10,
      "outputs": [
        {
          "output_type": "stream",
          "name": "stdout",
          "text": [
            "     *      \n",
            "    ****    \n",
            "  *******   \n"
          ]
        }
      ]
    },
    {
      "cell_type": "code",
      "source": [
        "s=\" \"\n",
        "for i in range(1,7):\n",
        "    for j in range(1,i+1):\n",
        "        s+=f\"{i}\"+\" \"\n",
        "    print(s.center(13, \" \"))\n",
        "    s=\" \""
      ],
      "metadata": {
        "colab": {
          "base_uri": "https://localhost:8080/"
        },
        "id": "rmnq9Uiarggh",
        "outputId": "95299597-5ec8-438c-b813-678627e8858e"
      },
      "execution_count": 11,
      "outputs": [
        {
          "output_type": "stream",
          "name": "stdout",
          "text": [
            "      1      \n",
            "     2 2     \n",
            "    3 3 3    \n",
            "   4 4 4 4   \n",
            "  5 5 5 5 5  \n",
            " 6 6 6 6 6 6 \n"
          ]
        }
      ]
    },
    {
      "cell_type": "code",
      "source": [
        "s=\" \"\n",
        "for i in range(65,70):\n",
        "    for j in range(0,i-64):\n",
        "        s+=chr(i)+\" \"\n",
        "    print(s.center(15, \" \"))\n",
        "    s=\" \""
      ],
      "metadata": {
        "colab": {
          "base_uri": "https://localhost:8080/"
        },
        "id": "vudERX55rWgO",
        "outputId": "80f6d19e-4013-4ca8-a510-524f21a29f0a"
      },
      "execution_count": 37,
      "outputs": [
        {
          "output_type": "stream",
          "name": "stdout",
          "text": [
            "       A       \n",
            "      B B      \n",
            "     C C C     \n",
            "    D D D D    \n",
            "   E E E E E   \n"
          ]
        }
      ]
    },
    {
      "cell_type": "code",
      "source": [
        "s=\" \"\n",
        "for j in range (1,7):\n",
        "    s+=f\"{j}\"+\" \"\n",
        "    print(s.center(15,\" \"))\n",
        "s=\" \""
      ],
      "metadata": {
        "colab": {
          "base_uri": "https://localhost:8080/"
        },
        "id": "re_6ykqOr4Wa",
        "outputId": "d87e6723-021b-4bb7-994e-1551236cfe26"
      },
      "execution_count": 39,
      "outputs": [
        {
          "output_type": "stream",
          "name": "stdout",
          "text": [
            "       1       \n",
            "      1 2      \n",
            "     1 2 3     \n",
            "    1 2 3 4    \n",
            "   1 2 3 4 5   \n",
            "  1 2 3 4 5 6  \n"
          ]
        }
      ]
    },
    {
      "cell_type": "code",
      "source": [
        "for i in range(6,0,-1):\n",
        "    for j in range (1,i):\n",
        "        print(j, end=\" \")\n",
        "    print(\"\\n\")"
      ],
      "metadata": {
        "colab": {
          "base_uri": "https://localhost:8080/"
        },
        "id": "m7th8aCAr4S8",
        "outputId": "2eedd567-e894-4360-ff0d-3c812bab9d99"
      },
      "execution_count": 42,
      "outputs": [
        {
          "output_type": "stream",
          "name": "stdout",
          "text": [
            "1 2 3 4 5 \n",
            "\n",
            "1 2 3 4 \n",
            "\n",
            "1 2 3 \n",
            "\n",
            "1 2 \n",
            "\n",
            "1 \n",
            "\n",
            "\n",
            "\n"
          ]
        }
      ]
    },
    {
      "cell_type": "code",
      "source": [
        "x=5\n",
        "for i in range(5,0,-1):\n",
        "    for j in range (i,0,-1):\n",
        "        print(x, end=\" \")\n",
        "        x=x-1\n",
        "    print(\"\\n\")\n",
        "    x=5\n",
        ""
      ],
      "metadata": {
        "colab": {
          "base_uri": "https://localhost:8080/"
        },
        "id": "PRhYHA9Wr4Qq",
        "outputId": "199d3e09-b2e5-4ad3-f254-bd154eef86b4"
      },
      "execution_count": 46,
      "outputs": [
        {
          "output_type": "stream",
          "name": "stdout",
          "text": [
            "5 4 3 2 1 \n",
            "\n",
            "5 4 3 2 \n",
            "\n",
            "5 4 3 \n",
            "\n",
            "5 4 \n",
            "\n",
            "5 \n",
            "\n"
          ]
        }
      ]
    },
    {
      "cell_type": "code",
      "source": [
        "x=5\n",
        "for i in range(1,6):\n",
        "    for j in range (i,0,-1):\n",
        "        print(x, end=\" \")\n",
        "        x=x-1\n",
        "\n",
        "    print(\"\\n\")\n",
        "    x=5"
      ],
      "metadata": {
        "colab": {
          "base_uri": "https://localhost:8080/"
        },
        "id": "T9LcuJchsBgI",
        "outputId": "bf16d30b-7381-4940-d9a2-f2f3ec891939"
      },
      "execution_count": 48,
      "outputs": [
        {
          "output_type": "stream",
          "name": "stdout",
          "text": [
            "5 \n",
            "\n",
            "5 4 \n",
            "\n",
            "5 4 3 \n",
            "\n",
            "5 4 3 2 \n",
            "\n",
            "5 4 3 2 1 \n",
            "\n"
          ]
        }
      ]
    },
    {
      "cell_type": "code",
      "source": [
        "x=1\n",
        "for i in range(1,6):\n",
        "    for j in range (i,0,-1):\n",
        "        print(x, end=\" \")\n",
        "        x=x+1\n",
        "\n",
        "    print(\"\\n\")\n",
        ""
      ],
      "metadata": {
        "colab": {
          "base_uri": "https://localhost:8080/"
        },
        "id": "_zInWhzLsBcz",
        "outputId": "6f6d5c5e-6864-4f46-ef34-6d94304221dd"
      },
      "execution_count": 17,
      "outputs": [
        {
          "output_type": "stream",
          "name": "stdout",
          "text": [
            "1 \n",
            "\n",
            "2 3 \n",
            "\n",
            "4 5 6 \n",
            "\n",
            "7 8 9 10 \n",
            "\n",
            "11 12 13 14 15 \n",
            "\n"
          ]
        }
      ]
    },
    {
      "cell_type": "code",
      "source": [
        "for i in range(1,6):\n",
        "    for j in range (65,71-i):\n",
        "        print(chr(j), end=\" \")\n",
        "\n",
        "    print(\"\\n\")\n",
        ""
      ],
      "metadata": {
        "colab": {
          "base_uri": "https://localhost:8080/"
        },
        "id": "NLihR_YcsHcq",
        "outputId": "bc3e495b-3704-4002-f47e-c32b17fe64f5"
      },
      "execution_count": 50,
      "outputs": [
        {
          "output_type": "stream",
          "name": "stdout",
          "text": [
            "A B C D E \n",
            "\n",
            "A B C D \n",
            "\n",
            "A B C \n",
            "\n",
            "A B \n",
            "\n",
            "A \n",
            "\n"
          ]
        }
      ]
    }
  ]
}