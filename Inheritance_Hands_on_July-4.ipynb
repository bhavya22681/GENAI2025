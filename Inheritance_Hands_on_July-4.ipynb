{
  "nbformat": 4,
  "nbformat_minor": 0,
  "metadata": {
    "colab": {
      "provenance": []
    },
    "kernelspec": {
      "name": "python3",
      "display_name": "Python 3"
    },
    "language_info": {
      "name": "python"
    }
  },
  "cells": [
    {
      "cell_type": "markdown",
      "source": [
        "## Single Inheritance"
      ],
      "metadata": {
        "id": "5VErllAWtghO"
      }
    },
    {
      "cell_type": "code",
      "source": [
        "class Animal:\n",
        "    def __init__(self, name):\n",
        "        self.name = name\n",
        "        print(f\"[Animal] Initialized: {self.name}\")\n",
        "\n",
        "    def make_sound(self):\n",
        "        print(f\"[Animal] {self.name} is making a sound.\")\n",
        "\n",
        "class Dog(Animal):\n",
        "    def __init__(self, name, breed):\n",
        "        super().__init__(name)\n",
        "        self.breed = breed\n",
        "        print(f\"[Dog] Initialized: {self.breed}\")\n",
        "\n",
        "    def bark(self):\n",
        "        print(f\"[Dog] {self.name} the {self.breed} is barking!\")\n",
        "\n",
        "my_dog = Dog(\"Buddy\", \"Labrador\")\n",
        "\n",
        "my_dog.make_sound()\n",
        "my_dog.bark()"
      ],
      "metadata": {
        "colab": {
          "base_uri": "https://localhost:8080/"
        },
        "id": "IXGUBRuEtgE9",
        "outputId": "3a69c490-98e3-4694-f30a-4583d2d69ab6"
      },
      "execution_count": 46,
      "outputs": [
        {
          "output_type": "stream",
          "name": "stdout",
          "text": [
            "[Animal] Initialized: Buddy\n",
            "[Dog] Initialized: Labrador\n",
            "[Animal] Buddy is making a sound.\n",
            "[Dog] Buddy the Labrador is barking!\n"
          ]
        }
      ]
    },
    {
      "cell_type": "code",
      "source": [],
      "metadata": {
        "id": "W4OFRoEDtgBk"
      },
      "execution_count": null,
      "outputs": []
    },
    {
      "cell_type": "code",
      "source": [
        "class Fruit:\n",
        "    def __init__(self, color):\n",
        "        self.color = color\n",
        "        print(f\"[Fruit] Color: {self.color}\")\n",
        "\n",
        "    def describe(self):\n",
        "        print(f\"[Fruit] This fruit is {self.color}.\")\n",
        "\n",
        "class Apple(Fruit):\n",
        "    def __init__(self, color, taste):\n",
        "        super().__init__(color)\n",
        "        self.taste = taste\n",
        "        print(f\"[Apple] Taste: {self.taste}\")\n",
        "\n",
        "    def describe(self):\n",
        "        print(f\"[Apple] This apple tastes {self.taste}.\")\n",
        "\n",
        "my_apple = Apple(\"Red\", \"Sweet\")\n",
        "my_apple.describe()\n",
        "my_apple.describe()"
      ],
      "metadata": {
        "colab": {
          "base_uri": "https://localhost:8080/"
        },
        "id": "7ULr6cmktf_B",
        "outputId": "8941ef17-9b09-4f4b-aaf8-1809e64b1ded"
      },
      "execution_count": 47,
      "outputs": [
        {
          "output_type": "stream",
          "name": "stdout",
          "text": [
            "[Fruit] Color: Red\n",
            "[Apple] Taste: Sweet\n",
            "[Apple] This apple tastes Sweet.\n",
            "[Apple] This apple tastes Sweet.\n"
          ]
        }
      ]
    },
    {
      "cell_type": "code",
      "source": [],
      "metadata": {
        "id": "Yi0Zapx9tf8f"
      },
      "execution_count": null,
      "outputs": []
    },
    {
      "cell_type": "code",
      "source": [
        "class Book:\n",
        "    def __init__(self, title):\n",
        "        self.title = title\n",
        "        print(f\"[Book] Title: {self.title}\")\n",
        "\n",
        "    def read(self):\n",
        "        print(f\"[Book] Reading {self.title}\")\n",
        "\n",
        "class Novel(Book):\n",
        "    def __init__(self, title, author):\n",
        "        super().__init__(title)\n",
        "        self.author = author\n",
        "        print(f\"[Novel] Author: {self.author}\")\n",
        "\n",
        "    def read(self):\n",
        "        print(f\"[Novel] {self.title} by {self.author}\")\n",
        "\n",
        "my_novel = Novel(\"1984\", \"George Orwell\")\n",
        "my_novel.read()\n",
        "my_novel.read()"
      ],
      "metadata": {
        "colab": {
          "base_uri": "https://localhost:8080/"
        },
        "id": "Fnpy0EJZuRli",
        "outputId": "5d8cfa8b-ad26-42a2-e56d-250986786655"
      },
      "execution_count": 48,
      "outputs": [
        {
          "output_type": "stream",
          "name": "stdout",
          "text": [
            "[Book] Title: 1984\n",
            "[Novel] Author: George Orwell\n",
            "[Novel] 1984 by George Orwell\n",
            "[Novel] 1984 by George Orwell\n"
          ]
        }
      ]
    },
    {
      "cell_type": "code",
      "source": [],
      "metadata": {
        "id": "3BLz9vsKuRii"
      },
      "execution_count": null,
      "outputs": []
    },
    {
      "cell_type": "markdown",
      "source": [
        "### Multilevel Inheritance"
      ],
      "metadata": {
        "id": "fcNZtSqGwkQo"
      }
    },
    {
      "cell_type": "code",
      "source": [
        "class car:\n",
        "    def __init__(self, brand):\n",
        "        self.brand = brand\n",
        "        print(f\"[Vehicle] Initialized for brand: {self.brand}\")\n",
        "\n",
        "    def drive(self):\n",
        "        print(f\"[Vehicle] Starting engine of {self.brand}\")\n",
        "\n",
        "class Vehicle(car):\n",
        "    def __init__(self, brand, model):\n",
        "        super().__init__(brand)\n",
        "        self.model = model\n",
        "        print(f\"[Car] Initialized for model: {self.model}\")\n",
        "\n",
        "    def drive(self):\n",
        "        print(f\"[Car] Driving {self.brand} {self.model}\")\n",
        "\n",
        "class ElectricCar(Vehicle):\n",
        "    def __init__(self, brand, model, battery_range):\n",
        "        super().__init__(brand, model)\n",
        "        self.battery_range = battery_range\n",
        "        print(f\"[ElectricCar] Initialized with range: {self.battery_range} km\")\n",
        "\n",
        "    def charge(self):\n",
        "        print(f\"[ElectricCar] Charging {self.brand} {self.model}... Range: {self.battery_range} km\")\n",
        "\n",
        "    def drive(self):\n",
        "        print(f\"[ElectricCar] No engine to start. {self.brand} {self.model} is electric!\")\n",
        "\n",
        "my_electric_car = ElectricCar(\"Tesla\", \"Model 3\", 500)\n",
        "my_electric_car.drive()\n",
        "my_electric_car.charge()"
      ],
      "metadata": {
        "colab": {
          "base_uri": "https://localhost:8080/"
        },
        "id": "EG_PUiFquRfz",
        "outputId": "8e868243-f1ef-4ba4-8457-4649dcf2e782"
      },
      "execution_count": 49,
      "outputs": [
        {
          "output_type": "stream",
          "name": "stdout",
          "text": [
            "[Vehicle] Initialized for brand: Tesla\n",
            "[Car] Initialized for model: Model 3\n",
            "[ElectricCar] Initialized with range: 500 km\n",
            "[ElectricCar] No engine to start. Tesla Model 3 is electric!\n",
            "[ElectricCar] Charging Tesla Model 3... Range: 500 km\n"
          ]
        }
      ]
    },
    {
      "cell_type": "code",
      "source": [],
      "metadata": {
        "id": "xKa49fOkuRda"
      },
      "execution_count": null,
      "outputs": []
    },
    {
      "cell_type": "code",
      "source": [
        "class Device:\n",
        "    def __init__(self, name):\n",
        "        self.name = name\n",
        "        print(f\"[Device] Name: {self.name}\")\n",
        "\n",
        "    def power_on(self):\n",
        "        print(f\"[Device] Powering on {self.name}\")\n",
        "\n",
        "class Computer(Device):\n",
        "    def __init__(self, name, os):\n",
        "        super().__init__(name)\n",
        "        self.os = os\n",
        "        print(f\"[Computer] OS: {self.os}\")\n",
        "\n",
        "    def boot(self):\n",
        "        print(f\"[Computer] Booting {self.name} with {self.os}\")\n",
        "\n",
        "class Laptop(Computer):\n",
        "    def __init__(self, name, os, version):\n",
        "        super().__init__(name, os)\n",
        "        self.version = version\n",
        "        print(f\"[Laptop] Version: {self.version}\")\n",
        "\n",
        "    def run(self):\n",
        "        print(f\"[Laptop] {self.name} running {self.os} v{self.version}\")\n",
        "\n",
        "my_laptop = Laptop(\"ThinkPad\", \"Windows\", \"10\")\n",
        "my_laptop.power_on()\n",
        "my_laptop.boot()\n",
        "my_laptop.run()"
      ],
      "metadata": {
        "colab": {
          "base_uri": "https://localhost:8080/"
        },
        "id": "dLamnjg1uRbF",
        "outputId": "aee38d68-fa1d-430f-f5f5-c7ad7bb2d6e5"
      },
      "execution_count": 50,
      "outputs": [
        {
          "output_type": "stream",
          "name": "stdout",
          "text": [
            "[Device] Name: ThinkPad\n",
            "[Computer] OS: Windows\n",
            "[Laptop] Version: 10\n",
            "[Device] Powering on ThinkPad\n",
            "[Computer] Booting ThinkPad with Windows\n",
            "[Laptop] ThinkPad running Windows v10\n"
          ]
        }
      ]
    },
    {
      "cell_type": "code",
      "source": [],
      "metadata": {
        "id": "FpeZoLWouRYa"
      },
      "execution_count": null,
      "outputs": []
    },
    {
      "cell_type": "markdown",
      "source": [
        "## Multiple Inheritance"
      ],
      "metadata": {
        "id": "M4D02QNi1vfU"
      }
    },
    {
      "cell_type": "code",
      "source": [
        "class Bird:\n",
        "    def __init__(self):\n",
        "        print(\"[Flyer] Can fly!\")\n",
        "    def fly(self):\n",
        "        print(\"[Flyer] Flying...\")\n",
        "\n",
        "class Swimmer:\n",
        "    def __init__(self):\n",
        "        print(\"[Swimmer] Can swim!\")\n",
        "    def swim(self):\n",
        "        print(\"[Swimmer] Swimming...\")\n",
        "\n",
        "class Duck(Bird, Swimmer):\n",
        "    def __init__(self):\n",
        "        Bird.__init__(self)\n",
        "        Swimmer.__init__(self)\n",
        "        print(\"[Duck] Initialized!\")\n",
        "\n",
        "    def quack(self):\n",
        "        print(\"[Duck] Quacking!\")\n",
        "\n",
        "donald = Duck()\n",
        "donald.fly()\n",
        "donald.quack()\n",
        "donald.swim()"
      ],
      "metadata": {
        "colab": {
          "base_uri": "https://localhost:8080/"
        },
        "id": "k6ybTndRuRWA",
        "outputId": "70d569e2-7267-4aa8-ca92-324ff3ddf75c"
      },
      "execution_count": 51,
      "outputs": [
        {
          "output_type": "stream",
          "name": "stdout",
          "text": [
            "[Flyer] Can fly!\n",
            "[Swimmer] Can swim!\n",
            "[Duck] Initialized!\n",
            "[Flyer] Flying...\n",
            "[Duck] Quacking!\n",
            "[Swimmer] Swimming...\n"
          ]
        }
      ]
    },
    {
      "cell_type": "code",
      "source": [],
      "metadata": {
        "id": "qmi9TE3muRTc"
      },
      "execution_count": null,
      "outputs": []
    },
    {
      "cell_type": "code",
      "source": [
        "class Walker:\n",
        "    def walk(self):\n",
        "        print(\"[Walker] Walking...\")\n",
        "\n",
        "class Runner:\n",
        "    def run(self):\n",
        "        print(\"[Runner] Running...\")\n",
        "\n",
        "class Athlete(Walker, Runner):\n",
        "    def compete(self):\n",
        "        print(\"[Athlete] Competing!\")\n",
        "\n",
        "athlete = Athlete()\n",
        "athlete.walk()\n",
        "athlete.run()\n",
        "athlete.compete()"
      ],
      "metadata": {
        "colab": {
          "base_uri": "https://localhost:8080/"
        },
        "id": "fcA24JnvuRQ7",
        "outputId": "56ee93e9-a223-4248-d3be-09b3910aa924"
      },
      "execution_count": 52,
      "outputs": [
        {
          "output_type": "stream",
          "name": "stdout",
          "text": [
            "[Walker] Walking...\n",
            "[Runner] Running...\n",
            "[Athlete] Competing!\n"
          ]
        }
      ]
    },
    {
      "cell_type": "code",
      "source": [],
      "metadata": {
        "id": "HNzi4N-KuROG"
      },
      "execution_count": null,
      "outputs": []
    },
    {
      "cell_type": "code",
      "source": [
        "class Painter:\n",
        "    def paint(self):\n",
        "        print(\"[Painter] Painting...\")\n",
        "\n",
        "class Singer:\n",
        "    def sing(self):\n",
        "        print(\"[Singer] Singing...\")\n",
        "\n",
        "class Artist(Painter, Singer):\n",
        "    def perform(self):\n",
        "        print(\"[Artist] Performing!\")\n",
        "\n",
        "artist = Artist()\n",
        "artist.paint()\n",
        "artist.sing()\n",
        "artist.perform()"
      ],
      "metadata": {
        "colab": {
          "base_uri": "https://localhost:8080/"
        },
        "id": "weSInZ8DuRLB",
        "outputId": "6e2ff25a-906f-4ea7-bb5e-6398d42fa592"
      },
      "execution_count": 53,
      "outputs": [
        {
          "output_type": "stream",
          "name": "stdout",
          "text": [
            "[Painter] Painting...\n",
            "[Singer] Singing...\n",
            "[Artist] Performing!\n"
          ]
        }
      ]
    },
    {
      "cell_type": "code",
      "source": [],
      "metadata": {
        "id": "ku41Z1mMtf5-"
      },
      "execution_count": null,
      "outputs": []
    },
    {
      "cell_type": "markdown",
      "source": [
        "### Hybrid Inheritance"
      ],
      "metadata": {
        "id": "7PcAaS3-6L5Z"
      }
    },
    {
      "cell_type": "code",
      "source": [
        "class Person:\n",
        "    def __init__(self, name):\n",
        "        self.name = name\n",
        "        print(f\"[Person] Initialized: {self.name}\")\n",
        "\n",
        "class Employee(Person):\n",
        "    def work(self):\n",
        "        print(\"[Employee] Working...\")\n",
        "\n",
        "class Student(Person):\n",
        "    def study(self):\n",
        "        print(\"[Student] Studying...\")\n",
        "\n",
        "class Intern(Employee, Student):\n",
        "    def __init__(self, name):\n",
        "        super().__init__(name)\n",
        "        print(\"[Intern] Initialized!\")\n",
        "\n",
        "    def intern_task(self):\n",
        "        print(f\"[Intern] {self.name} is interning!\")\n",
        "\n",
        "intern = Intern(\"Alice\")\n",
        "intern.work()\n",
        "intern.study()\n",
        "intern.intern_task()"
      ],
      "metadata": {
        "colab": {
          "base_uri": "https://localhost:8080/"
        },
        "id": "Pw7cRoz26LbE",
        "outputId": "4557055f-19ae-4a8a-b60d-fbd5c3b703a5"
      },
      "execution_count": 54,
      "outputs": [
        {
          "output_type": "stream",
          "name": "stdout",
          "text": [
            "[Person] Initialized: Alice\n",
            "[Intern] Initialized!\n",
            "[Employee] Working...\n",
            "[Student] Studying...\n",
            "[Intern] Alice is interning!\n"
          ]
        }
      ]
    },
    {
      "cell_type": "code",
      "source": [],
      "metadata": {
        "id": "hTe0evS36LXk"
      },
      "execution_count": null,
      "outputs": []
    },
    {
      "cell_type": "code",
      "source": [
        "class Account:\n",
        "    def __init__(self, id):\n",
        "        self.id = id\n",
        "        print(f\"[Account] ID: {self.id}\")\n",
        "\n",
        "class Buyer:\n",
        "    def buy(self):\n",
        "        print(\"[Buyer] Buying...\")\n",
        "\n",
        "class Seller:\n",
        "    def sell(self):\n",
        "        print(\"[Seller] Selling...\")\n",
        "\n",
        "class MarketplaceUser(Account, Buyer, Seller):\n",
        "    def __init__(self, id):\n",
        "        Account.__init__(self, id)\n",
        "        print(\"[MarketplaceUser] Initialized!\")\n",
        "\n",
        "    def is_active(self):\n",
        "        print(f\"[MarketplaceUser] User {self.id} is active!\")\n",
        "\n",
        "user = MarketplaceUser(101)\n",
        "user.buy()\n",
        "user.sell()\n",
        "user.is_active()"
      ],
      "metadata": {
        "colab": {
          "base_uri": "https://localhost:8080/"
        },
        "id": "Q1VSJrAM6LUs",
        "outputId": "18e36672-bed3-4719-e1ba-1a3904a8e6ce"
      },
      "execution_count": 55,
      "outputs": [
        {
          "output_type": "stream",
          "name": "stdout",
          "text": [
            "[Account] ID: 101\n",
            "[MarketplaceUser] Initialized!\n",
            "[Buyer] Buying...\n",
            "[Seller] Selling...\n",
            "[MarketplaceUser] User 101 is active!\n"
          ]
        }
      ]
    },
    {
      "cell_type": "code",
      "source": [],
      "metadata": {
        "id": "QcSENGOr6LR6"
      },
      "execution_count": null,
      "outputs": []
    },
    {
      "cell_type": "code",
      "source": [
        "class Device:\n",
        "    def __init__(self, name):\n",
        "        self.name = name\n",
        "        print(f\"[Device] Name: {self.name}\")\n",
        "\n",
        "class Camera(Device):\n",
        "    def take_photo(self):\n",
        "        print(\"[Camera] Taking photo...\")\n",
        "\n",
        "class Phone(Device):\n",
        "    def make_call(self):\n",
        "        print(\"[Phone] Making call...\")\n",
        "\n",
        "class Smartphone(Camera, Phone):\n",
        "    def __init__(self, name):\n",
        "        super().__init__(name)\n",
        "        print(\"[Smartphone] Ready!\")\n",
        "\n",
        "    def is_smart(self):\n",
        "        print(f\"[Smartphone] {self.name} is smart!\")\n",
        "\n",
        "sp = Smartphone(\"Pixel\")\n",
        "sp.take_photo()\n",
        "sp.make_call()\n",
        "sp.is_smart()"
      ],
      "metadata": {
        "colab": {
          "base_uri": "https://localhost:8080/"
        },
        "id": "TBehE3Ol6LPV",
        "outputId": "2365ecf6-3b9a-4752-ec06-59dc4e6a3d74"
      },
      "execution_count": 56,
      "outputs": [
        {
          "output_type": "stream",
          "name": "stdout",
          "text": [
            "[Device] Name: Pixel\n",
            "[Smartphone] Ready!\n",
            "[Camera] Taking photo...\n",
            "[Phone] Making call...\n",
            "[Smartphone] Pixel is smart!\n"
          ]
        }
      ]
    },
    {
      "cell_type": "code",
      "source": [],
      "metadata": {
        "id": "V7vCn1Pq614e"
      },
      "execution_count": null,
      "outputs": []
    },
    {
      "cell_type": "markdown",
      "source": [
        "## Hierarchical Inheritance"
      ],
      "metadata": {
        "id": "eC3nkax77YMR"
      }
    },
    {
      "cell_type": "code",
      "source": [
        "class Shape:\n",
        "    def __init__(self, name):\n",
        "        self.name = name\n",
        "        print(f\"[Shape] Initialized: {self.name}\")\n",
        "\n",
        "    def draw(self):\n",
        "        print(f\"[Shape] Drawing {self.name}\")\n",
        "\n",
        "class Circle(Shape):\n",
        "    def __init__(self, name, radius):\n",
        "        super().__init__(name)\n",
        "        self.radius = radius\n",
        "        print(f\"[Circle] Radius: {self.radius}\")\n",
        "\n",
        "    def calculate_area(self):\n",
        "        print(f\"[Circle] Area: {3.14 * self.radius * self.radius}\")\n",
        "\n",
        "class Square(Shape):\n",
        "    def __init__(self, name, side):\n",
        "        super().__init__(name)\n",
        "        self.side = side\n",
        "        print(f\"[Square] Side: {self.side}\")\n",
        "\n",
        "    def calculate_area(self):\n",
        "        print(f\"[Square] Area: {self.side * self.side}\")\n",
        "\n",
        "c = Circle(\"Circle\", 5)\n",
        "s = Square(\"Square\", 4)\n",
        "c.draw()\n",
        "c.calculate_area()\n",
        "s.draw()\n",
        "s.calculate_area()"
      ],
      "metadata": {
        "colab": {
          "base_uri": "https://localhost:8080/"
        },
        "id": "kFeJBoPW611I",
        "outputId": "7de437c4-4aed-4ac9-fafe-5cfc8b23ce0e"
      },
      "execution_count": 57,
      "outputs": [
        {
          "output_type": "stream",
          "name": "stdout",
          "text": [
            "[Shape] Initialized: Circle\n",
            "[Circle] Radius: 5\n",
            "[Shape] Initialized: Square\n",
            "[Square] Side: 4\n",
            "[Shape] Drawing Circle\n",
            "[Circle] Area: 78.5\n",
            "[Shape] Drawing Square\n",
            "[Square] Area: 16\n"
          ]
        }
      ]
    },
    {
      "cell_type": "code",
      "source": [],
      "metadata": {
        "id": "AWTRIvzE61aY"
      },
      "execution_count": null,
      "outputs": []
    },
    {
      "cell_type": "code",
      "source": [
        "class Employee:\n",
        "    def __init__(self, name):\n",
        "        self.name = name\n",
        "        print(f\"[Employee] Name: {self.name}\")\n",
        "\n",
        "    def work(self):\n",
        "        print(f\"[Employee] Working: {self.name}\")\n",
        "\n",
        "class Manager(Employee):\n",
        "    def __init__(self, name, department):\n",
        "        super().__init__(name)\n",
        "        self.department = department\n",
        "        print(f\"[Manager] Department: {self.department}\")\n",
        "\n",
        "    def manage(self):\n",
        "        print(f\"[Manager] Managing {self.department}\")\n",
        "\n",
        "class Developer(Employee):\n",
        "    def __init__(self, name, project):\n",
        "        super().__init__(name)\n",
        "        self.project = project\n",
        "        print(f\"[Developer] Project: {self.project}\")\n",
        "\n",
        "    def code(self):\n",
        "        print(f\"[Developer] Coding for {self.project}\")\n",
        "\n",
        "mgr = Manager(\"Alice\", \"HR\")\n",
        "dev = Developer(\"Bob\", \"AI\")\n",
        "mgr.manage()\n",
        "mgr.work()\n",
        "dev.code()\n",
        "dev.work()"
      ],
      "metadata": {
        "colab": {
          "base_uri": "https://localhost:8080/"
        },
        "id": "Mhw3amyJ61XH",
        "outputId": "d9c5b74c-2950-4ab9-850a-a5bccdd6ad1d"
      },
      "execution_count": 58,
      "outputs": [
        {
          "output_type": "stream",
          "name": "stdout",
          "text": [
            "[Employee] Name: Alice\n",
            "[Manager] Department: HR\n",
            "[Employee] Name: Bob\n",
            "[Developer] Project: AI\n",
            "[Manager] Managing HR\n",
            "[Employee] Working: Alice\n",
            "[Developer] Coding for AI\n",
            "[Employee] Working: Bob\n"
          ]
        }
      ]
    },
    {
      "cell_type": "code",
      "source": [],
      "metadata": {
        "id": "n1dX_MlP61Ur"
      },
      "execution_count": null,
      "outputs": []
    },
    {
      "cell_type": "code",
      "source": [
        "class Vehicle:\n",
        "    def __init__(self, name):\n",
        "        self.name = name\n",
        "        print(f\"[Vehicle] Name: {self.name}\")\n",
        "\n",
        "    def move(self):\n",
        "        print(f\"[Vehicle] Moving: {self.name}\")\n",
        "\n",
        "class Bike(Vehicle):\n",
        "    def __init__(self, name, wheels):\n",
        "        super().__init__(name)\n",
        "        self.wheels = wheels\n",
        "        print(f\"[Bike] Wheels: {self.wheels}\")\n",
        "\n",
        "    def ride(self):\n",
        "        print(f\"[Bike] Riding with {self.wheels} wheels\")\n",
        "\n",
        "class Bus(Vehicle):\n",
        "    def __init__(self, name, seats):\n",
        "        super().__init__(name)\n",
        "        self.seats = seats\n",
        "        print(f\"[Bus] Seats: {self.seats}\")\n",
        "\n",
        "    def carry(self):\n",
        "        print(f\"[Bus] Carrying {self.seats} passengers\")\n",
        "\n",
        "bike = Bike(\"MountainBike\", 2)\n",
        "bus = Bus(\"CityBus\", 40)\n",
        "bike.move()\n",
        "bike.ride()\n",
        "bus.move()\n",
        "bus.carry()"
      ],
      "metadata": {
        "colab": {
          "base_uri": "https://localhost:8080/"
        },
        "id": "GAD1OIVE7fb-",
        "outputId": "4b570f5a-ae9e-4378-839b-69e83ead92f1"
      },
      "execution_count": 60,
      "outputs": [
        {
          "output_type": "stream",
          "name": "stdout",
          "text": [
            "[Vehicle] Name: MountainBike\n",
            "[Bike] Wheels: 2\n",
            "[Vehicle] Name: CityBus\n",
            "[Bus] Seats: 40\n",
            "[Vehicle] Moving: MountainBike\n",
            "[Bike] Riding with 2 wheels\n",
            "[Vehicle] Moving: CityBus\n",
            "[Bus] Carrying 40 passengers\n"
          ]
        }
      ]
    },
    {
      "cell_type": "code",
      "source": [],
      "metadata": {
        "id": "RNI7fs6d7fYk"
      },
      "execution_count": null,
      "outputs": []
    }
  ]
}
