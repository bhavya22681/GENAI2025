{
  "nbformat": 4,
  "nbformat_minor": 0,
  "metadata": {
    "colab": {
      "provenance": []
    },
    "kernelspec": {
      "name": "python3",
      "display_name": "Python 3"
    },
    "language_info": {
      "name": "python"
    }
  },
  "cells": [
    {
      "cell_type": "code",
      "execution_count": null,
      "metadata": {
        "id": "NqMMyzgrNV-3"
      },
      "outputs": [],
      "source": [
        " Encapsulation:\n",
        "\n",
        "  in encapsulation we are trying to num;de data attributes and methods into a single unit class\n",
        "  restrictions will be implemented on top the classes"
      ]
    },
    {
      "cell_type": "code",
      "source": [
        "### encapsulaiton\n",
        "  ### public variabel\n",
        "  ### protected _\n",
        "  #### private"
      ],
      "metadata": {
        "id": "UqMQPJntNcR4"
      },
      "execution_count": null,
      "outputs": []
    },
    {
      "cell_type": "code",
      "source": [
        "\n",
        "class Car:\n",
        "    def __init__(self):\n",
        "        self.brand = \"Mahindra\"\n",
        "\n",
        "c = Car()\n",
        "print(c.brand)\n"
      ],
      "metadata": {
        "colab": {
          "base_uri": "https://localhost:8080/"
        },
        "id": "HCHDOmy4NcPd",
        "outputId": "56428418-7462-455c-da93-ed3cf057da9a"
      },
      "execution_count": null,
      "outputs": [
        {
          "output_type": "stream",
          "name": "stdout",
          "text": [
            "Mahindra\n"
          ]
        }
      ]
    },
    {
      "cell_type": "code",
      "source": [
        "\n",
        "class Laptop:\n",
        "    def __init__(self):\n",
        "        self.ram = \"20GB\"\n",
        "\n",
        "l = Laptop()\n",
        "print(l.ram)\n"
      ],
      "metadata": {
        "colab": {
          "base_uri": "https://localhost:8080/"
        },
        "id": "WbLiqUq3NcM6",
        "outputId": "60921568-0172-4b62-8e0a-c9745a957ccc"
      },
      "execution_count": null,
      "outputs": [
        {
          "output_type": "stream",
          "name": "stdout",
          "text": [
            "20GB\n"
          ]
        }
      ]
    },
    {
      "cell_type": "code",
      "source": [],
      "metadata": {
        "id": "5qoTVPB-NcKE"
      },
      "execution_count": null,
      "outputs": []
    },
    {
      "cell_type": "code",
      "source": [
        "\n",
        "class Employee:\n",
        "    def __init__(self):\n",
        "        self._salary = 2000\n",
        "\n",
        "e = Employee()\n",
        "print(e._salary)\n"
      ],
      "metadata": {
        "colab": {
          "base_uri": "https://localhost:8080/"
        },
        "id": "7aNOGyMzNcHD",
        "outputId": "03c116ff-bc55-4c74-a656-9a72faabef4e"
      },
      "execution_count": 1,
      "outputs": [
        {
          "output_type": "stream",
          "name": "stdout",
          "text": [
            "2000\n"
          ]
        }
      ]
    },
    {
      "cell_type": "code",
      "source": [
        "class Doctor:\n",
        "    def __init__(self):\n",
        "        self._license_number = \"MED1621\"\n",
        "\n",
        "d = Doctor()\n",
        "print(d._license_number)"
      ],
      "metadata": {
        "colab": {
          "base_uri": "https://localhost:8080/"
        },
        "id": "c1BM-PaQNb0y",
        "outputId": "70299731-628f-4123-e654-35fee92599bd"
      },
      "execution_count": 2,
      "outputs": [
        {
          "output_type": "stream",
          "name": "stdout",
          "text": [
            "MED1621\n"
          ]
        }
      ]
    },
    {
      "cell_type": "code",
      "source": [],
      "metadata": {
        "id": "r2MiezbnNbxq"
      },
      "execution_count": null,
      "outputs": []
    },
    {
      "cell_type": "code",
      "source": [
        "\n",
        "class Employee:\n",
        "    def __init__(self):\n",
        "        self._salary = 45680\n",
        "\n",
        "e = Employee()"
      ],
      "metadata": {
        "id": "1TTdn1WgNbu6"
      },
      "execution_count": 3,
      "outputs": []
    },
    {
      "cell_type": "code",
      "source": [
        "e._salary"
      ],
      "metadata": {
        "colab": {
          "base_uri": "https://localhost:8080/"
        },
        "id": "yWvq3AkhNbr6",
        "outputId": "83b48be5-d22e-4901-c006-45b5db819df9"
      },
      "execution_count": 4,
      "outputs": [
        {
          "output_type": "execute_result",
          "data": {
            "text/plain": [
              "45680"
            ]
          },
          "metadata": {},
          "execution_count": 4
        }
      ]
    },
    {
      "cell_type": "code",
      "source": [],
      "metadata": {
        "id": "XfpbGAqhNbpV"
      },
      "execution_count": null,
      "outputs": []
    },
    {
      "cell_type": "code",
      "source": [
        "class Laptop:\n",
        "    def __init__(self):\n",
        "        self.__serial_number = \"SN-987654\"\n",
        "\n",
        "l = Laptop()\n",
        "l.__serial_number"
      ],
      "metadata": {
        "colab": {
          "base_uri": "https://localhost:8080/",
          "height": 176
        },
        "id": "isByd9TpNbmk",
        "outputId": "e591e5f3-c1bc-4c39-8451-5dcbcc4ac957"
      },
      "execution_count": null,
      "outputs": [
        {
          "output_type": "error",
          "ename": "AttributeError",
          "evalue": "'Laptop' object has no attribute '__serial_number'",
          "traceback": [
            "\u001b[0;31m---------------------------------------------------------------------------\u001b[0m",
            "\u001b[0;31mAttributeError\u001b[0m                            Traceback (most recent call last)",
            "\u001b[0;32m/tmp/ipython-input-11-249096993.py\u001b[0m in \u001b[0;36m<cell line: 0>\u001b[0;34m()\u001b[0m\n\u001b[1;32m      4\u001b[0m \u001b[0;34m\u001b[0m\u001b[0m\n\u001b[1;32m      5\u001b[0m \u001b[0ml\u001b[0m \u001b[0;34m=\u001b[0m \u001b[0mLaptop\u001b[0m\u001b[0;34m(\u001b[0m\u001b[0;34m)\u001b[0m\u001b[0;34m\u001b[0m\u001b[0;34m\u001b[0m\u001b[0m\n\u001b[0;32m----> 6\u001b[0;31m \u001b[0ml\u001b[0m\u001b[0;34m.\u001b[0m\u001b[0m__serial_number\u001b[0m\u001b[0;34m\u001b[0m\u001b[0;34m\u001b[0m\u001b[0m\n\u001b[0m",
            "\u001b[0;31mAttributeError\u001b[0m: 'Laptop' object has no attribute '__serial_number'"
          ]
        }
      ]
    },
    {
      "cell_type": "code",
      "source": [
        "class Laptop:\n",
        "    def __init__(self):\n",
        "        self._serial_number = \"SN-987654\"\n",
        "\n",
        "l = Laptop()\n",
        "l._serial_number"
      ],
      "metadata": {
        "id": "osbKlCBhNbj9",
        "colab": {
          "base_uri": "https://localhost:8080/",
          "height": 35
        },
        "outputId": "128c7a83-9b72-4cf2-a4da-48e6bfa984af"
      },
      "execution_count": 7,
      "outputs": [
        {
          "output_type": "execute_result",
          "data": {
            "text/plain": [
              "'SN-987654'"
            ],
            "application/vnd.google.colaboratory.intrinsic+json": {
              "type": "string"
            }
          },
          "metadata": {},
          "execution_count": 7
        }
      ]
    },
    {
      "cell_type": "code",
      "source": [],
      "metadata": {
        "id": "qWFRRKmsNbhD"
      },
      "execution_count": null,
      "outputs": []
    },
    {
      "cell_type": "code",
      "source": [
        "class BankAccount:\n",
        "    def __init__(self, holder_name, balance, pin):\n",
        "        self._holder_name = holder_name          # protected\n",
        "        self.__balance = balance                 # private\n",
        "        self.__pin = pin                         # private\n",
        "\n",
        "    def deposit(self, amount):\n",
        "        if amount > 0:\n",
        "            self.__balance += amount\n",
        "\n",
        "    def withdraw(self, amount, pin):\n",
        "        if pin == self.__pin and amount <= self.__balance:\n",
        "            self.__balance -= amount\n",
        "            return amount\n",
        "        else:\n",
        "            return \"Invalid pin or insufficient funds\"\n",
        "\n",
        "    def get_balance(self, pin):\n",
        "        return self.__balance if pin == self.__pin else \"Access Denied\""
      ],
      "metadata": {
        "id": "LqceixytNbeO"
      },
      "execution_count": 6,
      "outputs": []
    },
    {
      "cell_type": "code",
      "source": [
        "object1=BankAccount(\"Student1\",1000,1000)\n",
        "object1._holder_name"
      ],
      "metadata": {
        "colab": {
          "base_uri": "https://localhost:8080/",
          "height": 35
        },
        "id": "Rvsq7h30Nbbj",
        "outputId": "d2f8920c-6c84-41d3-9782-c94b99971feb"
      },
      "execution_count": 8,
      "outputs": [
        {
          "output_type": "execute_result",
          "data": {
            "text/plain": [
              "'Student1'"
            ],
            "application/vnd.google.colaboratory.intrinsic+json": {
              "type": "string"
            }
          },
          "metadata": {},
          "execution_count": 8
        }
      ]
    },
    {
      "cell_type": "code",
      "source": [
        "object1.get_balance(1000)"
      ],
      "metadata": {
        "colab": {
          "base_uri": "https://localhost:8080/"
        },
        "id": "2sqMoCBqNbY0",
        "outputId": "77396a7d-9ac0-4107-b25b-08f51fbb76c1"
      },
      "execution_count": 9,
      "outputs": [
        {
          "output_type": "execute_result",
          "data": {
            "text/plain": [
              "1000"
            ]
          },
          "metadata": {},
          "execution_count": 9
        }
      ]
    },
    {
      "cell_type": "code",
      "source": [
        "object1.deposit(986545300)"
      ],
      "metadata": {
        "id": "fMuGdgVqNbV8"
      },
      "execution_count": 11,
      "outputs": []
    },
    {
      "cell_type": "code",
      "source": [
        "object1.get_balance(1000)"
      ],
      "metadata": {
        "colab": {
          "base_uri": "https://localhost:8080/"
        },
        "id": "JLaH2dlxNbS8",
        "outputId": "502ae194-ab1a-4a9f-bb66-da1f43a791c5"
      },
      "execution_count": 12,
      "outputs": [
        {
          "output_type": "execute_result",
          "data": {
            "text/plain": [
              "986546600"
            ]
          },
          "metadata": {},
          "execution_count": 12
        }
      ]
    },
    {
      "cell_type": "code",
      "source": [
        "class Box:\n",
        "    def __init__(self, length, width):\n",
        "        self.__length = length\n",
        "        self.__width = width\n",
        "\n",
        "    def get_area(self):\n",
        "        return self.__length * self.__width\n",
        "\n",
        "b = Box(5, 4)\n",
        "print(\"Area of box:\", b.get_area())"
      ],
      "metadata": {
        "id": "B1yON05uNbP7",
        "colab": {
          "base_uri": "https://localhost:8080/"
        },
        "outputId": "68e19a34-2a2d-4114-ff5e-36cf138652cd"
      },
      "execution_count": 18,
      "outputs": [
        {
          "output_type": "stream",
          "name": "stdout",
          "text": [
            "Area of box: 20\n"
          ]
        }
      ]
    },
    {
      "cell_type": "code",
      "source": [
        "class Contact:\n",
        "    def __init__(self):\n",
        "        self.__phone = \"\"\n",
        "\n",
        "    def set_phone(self, phone):\n",
        "        if len(phone) == 10 and phone.isdigit():\n",
        "            self.__phone = phone\n",
        "        else:\n",
        "            print(\"Invalid phone number\")\n",
        "\n",
        "    def get_phone(self):\n",
        "        return self.__phone\n",
        "\n",
        "c = Contact()\n",
        "c.set_phone(\"1234567891\")\n",
        "print(c.get_phone())\n",
        "\n",
        "c.set_phone(\"9876543210\")\n",
        "print(c.get_phone())\n"
      ],
      "metadata": {
        "id": "TrXGyfN5T9uS",
        "colab": {
          "base_uri": "https://localhost:8080/"
        },
        "outputId": "165c6160-e0b7-4687-dd8b-b7af97bf62b1"
      },
      "execution_count": 27,
      "outputs": [
        {
          "output_type": "stream",
          "name": "stdout",
          "text": [
            "1234567891\n",
            "9876543210\n"
          ]
        }
      ]
    },
    {
      "cell_type": "code",
      "source": [],
      "metadata": {
        "id": "ThMt0vbmwrza"
      },
      "execution_count": null,
      "outputs": []
    },
    {
      "cell_type": "code",
      "source": [],
      "metadata": {
        "id": "vq_a-eRpwrhV"
      },
      "execution_count": null,
      "outputs": []
    },
    {
      "cell_type": "code",
      "source": [
        "class Student:\n",
        "    def __init__(self, name):\n",
        "        self._name = name\n",
        "        self.__grades = {}\n",
        "\n",
        "    def add_grade(self, subject, grade):\n",
        "        self.__grades[subject] = grade\n",
        "\n",
        "    def _average(self):\n",
        "        return sum(self.__grades.values()) / len(self.__grades)\n",
        "\n",
        "    def get_report(self):\n",
        "        return f\"Student: {self._name}, Average: {self._average()}\"\n",
        "\n",
        "object1=Student(\"Student1\")\n",
        "object1.add_grade(\"science\",80)\n",
        "object1.add_grade(\"maths\",80)\n",
        "object1.add_grade(\"computers\",80)\n",
        "object1.get_report()"
      ],
      "metadata": {
        "colab": {
          "base_uri": "https://localhost:8080/",
          "height": 35
        },
        "id": "eGqyohmCT9rb",
        "outputId": "50a56a59-51a5-4062-aa63-2297c4ec2a3b"
      },
      "execution_count": null,
      "outputs": [
        {
          "output_type": "execute_result",
          "data": {
            "text/plain": [
              "'Student: Student1, Average: 80.0'"
            ],
            "application/vnd.google.colaboratory.intrinsic+json": {
              "type": "string"
            }
          },
          "metadata": {},
          "execution_count": 25
        }
      ]
    },
    {
      "cell_type": "code",
      "source": [
        "class Student:\n",
        "    def __init__(self, name):\n",
        "        self._name = name\n",
        "        self.__grades = {}\n",
        "\n",
        "    def add_grade(self, subject, grade):\n",
        "        self.__grades[subject] = grade\n",
        "\n",
        "    def _average(self):\n",
        "        return sum(self.__grades.values()) / len(self.__grades)\n",
        "\n",
        "    def get_report(self):\n",
        "        return f\"Student: {self._name}, Average: {self._average()}\""
      ],
      "metadata": {
        "id": "9Pe1047btlcW"
      },
      "execution_count": 13,
      "outputs": []
    },
    {
      "cell_type": "code",
      "source": [
        "object1=Student(\"Student1\")\n",
        "object1.add_grade(\"science\",80)\n",
        "object1.get_report()"
      ],
      "metadata": {
        "colab": {
          "base_uri": "https://localhost:8080/",
          "height": 35
        },
        "id": "l3Nkl1chtlYw",
        "outputId": "3bc11680-c0f0-4d23-b3e5-a71d3a996c42"
      },
      "execution_count": 14,
      "outputs": [
        {
          "output_type": "execute_result",
          "data": {
            "text/plain": [
              "'Student: Student1, Average: 80.0'"
            ],
            "application/vnd.google.colaboratory.intrinsic+json": {
              "type": "string"
            }
          },
          "metadata": {},
          "execution_count": 14
        }
      ]
    },
    {
      "cell_type": "code",
      "source": [
        "class Marks:\n",
        "    def __init__(self):\n",
        "        self.__math = 0\n",
        "\n",
        "    def set_marks(self, marks):\n",
        "        if 0 <= marks <= 100:\n",
        "            self.__math = marks\n",
        "        else:\n",
        "            print(\"Invalid marks\")\n",
        "\n",
        "    def get_marks(self):\n",
        "        return self.__math\n",
        "\n",
        "m = Marks()\n",
        "m.set_marks(105)\n",
        "m.set_marks(90)\n",
        "print(m.get_marks())"
      ],
      "metadata": {
        "colab": {
          "base_uri": "https://localhost:8080/"
        },
        "id": "AjbtzicmtlTK",
        "outputId": "c0b87633-d707-439c-bad5-fe4cd3ed3aea"
      },
      "execution_count": 15,
      "outputs": [
        {
          "output_type": "stream",
          "name": "stdout",
          "text": [
            "Invalid marks\n",
            "90\n"
          ]
        }
      ]
    },
    {
      "cell_type": "code",
      "source": [
        "class Product:\n",
        "    def __init__(self, name, price):\n",
        "        self.name = name\n",
        "        self.__price = price\n",
        "\n",
        "    def get_price(self):\n",
        "        return self.__price\n",
        "\n",
        "    def set_price(self, price):\n",
        "        if price > 0:\n",
        "            self.__price = price\n",
        "\n",
        "p = Product(\"Shoes\", 1500)\n",
        "print(p.get_price())\n",
        "p.set_price(200)\n",
        "print(p.get_price())\n",
        "p.set_price(1800)\n",
        "print(p.get_price())\n"
      ],
      "metadata": {
        "colab": {
          "base_uri": "https://localhost:8080/"
        },
        "id": "f9skTuLJtlLz",
        "outputId": "ede37ad1-f070-415b-d8fa-4fc316e7b975"
      },
      "execution_count": 17,
      "outputs": [
        {
          "output_type": "stream",
          "name": "stdout",
          "text": [
            "1500\n",
            "200\n",
            "1800\n"
          ]
        }
      ]
    },
    {
      "cell_type": "code",
      "source": [],
      "metadata": {
        "id": "IxKeug9etk7G"
      },
      "execution_count": null,
      "outputs": []
    },
    {
      "cell_type": "code",
      "source": [
        "class Student:\n",
        "    def __init__(self, name):\n",
        "        self._name = name\n",
        "        self.__grades = {}\n",
        "\n",
        "    def add_grade(self, subject, grade):\n",
        "        self.__grades[subject] = grade\n",
        "\n",
        "    def _average(self):\n",
        "        return sum(self.__grades.values()) / len(self.__grades)\n",
        "\n",
        "    def get_report(self):\n",
        "        return f\"Student: {self._name}, Average: {self._average()}\"\n",
        "\n",
        "object1=Student(\"Student1\")\n",
        "object1=Student(\"Student2\")\n",
        "object1.add_grade(\"science\",80)\n",
        "object1.add_grade(\"maths\",80)\n",
        "object1.add_grade(\"computers\",80)\n",
        "object1.add_grade(\"science1\",20)\n",
        "object1.add_grade(\"maths1\",20)\n",
        "object1.add_grade(\"computers1\",80)\n",
        "object1.get_report()\n",
        "object1.__grades"
      ],
      "metadata": {
        "colab": {
          "base_uri": "https://localhost:8080/",
          "height": 176
        },
        "id": "okioIwZMT9ot",
        "outputId": "70dfec17-5d55-4a6d-b3f2-30b107037230"
      },
      "execution_count": null,
      "outputs": [
        {
          "output_type": "error",
          "ename": "AttributeError",
          "evalue": "'Student' object has no attribute '__grades'",
          "traceback": [
            "\u001b[0;31m---------------------------------------------------------------------------\u001b[0m",
            "\u001b[0;31mAttributeError\u001b[0m                            Traceback (most recent call last)",
            "\u001b[0;32m/tmp/ipython-input-30-147595179.py\u001b[0m in \u001b[0;36m<cell line: 0>\u001b[0;34m()\u001b[0m\n\u001b[1;32m     22\u001b[0m \u001b[0mobject1\u001b[0m\u001b[0;34m.\u001b[0m\u001b[0madd_grade\u001b[0m\u001b[0;34m(\u001b[0m\u001b[0;34m\"computers1\"\u001b[0m\u001b[0;34m,\u001b[0m\u001b[0;36m80\u001b[0m\u001b[0;34m)\u001b[0m\u001b[0;34m\u001b[0m\u001b[0;34m\u001b[0m\u001b[0m\n\u001b[1;32m     23\u001b[0m \u001b[0mobject1\u001b[0m\u001b[0;34m.\u001b[0m\u001b[0mget_report\u001b[0m\u001b[0;34m(\u001b[0m\u001b[0;34m)\u001b[0m\u001b[0;34m\u001b[0m\u001b[0;34m\u001b[0m\u001b[0m\n\u001b[0;32m---> 24\u001b[0;31m \u001b[0mobject1\u001b[0m\u001b[0;34m.\u001b[0m\u001b[0m__grades\u001b[0m\u001b[0;34m\u001b[0m\u001b[0;34m\u001b[0m\u001b[0m\n\u001b[0m",
            "\u001b[0;31mAttributeError\u001b[0m: 'Student' object has no attribute '__grades'"
          ]
        }
      ]
    },
    {
      "cell_type": "code",
      "source": [
        "### Abstraction : we will implemet a class with internal details\n",
        "\n",
        "### we will be hiding the internal implementation of methods\n",
        "### and showing only essential featues of an object\n",
        "\n",
        "#### reduce the xomplexity and increase code reusablitiy"
      ],
      "metadata": {
        "id": "Y5l6lkkoWA33"
      },
      "execution_count": null,
      "outputs": []
    },
    {
      "cell_type": "code",
      "source": [
        "from abc import ABC, abstractmethod\n",
        "\n",
        "class Payment(ABC):\n",
        "    @abstractmethod\n",
        "    def pay(self, amount,interest):\n",
        "        pass\n",
        "\n",
        "class CreditCard(Payment):\n",
        "    def pay(self, amount):\n",
        "        print(f\"Paid ₹{amount} using Credit Card\")\n",
        "\n",
        "class UPI(Payment):\n",
        "    def pay(self, amount):\n",
        "        print(f\"Paid ₹{amount} using UPI\")"
      ],
      "metadata": {
        "id": "OOQY5dONT9iy"
      },
      "execution_count": null,
      "outputs": []
    },
    {
      "cell_type": "code",
      "source": [],
      "metadata": {
        "id": "jjbujLeIT9fz"
      },
      "execution_count": null,
      "outputs": []
    },
    {
      "cell_type": "code",
      "source": [
        "\n",
        "p1 = CreditCard()\n",
        "p1.pay(1000)\n",
        "\n",
        "p2 = UPI()\n",
        "p2.pay(500)\n"
      ],
      "metadata": {
        "colab": {
          "base_uri": "https://localhost:8080/"
        },
        "id": "TLnsNXV-T9c-",
        "outputId": "03edee71-a0f4-4013-f19c-8d7de11d134a"
      },
      "execution_count": null,
      "outputs": [
        {
          "output_type": "stream",
          "name": "stdout",
          "text": [
            "Paid ₹1000 using Credit Card\n",
            "Paid ₹500 using UPI\n"
          ]
        }
      ]
    },
    {
      "cell_type": "code",
      "source": [
        "### Exception handlings"
      ],
      "metadata": {
        "id": "qcNsbOR7T9aD"
      },
      "execution_count": null,
      "outputs": []
    },
    {
      "cell_type": "code",
      "source": [
        "try :\n",
        "  print(2+\"3\")\n",
        "except:\n",
        "  print(\"test\")"
      ],
      "metadata": {
        "colab": {
          "base_uri": "https://localhost:8080/"
        },
        "id": "xT6yZmBZXifv",
        "outputId": "3faeae70-4dd2-4bdb-dfd0-421f009137c3"
      },
      "execution_count": null,
      "outputs": [
        {
          "output_type": "stream",
          "name": "stdout",
          "text": [
            "test\n"
          ]
        }
      ]
    },
    {
      "cell_type": "code",
      "source": [],
      "metadata": {
        "id": "v7A-5E4kXidS"
      },
      "execution_count": null,
      "outputs": []
    },
    {
      "cell_type": "code",
      "source": [],
      "metadata": {
        "id": "gPTvhkHRXiaa"
      },
      "execution_count": null,
      "outputs": []
    },
    {
      "cell_type": "code",
      "source": [
        "try:\n",
        "    result = 10 / 0\n",
        "except ZeroDivisionError:\n",
        "    print(\"Cannot divide by zero!\")\n"
      ],
      "metadata": {
        "colab": {
          "base_uri": "https://localhost:8080/"
        },
        "id": "-Wd_XtxoXiVI",
        "outputId": "4d0a475a-abcd-42bc-ea89-75e7f3421c54"
      },
      "execution_count": null,
      "outputs": [
        {
          "output_type": "stream",
          "name": "stdout",
          "text": [
            "Cannot divide by zero!\n"
          ]
        }
      ]
    },
    {
      "cell_type": "code",
      "source": [
        "try:\n",
        "    with open(\"/content/sample1.txt\", \"r\") as f:\n",
        "        content = f.read()\n",
        "        print(content)\n",
        "except FileNotFoundError:\n",
        "    print(\"File not found.\")\n"
      ],
      "metadata": {
        "colab": {
          "base_uri": "https://localhost:8080/"
        },
        "id": "fhxbqFWhXiSY",
        "outputId": "835ae76f-cd09-4e1e-e573-f03339e27bbf"
      },
      "execution_count": null,
      "outputs": [
        {
          "output_type": "stream",
          "name": "stdout",
          "text": [
            "File not found.\n"
          ]
        }
      ]
    },
    {
      "cell_type": "code",
      "source": [
        "try:\n",
        "    number = float(\"abc\")\n",
        "    print(number)\n",
        "except ValueError:\n",
        "    print(\"Invalid number format.\")\n"
      ],
      "metadata": {
        "colab": {
          "base_uri": "https://localhost:8080/"
        },
        "id": "fuD_qmpZXiPP",
        "outputId": "5871ea09-3b18-44b7-aa8d-cb4ad1a4439f"
      },
      "execution_count": null,
      "outputs": [
        {
          "output_type": "stream",
          "name": "stdout",
          "text": [
            "Invalid number format.\n"
          ]
        }
      ]
    },
    {
      "cell_type": "code",
      "source": [
        "try:\n",
        "    items = [1, 2, 3]\n",
        "    print(items[5])\n",
        "except IndexError:\n",
        "    print(\"Index out of range.\")\n"
      ],
      "metadata": {
        "colab": {
          "base_uri": "https://localhost:8080/"
        },
        "id": "HZktDjZsXiMp",
        "outputId": "c86a3207-7fad-4c2a-b021-60166a9ef316"
      },
      "execution_count": null,
      "outputs": [
        {
          "output_type": "stream",
          "name": "stdout",
          "text": [
            "[]\n"
          ]
        }
      ]
    },
    {
      "cell_type": "code",
      "source": [],
      "metadata": {
        "id": "tQFPlL4lXiJx"
      },
      "execution_count": null,
      "outputs": []
    },
    {
      "cell_type": "code",
      "source": [],
      "metadata": {
        "id": "ZMd3--AuXiG3"
      },
      "execution_count": null,
      "outputs": []
    },
    {
      "cell_type": "code",
      "source": [
        "try:\n",
        "    data = {\"name\": \"Alice\"}\n",
        "    print(data[\"name\"])\n",
        "except KeyError:\n",
        "    print(\"Key not found in dictionary.\")\n"
      ],
      "metadata": {
        "colab": {
          "base_uri": "https://localhost:8080/"
        },
        "id": "i2laZY4HT9XS",
        "outputId": "45100f38-75e4-4fd4-83ac-0ddb6cab357a"
      },
      "execution_count": null,
      "outputs": [
        {
          "output_type": "stream",
          "name": "stdout",
          "text": [
            "Alice\n"
          ]
        }
      ]
    },
    {
      "cell_type": "code",
      "source": [],
      "metadata": {
        "id": "H4n1C8TkT9Uq"
      },
      "execution_count": null,
      "outputs": []
    },
    {
      "cell_type": "code",
      "source": [
        "try:\n",
        "    x = 5\n",
        "    x.append(2)\n",
        "except AttributeError:\n",
        "    print(\"Invalid attribute for the object.\")\n"
      ],
      "metadata": {
        "colab": {
          "base_uri": "https://localhost:8080/"
        },
        "id": "8A3thE3KT9Rz",
        "outputId": "68f3300c-2c6b-4451-d040-bf5ed5a52f19"
      },
      "execution_count": null,
      "outputs": [
        {
          "output_type": "stream",
          "name": "stdout",
          "text": [
            "Invalid attribute for the object.\n"
          ]
        }
      ]
    },
    {
      "cell_type": "code",
      "source": [
        "try:\n",
        "    value = int(\"abc\")\n",
        "    result = 10 / 0\n",
        "except (ValueError, ZeroDivisionError) as e:\n",
        "    print(\"Caught an error:\", e)\n"
      ],
      "metadata": {
        "colab": {
          "base_uri": "https://localhost:8080/"
        },
        "id": "iNCR9jF8T9O7",
        "outputId": "c876b664-436d-4ffe-a59c-793a5ab61d3f"
      },
      "execution_count": null,
      "outputs": [
        {
          "output_type": "stream",
          "name": "stdout",
          "text": [
            "Caught an error: invalid literal for int() with base 10: 'abc'\n"
          ]
        }
      ]
    },
    {
      "cell_type": "code",
      "source": [],
      "metadata": {
        "id": "0G-2OD9WT9MK"
      },
      "execution_count": null,
      "outputs": []
    },
    {
      "cell_type": "code",
      "source": [],
      "metadata": {
        "id": "KWGbOuTZT9Jd"
      },
      "execution_count": null,
      "outputs": []
    },
    {
      "cell_type": "code",
      "source": [
        "try:\n",
        "    number = int(\"100\")\n",
        "except ValueError:\n",
        "    print(\"Conversion failed.\")\n",
        "else:\n",
        "    print(\"Conversion successful:\", number)\n"
      ],
      "metadata": {
        "colab": {
          "base_uri": "https://localhost:8080/"
        },
        "id": "RN6hWKwET9Gn",
        "outputId": "34aed3a8-a455-41d2-8ee9-e5f14f0b2e50"
      },
      "execution_count": null,
      "outputs": [
        {
          "output_type": "stream",
          "name": "stdout",
          "text": [
            "Conversion successful: 100\n"
          ]
        }
      ]
    },
    {
      "cell_type": "code",
      "source": [
        "try:\n",
        "    f = open(\"sample.txt\", \"r\")\n",
        "    data = f.read()\n",
        "except FileNotFoundError:\n",
        "    print(\"File not found.\")\n",
        "finally:\n",
        "    print(\"Execution complete.\")\n"
      ],
      "metadata": {
        "id": "JjSSZgDzT9Di"
      },
      "execution_count": null,
      "outputs": []
    },
    {
      "cell_type": "code",
      "source": [],
      "metadata": {
        "id": "ye1IMOb8aAsP"
      },
      "execution_count": null,
      "outputs": []
    },
    {
      "cell_type": "code",
      "source": [],
      "metadata": {
        "id": "fDufJTlkaAp3"
      },
      "execution_count": null,
      "outputs": []
    },
    {
      "cell_type": "code",
      "source": [
        "try:\n",
        "    result = 10 / 0\n",
        "except ZeroDivisionError:\n",
        "    print(\"Divide by zero error\")\n",
        "else:\n",
        "    print(\"Result:\", result)\n",
        "finally:\n",
        "    print(\"Done with division\")\n"
      ],
      "metadata": {
        "colab": {
          "base_uri": "https://localhost:8080/"
        },
        "id": "1eOA7eVMaAmv",
        "outputId": "b8efaec8-b00c-47d5-8670-6db251f3eae6"
      },
      "execution_count": null,
      "outputs": [
        {
          "output_type": "stream",
          "name": "stdout",
          "text": [
            "Divide by zero error\n",
            "Done with division\n"
          ]
        }
      ]
    },
    {
      "cell_type": "code",
      "source": [],
      "metadata": {
        "id": "BsQLt6dDaAj_"
      },
      "execution_count": null,
      "outputs": []
    },
    {
      "cell_type": "code",
      "source": [],
      "metadata": {
        "id": "HQecVRxKaAhX"
      },
      "execution_count": null,
      "outputs": []
    },
    {
      "cell_type": "code",
      "source": [
        "try:\n",
        "    lst = [1, 2]\n",
        "    print(lst[5])\n",
        "except IndexError:\n",
        "    print(\"Index out of range\")\n",
        "else:\n",
        "    print(\"List item accessed\")\n",
        "finally:\n",
        "    print(\"List operation done\")\n"
      ],
      "metadata": {
        "id": "XfDxBIEWaAeH"
      },
      "execution_count": null,
      "outputs": []
    },
    {
      "cell_type": "code",
      "source": [],
      "metadata": {
        "id": "eE9zJrvcaZzo"
      },
      "execution_count": null,
      "outputs": []
    },
    {
      "cell_type": "code",
      "source": [
        "\"invalid\"*2"
      ],
      "metadata": {
        "colab": {
          "base_uri": "https://localhost:8080/",
          "height": 35
        },
        "id": "BnUxt2HNaZvT",
        "outputId": "c9befc36-bcd9-41a3-95f6-5ab181e95451"
      },
      "execution_count": null,
      "outputs": [
        {
          "output_type": "execute_result",
          "data": {
            "text/plain": [
              "'invalidinvalid'"
            ],
            "application/vnd.google.colaboratory.intrinsic+json": {
              "type": "string"
            }
          },
          "metadata": {},
          "execution_count": 58
        }
      ]
    },
    {
      "cell_type": "code",
      "source": [
        "data = [[1, 2], [3, 4], \"invalid\"]\n",
        "for sublist in data:\n",
        "    for item in sublist:\n",
        "        print(item * 2)"
      ],
      "metadata": {
        "colab": {
          "base_uri": "https://localhost:8080/"
        },
        "id": "ZYH2UEGAaZsz",
        "outputId": "869f04b5-e250-49c9-a031-aef1cf55fab1"
      },
      "execution_count": null,
      "outputs": [
        {
          "output_type": "stream",
          "name": "stdout",
          "text": [
            "2\n",
            "4\n",
            "6\n",
            "8\n",
            "ii\n",
            "nn\n",
            "vv\n",
            "aa\n",
            "ll\n",
            "ii\n",
            "dd\n"
          ]
        }
      ]
    },
    {
      "cell_type": "code",
      "source": [],
      "metadata": {
        "id": "DUcuRs1gbDzP"
      },
      "execution_count": null,
      "outputs": []
    },
    {
      "cell_type": "code",
      "source": [],
      "metadata": {
        "id": "MyRg2XK7aZqI"
      },
      "execution_count": null,
      "outputs": []
    },
    {
      "cell_type": "code",
      "source": [],
      "metadata": {
        "id": "wCVYeOg8aZnm"
      },
      "execution_count": null,
      "outputs": []
    },
    {
      "cell_type": "code",
      "source": [],
      "metadata": {
        "id": "oC9lqWZuaZkr"
      },
      "execution_count": null,
      "outputs": []
    },
    {
      "cell_type": "code",
      "source": [],
      "metadata": {
        "id": "6_VpvoYKaZiC"
      },
      "execution_count": null,
      "outputs": []
    },
    {
      "cell_type": "code",
      "source": [
        "try:\n",
        "    data = [[1, 2], [3, 4], \"invalid\"]\n",
        "    for sublist in data:\n",
        "        for item in sublist:\n",
        "            print(item * 2)\n",
        "except TypeError as e:\n",
        "    print(\"Type Error:\", e)\n",
        "else:\n",
        "    print(\"Nested list processed\")\n",
        "finally:\n",
        "    print(\"List handling complete\")\n"
      ],
      "metadata": {
        "colab": {
          "base_uri": "https://localhost:8080/"
        },
        "id": "UFaty1XGaZfa",
        "outputId": "7e7329db-4370-4bd6-ea58-f9c275598721"
      },
      "execution_count": null,
      "outputs": [
        {
          "output_type": "stream",
          "name": "stdout",
          "text": [
            "2\n",
            "4\n",
            "6\n",
            "8\n",
            "ii\n",
            "nn\n",
            "vv\n",
            "aa\n",
            "ll\n",
            "ii\n",
            "dd\n",
            "Nested list processed\n",
            "List handling complete\n"
          ]
        }
      ]
    },
    {
      "cell_type": "code",
      "source": [],
      "metadata": {
        "id": "JL9IiJ_LaZcV"
      },
      "execution_count": null,
      "outputs": []
    },
    {
      "cell_type": "code",
      "source": [
        "try:\n",
        "    a = {1, 2, 3}\n",
        "    b = \"abc\"\n",
        "    result = a | b  # Unsupported operand types\n",
        "except TypeError as e:\n",
        "    print(\"Set union error:\", e)\n",
        "else:\n",
        "    print(\"Set union successful\")\n",
        "finally:\n",
        "    print(\"Set operation done\")\n"
      ],
      "metadata": {
        "id": "0FEzORHoaZZR"
      },
      "execution_count": null,
      "outputs": []
    },
    {
      "cell_type": "code",
      "source": [
        "try:\n",
        "    a = {1, 2, 3}\n",
        "    b = \"abc\"\n",
        "    result = a | b  # Unsupported operand types\n",
        "except TypeError as e:\n",
        "    print(\"Set union error:\", e)\n",
        "else:\n",
        "    print(\"Set union successful\")\n",
        "finally:\n",
        "    print(\"Set operation done\")\n"
      ],
      "metadata": {
        "colab": {
          "base_uri": "https://localhost:8080/"
        },
        "id": "ZGX9qK1PbqL_",
        "outputId": "b74d766f-9df4-457e-c8e9-6877e4803872"
      },
      "execution_count": null,
      "outputs": [
        {
          "output_type": "stream",
          "name": "stdout",
          "text": [
            "Set union error: unsupported operand type(s) for |: 'set' and 'str'\n",
            "Set operation done\n"
          ]
        }
      ]
    },
    {
      "cell_type": "markdown",
      "source": [
        "| Exception Name          | Reason for Occurrence                                                  |\n",
        "|-------------------------|------------------------------------------------------------------------|\n",
        "| `ZeroDivisionError`     | Raised when dividing a number by zero.                                 |\n",
        "| `ValueError`            | Raised when a function receives an argument of the right type but invalid value. |\n",
        "| `TypeError`             | Raised when an operation or function is applied to an inappropriate type. |\n",
        "| `IndexError`            | Raised when a list/tuple/string index is out of range.                 |\n",
        "| `KeyError`              | Raised when accessing a dictionary with a missing key.                 |\n",
        "| `AttributeError`        | Raised when an invalid attribute reference is made on an object.       |\n",
        "| `ImportError`           | Raised when an import fails for a module that doesn’t exist.           |\n",
        "| `ModuleNotFoundError`   | Raised when the specified module can’t be found.                       |\n",
        "| `FileNotFoundError`     | Raised when a file or directory is requested but doesn’t exist.        |\n",
        "| `IOError`               | Raised when an I/O operation (like reading or writing a file) fails.   |\n",
        "| `RuntimeError`          | Raised when an error is detected that doesn’t fall in other categories.|\n",
        "| `StopIteration`         | Raised to signal the end of an iterator.                              |\n",
        "| `OverflowError`         | Raised when a numerical operation exceeds the maximum limit.           |\n",
        "| `MemoryError`           | Raised when an operation runs out of memory.                           |\n",
        "| `IndentationError`      | Raised when indentation is incorrect.                                  |\n",
        "| `SyntaxError`           | Raised when Python code is invalid or improperly structured.           |\n",
        "| `NameError`             | Raised when a variable is not defined.                                 |\n",
        "| `UnboundLocalError`     | Raised when a local variable is referenced before assignment.          |\n",
        "| `AssertionError`        | Raised when an `assert` statement fails.                               |\n",
        "| `NotImplementedError`   | Raised when an abstract method is not overridden in a subclass.        |\n"
      ],
      "metadata": {
        "id": "y9DgS6o_cccx"
      }
    },
    {
      "cell_type": "code",
      "source": [],
      "metadata": {
        "id": "8PkFJiLFcYTW"
      },
      "execution_count": null,
      "outputs": []
    },
    {
      "cell_type": "code",
      "source": [],
      "metadata": {
        "id": "Znu9bzxLcYQ_"
      },
      "execution_count": null,
      "outputs": []
    },
    {
      "cell_type": "code",
      "source": [],
      "metadata": {
        "id": "Wknl_JfCcYOP"
      },
      "execution_count": null,
      "outputs": []
    },
    {
      "cell_type": "code",
      "source": [],
      "metadata": {
        "id": "N6HYK55AcYLk"
      },
      "execution_count": null,
      "outputs": []
    },
    {
      "cell_type": "code",
      "source": [],
      "metadata": {
        "id": "03lSXt04cYIn"
      },
      "execution_count": null,
      "outputs": []
    },
    {
      "cell_type": "code",
      "source": [],
      "metadata": {
        "id": "GOO5mENqcYF0"
      },
      "execution_count": null,
      "outputs": []
    },
    {
      "cell_type": "code",
      "source": [],
      "metadata": {
        "id": "4fCsptJVcYCo"
      },
      "execution_count": null,
      "outputs": []
    },
    {
      "cell_type": "code",
      "source": [],
      "metadata": {
        "id": "c_E6wF8dcX_3"
      },
      "execution_count": null,
      "outputs": []
    },
    {
      "cell_type": "code",
      "source": [],
      "metadata": {
        "id": "iSb7sQvucX86"
      },
      "execution_count": null,
      "outputs": []
    },
    {
      "cell_type": "code",
      "source": [],
      "metadata": {
        "id": "vRRxYjX1cX6H"
      },
      "execution_count": null,
      "outputs": []
    },
    {
      "cell_type": "code",
      "source": [],
      "metadata": {
        "id": "Kpk641LTcX3b"
      },
      "execution_count": null,
      "outputs": []
    },
    {
      "cell_type": "code",
      "source": [],
      "metadata": {
        "id": "h_Pris_-cX0o"
      },
      "execution_count": null,
      "outputs": []
    }
  ]
}