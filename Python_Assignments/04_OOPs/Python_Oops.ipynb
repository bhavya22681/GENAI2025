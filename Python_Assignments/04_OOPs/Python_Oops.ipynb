{
  "nbformat": 4,
  "nbformat_minor": 0,
  "metadata": {
    "colab": {
      "provenance": []
    },
    "kernelspec": {
      "name": "python3",
      "display_name": "Python 3"
    },
    "language_info": {
      "name": "python"
    }
  },
  "cells": [
    {
      "cell_type": "code",
      "source": [
        "class Name:\n",
        "  def greet(self):\n",
        "    return \"Hello \"+self.name\n",
        "p1=Name()\n",
        "p1.name=\"Candy\"\n",
        "p1.greet()"
      ],
      "metadata": {
        "id": "IMV3ko2gayOd",
        "colab": {
          "base_uri": "https://localhost:8080/",
          "height": 36
        },
        "outputId": "b0d67d2b-cfa7-4806-bfba-f84ff3544da2"
      },
      "execution_count": 23,
      "outputs": [
        {
          "output_type": "execute_result",
          "data": {
            "text/plain": [
              "'Hello Candy'"
            ],
            "application/vnd.google.colaboratory.intrinsic+json": {
              "type": "string"
            }
          },
          "metadata": {},
          "execution_count": 23
        }
      ]
    },
    {
      "cell_type": "code",
      "source": [
        "class Name1:\n",
        "  def __init__(self,name):\n",
        "    self.x=name\n",
        "  def greet(self):\n",
        "    return \"hello \"+self.x\n",
        "d1=Name()\n",
        "d1.name=\"Candy\"\n",
        "d1.greet()\n"
      ],
      "metadata": {
        "id": "OLvPaZK1ayIF",
        "colab": {
          "base_uri": "https://localhost:8080/",
          "height": 36
        },
        "outputId": "383b7a57-86b5-406c-9841-bd544a947bf5"
      },
      "execution_count": 24,
      "outputs": [
        {
          "output_type": "execute_result",
          "data": {
            "text/plain": [
              "'Hello Candy'"
            ],
            "application/vnd.google.colaboratory.intrinsic+json": {
              "type": "string"
            }
          },
          "metadata": {},
          "execution_count": 24
        }
      ]
    },
    {
      "cell_type": "code",
      "source": [
        "class Marks:\n",
        "  def __init__(self,marks,attendance):\n",
        "    self.marks=marks\n",
        "    self.attendance=attendance\n",
        "  def marks_grade(self):\n",
        "    if self.marks<35:\n",
        "      return \"fail\"\n",
        "    elif self.marks<60:\n",
        "      return \"2nd class\"\n",
        "    elif self.marks<90:\n",
        "      return \"1st class\"\n",
        "  def attendance_grade(self):\n",
        "    if self.attendance<100:\n",
        "      return \"Debarred\"\n",
        "    elif self.attendance<200:\n",
        "      return \"Eligible\"\n",
        "\n",
        "student1=Marks(60,100)\n",
        "student1.marks_grade()\n",
        "\n"
      ],
      "metadata": {
        "id": "KDiXIsNfayBV",
        "colab": {
          "base_uri": "https://localhost:8080/",
          "height": 36
        },
        "outputId": "1f1a4b14-188f-4ce6-f1e0-dfa92fa057f3"
      },
      "execution_count": 25,
      "outputs": [
        {
          "output_type": "execute_result",
          "data": {
            "text/plain": [
              "'1st class'"
            ],
            "application/vnd.google.colaboratory.intrinsic+json": {
              "type": "string"
            }
          },
          "metadata": {},
          "execution_count": 25
        }
      ]
    },
    {
      "cell_type": "code",
      "source": [
        "class Marks:\n",
        "  def __init__(self,marks,attendance):\n",
        "    self.marks=marks\n",
        "    self.attendance=attendance\n",
        "  def marks_grade(self):\n",
        "    if self.marks<35:\n",
        "      return \"fail\"\n",
        "    elif self.marks<60:\n",
        "      return \"2nd class\"\n",
        "    elif self.marks<90:\n",
        "      return \"1st class\"\n",
        "  def attendance_grade(self):\n",
        "    if self.attendance<100:\n",
        "      return \"Debarred\"\n",
        "    elif self.attendance<200:\n",
        "      return \"Eligible\"\n",
        "student1=Marks(70,100)\n",
        "student1.attendance_grade()"
      ],
      "metadata": {
        "id": "I_8gDSfS14bk",
        "colab": {
          "base_uri": "https://localhost:8080/",
          "height": 36
        },
        "outputId": "c77385ad-7966-438b-acd9-39f68db35f1d"
      },
      "execution_count": 26,
      "outputs": [
        {
          "output_type": "execute_result",
          "data": {
            "text/plain": [
              "'Eligible'"
            ],
            "application/vnd.google.colaboratory.intrinsic+json": {
              "type": "string"
            }
          },
          "metadata": {},
          "execution_count": 26
        }
      ]
    },
    {
      "cell_type": "code",
      "source": [
        "class Marks:\n",
        "  def __init__(self,marks,attendance):\n",
        "    self.marks=marks\n",
        "    self.attendance=attendance\n",
        "  def marks_grade(self):\n",
        "    if self.marks<35:\n",
        "      return \"fail\"\n",
        "    elif self.marks<60:\n",
        "      return \"2nd class\"\n",
        "    elif self.marks<90:\n",
        "      return \"1st class\"\n",
        "  def attendance_grade(self):\n",
        "    if self.attendance<100:\n",
        "      return \"Debarred\"\n",
        "    elif self.attendance<200:\n",
        "      return \"Eligible\"\n",
        "student1=Marks(80,200)\n",
        "student1.marks"
      ],
      "metadata": {
        "colab": {
          "base_uri": "https://localhost:8080/"
        },
        "id": "OS_VrA8q4hfg",
        "outputId": "b7187036-5568-4d46-c875-e6c3a7b403b4"
      },
      "execution_count": 29,
      "outputs": [
        {
          "output_type": "execute_result",
          "data": {
            "text/plain": [
              "80"
            ]
          },
          "metadata": {},
          "execution_count": 29
        }
      ]
    },
    {
      "cell_type": "code",
      "source": [
        "class Marks:\n",
        "  def __init__(self,marks,attendance):\n",
        "    self.marks=marks\n",
        "    self.attendance=attendance\n",
        "  def marks_grade(self):\n",
        "    if self.marks<35:\n",
        "      return \"fail\"\n",
        "    elif self.marks<60:\n",
        "      return \"2nd class\"\n",
        "    elif self.marks<90:\n",
        "      return \"1st class\"\n",
        "  def attendance_grade(self):\n",
        "    if self.attendance<100:\n",
        "      return \"Debarred\"\n",
        "    elif self.attendance<200:\n",
        "      return \"Eligible\"\n",
        "student1=Marks(70,200)\n",
        "student1.attendance"
      ],
      "metadata": {
        "colab": {
          "base_uri": "https://localhost:8080/"
        },
        "id": "vUArGT2o41ZA",
        "outputId": "3227778c-61f4-4ef5-d8eb-0e859eba7e72"
      },
      "execution_count": 32,
      "outputs": [
        {
          "output_type": "execute_result",
          "data": {
            "text/plain": [
              "200"
            ]
          },
          "metadata": {},
          "execution_count": 32
        }
      ]
    },
    {
      "cell_type": "code",
      "source": [
        "import math\n",
        "math.pi"
      ],
      "metadata": {
        "colab": {
          "base_uri": "https://localhost:8080/"
        },
        "id": "0t357ODTjLzV",
        "outputId": "f17f95af-65fa-49b8-dde8-e202cd090302"
      },
      "execution_count": 31,
      "outputs": [
        {
          "output_type": "execute_result",
          "data": {
            "text/plain": [
              "3.141592653589793"
            ]
          },
          "metadata": {},
          "execution_count": 31
        }
      ]
    },
    {
      "cell_type": "code",
      "source": [
        "class CircleProperties:\n",
        "  def __init__(self,r):\n",
        "    self.r=r\n",
        "  def area(self):\n",
        "    return math.pi*self.r*self.r\n",
        "  def circ(self):\n",
        "    return math.pi*2*self.r"
      ],
      "metadata": {
        "id": "NgDDtusLax0U"
      },
      "execution_count": 33,
      "outputs": []
    },
    {
      "cell_type": "code",
      "source": [
        "object1=CircleProperties(60)\n",
        "object1.area()"
      ],
      "metadata": {
        "colab": {
          "base_uri": "https://localhost:8080/"
        },
        "id": "RwhncLzIj5Lc",
        "outputId": "2b98321a-999e-4669-ddb6-3c9f6fe32cae"
      },
      "execution_count": 34,
      "outputs": [
        {
          "output_type": "execute_result",
          "data": {
            "text/plain": [
              "11309.733552923255"
            ]
          },
          "metadata": {},
          "execution_count": 34
        }
      ]
    },
    {
      "cell_type": "code",
      "source": [
        "object1=CircleProperties(60)\n",
        "object1.circ()"
      ],
      "metadata": {
        "colab": {
          "base_uri": "https://localhost:8080/"
        },
        "id": "KNX28q0Fj5JU",
        "outputId": "c94220c4-4167-430f-b0f9-98ca2986167c"
      },
      "execution_count": 35,
      "outputs": [
        {
          "output_type": "execute_result",
          "data": {
            "text/plain": [
              "376.99111843077515"
            ]
          },
          "metadata": {},
          "execution_count": 35
        }
      ]
    },
    {
      "cell_type": "code",
      "source": [
        "object1=CircleProperties(60)\n",
        "object1.r"
      ],
      "metadata": {
        "colab": {
          "base_uri": "https://localhost:8080/"
        },
        "id": "tKJKdInhj5G7",
        "outputId": "6329a6ac-c674-4543-c735-3f812da01bfb"
      },
      "execution_count": 37,
      "outputs": [
        {
          "output_type": "execute_result",
          "data": {
            "text/plain": [
              "60"
            ]
          },
          "metadata": {},
          "execution_count": 37
        }
      ]
    },
    {
      "cell_type": "code",
      "source": [
        "class Marks:\n",
        "  def __init__(self,marks,attendance):\n",
        "    self.marks=marks\n",
        "    self.attendance=attendance\n",
        "\n",
        "  def attendance_grade(self):\n",
        "    if self.attendance<100:\n",
        "      return \"fail\"\n",
        "    elif self.attendance<=200:\n",
        "      return \"pass\"\n",
        "\n",
        "\n"
      ],
      "metadata": {
        "id": "qgXoYPBFaxul"
      },
      "execution_count": 38,
      "outputs": []
    },
    {
      "cell_type": "code",
      "source": [
        "\n",
        "student1=Marks(40,200)\n",
        "student1.attendance_grade()"
      ],
      "metadata": {
        "id": "_6YggdSKaxsM",
        "colab": {
          "base_uri": "https://localhost:8080/",
          "height": 36
        },
        "outputId": "a645add0-d5de-441b-a794-a97e746fe0d8"
      },
      "execution_count": 43,
      "outputs": [
        {
          "output_type": "execute_result",
          "data": {
            "text/plain": [
              "'pass'"
            ],
            "application/vnd.google.colaboratory.intrinsic+json": {
              "type": "string"
            }
          },
          "metadata": {},
          "execution_count": 43
        }
      ]
    },
    {
      "cell_type": "code",
      "source": [
        "student1=Marks(40,200)\n",
        "student1.marks"
      ],
      "metadata": {
        "id": "5rVvkL2GaxpE",
        "colab": {
          "base_uri": "https://localhost:8080/"
        },
        "outputId": "9e850eda-0522-4696-b607-51c58812f739"
      },
      "execution_count": 40,
      "outputs": [
        {
          "output_type": "execute_result",
          "data": {
            "text/plain": [
              "40"
            ]
          },
          "metadata": {},
          "execution_count": 40
        }
      ]
    },
    {
      "cell_type": "code",
      "source": [
        "student1=Marks(40,200)\n",
        "student1.attendance"
      ],
      "metadata": {
        "colab": {
          "base_uri": "https://localhost:8080/"
        },
        "id": "dtxSoF2gy6Qg",
        "outputId": "e69d025e-d872-4a53-b3ae-154196f84329"
      },
      "execution_count": 41,
      "outputs": [
        {
          "output_type": "execute_result",
          "data": {
            "text/plain": [
              "200"
            ]
          },
          "metadata": {},
          "execution_count": 41
        }
      ]
    },
    {
      "cell_type": "code",
      "source": [
        "class Rectangle:\n",
        "    def __init__(self, length, width):\n",
        "        self.length = length\n",
        "        self.width = width\n",
        "\n",
        "    def area(self):\n",
        "        return self.length * self.width\n",
        "\n",
        "    def perimeter(self):\n",
        "        return 2 * (self.length + self.width)\n",
        "\n",
        "    def display(self):\n",
        "        print(f\"{self.width} x {self.length}\")\n"
      ],
      "metadata": {
        "id": "p_KLUxAlaxmU"
      },
      "execution_count": 50,
      "outputs": []
    },
    {
      "cell_type": "code",
      "source": [
        "object1=Rectangle(20,40)\n",
        "object1.area()"
      ],
      "metadata": {
        "colab": {
          "base_uri": "https://localhost:8080/"
        },
        "outputId": "9cc87bef-ceb6-4efd-e6ac-0ad1c116d56d",
        "id": "lseTKr0s35gF"
      },
      "execution_count": 52,
      "outputs": [
        {
          "output_type": "execute_result",
          "data": {
            "text/plain": [
              "800"
            ]
          },
          "metadata": {},
          "execution_count": 52
        }
      ]
    },
    {
      "cell_type": "code",
      "source": [
        "object1=Rectangle(20,40)\n",
        "object1.perimeter()"
      ],
      "metadata": {
        "id": "9gVZF9zk3_Uk",
        "outputId": "e52216ab-40f7-4003-fa0d-2223c5fd0c69",
        "colab": {
          "base_uri": "https://localhost:8080/"
        }
      },
      "execution_count": 54,
      "outputs": [
        {
          "output_type": "execute_result",
          "data": {
            "text/plain": [
              "120"
            ]
          },
          "metadata": {},
          "execution_count": 54
        }
      ]
    },
    {
      "cell_type": "code",
      "source": [
        "object1=Rectangle(20,40)\n",
        "object1.display()"
      ],
      "metadata": {
        "colab": {
          "base_uri": "https://localhost:8080/"
        },
        "id": "mX4OrABf_fvH",
        "outputId": "eea6360a-2a93-4f82-caf0-0f3b71f6f073"
      },
      "execution_count": 88,
      "outputs": [
        {
          "output_type": "stream",
          "name": "stdout",
          "text": [
            "40 x 20\n"
          ]
        }
      ]
    },
    {
      "cell_type": "code",
      "source": [
        "class Circle:\n",
        "    def __init__(self, radius):\n",
        "        self.radius = radius\n",
        "\n",
        "    def area(self):\n",
        "        return 3.14 * self.radius ** 2\n",
        "\n",
        "    def circumference(self):\n",
        "        return 2 * 3.14 * self.radius\n",
        "\n",
        "    def display(self):\n",
        "        print(\"Radius:\", self.radius)"
      ],
      "metadata": {
        "id": "h8ZwkE8SlkxT"
      },
      "execution_count": 70,
      "outputs": []
    },
    {
      "cell_type": "code",
      "source": [
        "object1=Circle(20)\n",
        "object1.area()"
      ],
      "metadata": {
        "colab": {
          "base_uri": "https://localhost:8080/"
        },
        "id": "t1ECk9299OhI",
        "outputId": "5bce2c7f-447d-453a-9a73-fe4dcb6db90f"
      },
      "execution_count": 71,
      "outputs": [
        {
          "output_type": "execute_result",
          "data": {
            "text/plain": [
              "1256.0"
            ]
          },
          "metadata": {},
          "execution_count": 71
        }
      ]
    },
    {
      "cell_type": "code",
      "source": [
        "object1=Circle(20)\n",
        "object1.circumference ()"
      ],
      "metadata": {
        "colab": {
          "base_uri": "https://localhost:8080/"
        },
        "id": "U7ArZtDH9SX3",
        "outputId": "d78d175a-db28-4673-b962-e33874eac9de"
      },
      "execution_count": 72,
      "outputs": [
        {
          "output_type": "execute_result",
          "data": {
            "text/plain": [
              "125.60000000000001"
            ]
          },
          "metadata": {},
          "execution_count": 72
        }
      ]
    },
    {
      "cell_type": "code",
      "source": [
        "class Student:\n",
        "    def __init__(self, name, marks):\n",
        "        self.name = name\n",
        "        self.marks = marks\n",
        "\n",
        "    def get_average(self):\n",
        "        return sum(self.marks) / len(self.marks)\n",
        "\n",
        "    def display(self):\n",
        "        print(f\"Name: {self.name}, Marks: {self.marks}\")\n"
      ],
      "metadata": {
        "id": "OyJ9nPIKlkr_"
      },
      "execution_count": 81,
      "outputs": []
    },
    {
      "cell_type": "code",
      "source": [
        "object1=Student(\"Candy\",[80,90,90,90])\n",
        "object1.get_average()"
      ],
      "metadata": {
        "colab": {
          "base_uri": "https://localhost:8080/"
        },
        "id": "nalNUDGu-O4k",
        "outputId": "876dc275-abea-48f3-b06c-60bf3ceeaf3f"
      },
      "execution_count": 85,
      "outputs": [
        {
          "output_type": "execute_result",
          "data": {
            "text/plain": [
              "87.5"
            ]
          },
          "metadata": {},
          "execution_count": 85
        }
      ]
    },
    {
      "cell_type": "code",
      "source": [
        "object1=Student(\"Candy\",[80,90,90,90])\n",
        "object1.display()"
      ],
      "metadata": {
        "colab": {
          "base_uri": "https://localhost:8080/"
        },
        "id": "DPA_Qc3m-O1J",
        "outputId": "8b1c0d6e-ded5-4a00-d31d-218da3f488e9"
      },
      "execution_count": 87,
      "outputs": [
        {
          "output_type": "stream",
          "name": "stdout",
          "text": [
            "Name: Candy, Marks: [80, 90, 90, 90]\n"
          ]
        }
      ]
    },
    {
      "cell_type": "code",
      "source": [
        "class Car:\n",
        "    def __init__(self, brand, speed):\n",
        "        self.brand = brand\n",
        "        self.speed = speed\n",
        "\n",
        "    def accelerate(self):\n",
        "        self.speed += 100\n",
        "\n",
        "    def display(self):\n",
        "        print(f\"{self.brand} speed: {self.speed} km/h\")\n"
      ],
      "metadata": {
        "id": "gYK1Sd5X-Oxp"
      },
      "execution_count": 105,
      "outputs": []
    },
    {
      "cell_type": "code",
      "source": [
        "object1=Car(\"Thar\",200)\n",
        "object1.accelerate()\n",
        "object1.display()"
      ],
      "metadata": {
        "colab": {
          "base_uri": "https://localhost:8080/"
        },
        "id": "Y6gwEyMB_6Jf",
        "outputId": "9462fa84-ffe9-4484-9c13-16ca05daaa56"
      },
      "execution_count": 125,
      "outputs": [
        {
          "output_type": "stream",
          "name": "stdout",
          "text": [
            "Thar speed: 300 km/h\n"
          ]
        }
      ]
    },
    {
      "cell_type": "code",
      "source": [
        "class BankAccount:\n",
        "    def __init__(self, holder, balance):\n",
        "        self.holder = holder\n",
        "        self.balance = balance\n",
        "\n",
        "    def withdraw(self, amount):\n",
        "        self.balance -= amount\n",
        "\n",
        "    def deposit(self, amount):\n",
        "        self.balance += amount\n",
        "\n",
        "    def display(self):\n",
        "        print(f\"{self.holder} Balance: {self.balance}\")\n"
      ],
      "metadata": {
        "id": "NTZC7sJ0lkkT"
      },
      "execution_count": 108,
      "outputs": []
    },
    {
      "cell_type": "code",
      "source": [
        "object1=BankAccount(\"Candy\",6000000)\n",
        "object1.withdraw(6000)\n",
        "object1.deposit(100000)\n",
        "object1.display()"
      ],
      "metadata": {
        "colab": {
          "base_uri": "https://localhost:8080/"
        },
        "id": "CDNyjq-WB9F5",
        "outputId": "00e6603c-b0cc-4b1c-e816-d8bb3823cce7"
      },
      "execution_count": 126,
      "outputs": [
        {
          "output_type": "stream",
          "name": "stdout",
          "text": [
            "Candy Balance: 6094000\n"
          ]
        }
      ]
    },
    {
      "cell_type": "code",
      "source": [
        "class Book:\n",
        "    def __init__(self, title, author):\n",
        "        self.title = title\n",
        "        self.author = author\n",
        "\n",
        "    def display(self):\n",
        "        print(f\"{self.title} by {self.author}\")\n",
        "\n",
        "    def get_author(self):\n",
        "        return self.author\n"
      ],
      "metadata": {
        "id": "1Gr09mKRlkhk"
      },
      "execution_count": 119,
      "outputs": []
    },
    {
      "cell_type": "code",
      "source": [
        "object1=Book(\"I dont love you anymore\",\"Rithvik Singh\")\n",
        "object1.get_author\n",
        "object1.title\n",
        "object1.display()"
      ],
      "metadata": {
        "colab": {
          "base_uri": "https://localhost:8080/"
        },
        "id": "hWU563DxDQ7Z",
        "outputId": "1f5dff5f-0b14-4dd6-b24b-19470994f0d9"
      },
      "execution_count": 127,
      "outputs": [
        {
          "output_type": "stream",
          "name": "stdout",
          "text": [
            "I dont love you anymore by Rithvik Singh\n"
          ]
        }
      ]
    },
    {
      "cell_type": "code",
      "source": [
        "class Temperature:\n",
        "    def __init__(self, celsius):\n",
        "        self.celsius = celsius\n",
        "\n",
        "    def to_fahrenheit(self):\n",
        "        return (self.celsius * 9/5) + 30\n",
        "\n",
        "    def display(self):\n",
        "        print(f\"{self.Celsius }°C\")\n"
      ],
      "metadata": {
        "id": "AccSSIeWlke0"
      },
      "execution_count": 128,
      "outputs": []
    },
    {
      "cell_type": "code",
      "source": [
        "Temperature=Temperature(30)\n",
        "Temperature.to_fahrenheit()"
      ],
      "metadata": {
        "colab": {
          "base_uri": "https://localhost:8080/"
        },
        "id": "OkcgFr2HE61J",
        "outputId": "b9f14f62-5162-40d4-8d61-c41378ea2eb3"
      },
      "execution_count": 129,
      "outputs": [
        {
          "output_type": "execute_result",
          "data": {
            "text/plain": [
              "84.0"
            ]
          },
          "metadata": {},
          "execution_count": 129
        }
      ]
    },
    {
      "cell_type": "code",
      "source": [],
      "metadata": {
        "id": "q1yRc50yFuh2"
      },
      "execution_count": null,
      "outputs": []
    },
    {
      "cell_type": "markdown",
      "source": [
        "# **Properties of Object-Oriented Programming (OOP)**\n",
        "\n",
        "## Object-Oriented Programming is based on four main principles:\n",
        "\n",
        "🔹 1. Encapsulation\n",
        "Encapsulation is the process of bundling data and methods that operate on that data into a single unit (class).\n",
        "It helps hide internal details and restricts direct access to some components.\n",
        "Promotes data security, integrity, and modularity.\n",
        "Example concepts: private variables, getter/setter methods.\n",
        "\n",
        "\n",
        "🔹 2. Abstraction\n",
        "Abstraction means hiding complex implementation details and showing only the essential features to the user.\n",
        "Allows the user to interact with the system without knowing internal logic.\n",
        "Promotes simplification and focus on behavior rather than internal structure.\n",
        "\n",
        "\n",
        "🔹 3. Inheritance\n",
        "Inheritance is a mechanism where one class (child/subclass) inherits the properties and behaviors of another class (parent/superclass).\n",
        "Promotes code reusability and extensibility.\n",
        "Allows the creation of a hierarchical classification.\n",
        "\n",
        "\n",
        "🔹 4. Polymorphism\n",
        "Polymorphism means \"many forms\" — the ability of a method or object to behave differently based on context.\n",
        "Allows the same interface to be used for different data types or classes.\n",
        "Promotes flexibility and interchangeability in code.\n"
      ],
      "metadata": {
        "id": "HlfhtG1cFwkx"
      }
    },
    {
      "cell_type": "code",
      "source": [
        "class Preprocessor:\n",
        "    def __init__(self):\n",
        "        print(\"Preprocessor initialized\")\n",
        "\n",
        "    def clean(self):\n",
        "        print(\"Cleaning base data\")\n",
        "\n",
        "class TextPreprocessor(Preprocessor):\n",
        "    def __init__(self):\n",
        "        #super().__init__()\n",
        "        print(\"TextPreprocessor initialized\")\n",
        "\n",
        "    def tokenize(self):\n",
        "        print(\"Text tokenized\")\n",
        "object1=TextPreprocessor()\n",
        "object1.clean()\n",
        "object1.tokenize()"
      ],
      "metadata": {
        "colab": {
          "base_uri": "https://localhost:8080/"
        },
        "id": "OiD_8yaGoFmc",
        "outputId": "43f70291-31ce-4891-e8e3-6a19d204ad31"
      },
      "execution_count": 132,
      "outputs": [
        {
          "output_type": "stream",
          "name": "stdout",
          "text": [
            "TextPreprocessor initialized\n",
            "Cleaning base data\n",
            "Text tokenized\n"
          ]
        }
      ]
    },
    {
      "cell_type": "code",
      "source": [
        "class Model:\n",
        "    def __init__(self):\n",
        "        print(\"Base Model initialized\")\n",
        "\n",
        "    def train(self):\n",
        "        print(\"Training model...\")\n",
        "\n",
        "class LinearRegressionModel(Model):\n",
        "    def __init__(self):\n",
        "        super().__init__()\n",
        "        print(\"LinearRegressionModel ready\")\n",
        "\n",
        "    def predict(self):\n",
        "        print(\"Predicting using linear regression\")\n",
        "\n",
        "# Usage\n",
        "model = LinearRegressionModel()\n",
        "model.train()\n",
        "model.predict()\n"
      ],
      "metadata": {
        "colab": {
          "base_uri": "https://localhost:8080/"
        },
        "id": "1g2V9wbFm4pP",
        "outputId": "8992d0fc-ac0d-4b80-ab11-ca1c16a70e56"
      },
      "execution_count": 133,
      "outputs": [
        {
          "output_type": "stream",
          "name": "stdout",
          "text": [
            "Base Model initialized\n",
            "LinearRegressionModel ready\n",
            "Training model...\n",
            "Predicting using linear regression\n"
          ]
        }
      ]
    },
    {
      "cell_type": "code",
      "source": [
        "class Dataset:\n",
        "    def __init__(self):\n",
        "        print(\"Dataset initialized\")\n",
        "\n",
        "    def load(self):\n",
        "        print(\"Loading dataset...\")\n",
        "\n",
        "class CSVData(Dataset):\n",
        "    def __init__(self):\n",
        "        super().__init__()\n",
        "        print(\"CSVData initialized\")\n",
        "\n",
        "    def read_csv(self):\n",
        "        print(\"Reading CSV file\")\n",
        "\n",
        "class CleanedCSVData(CSVData):\n",
        "    def __init__(self):\n",
        "        super().__init__()\n",
        "        print(\"CleanedCSVData initialized\")\n",
        "\n",
        "    def clean(self):\n",
        "        print(\"Cleaning missing values\")\n",
        "\n",
        "object1=CleanedCSVData()\n",
        "object1.load()\n",
        "object1.read_csv()\n",
        "object1.clean()\n"
      ],
      "metadata": {
        "colab": {
          "base_uri": "https://localhost:8080/"
        },
        "id": "0e_4qTavm4kQ",
        "outputId": "7c2c3f17-4f83-4ab4-8d56-9d7c1b8d44a9"
      },
      "execution_count": 136,
      "outputs": [
        {
          "output_type": "stream",
          "name": "stdout",
          "text": [
            "Dataset initialized\n",
            "CSVData initialized\n",
            "CleanedCSVData initialized\n",
            "Loading dataset...\n",
            "Reading CSV file\n",
            "Cleaning missing values\n"
          ]
        }
      ]
    }
  ]
}