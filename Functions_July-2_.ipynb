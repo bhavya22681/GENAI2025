{
  "nbformat": 4,
  "nbformat_minor": 0,
  "metadata": {
    "colab": {
      "provenance": []
    },
    "kernelspec": {
      "name": "python3",
      "display_name": "Python 3"
    },
    "language_info": {
      "name": "python"
    }
  },
  "cells": [
    {
      "cell_type": "code",
      "execution_count": 2,
      "metadata": {
        "id": "T_63zMjhQwst"
      },
      "outputs": [],
      "source": [
        "def fucntion1():\n",
        "  return \"test\""
      ]
    },
    {
      "cell_type": "code",
      "source": [
        "fucntion1()"
      ],
      "metadata": {
        "colab": {
          "base_uri": "https://localhost:8080/",
          "height": 36
        },
        "id": "6EEe33L2Q113",
        "outputId": "94971b69-6311-4f4d-ba52-d3fa14ca207c"
      },
      "execution_count": 3,
      "outputs": [
        {
          "output_type": "execute_result",
          "data": {
            "text/plain": [
              "'test'"
            ],
            "application/vnd.google.colaboratory.intrinsic+json": {
              "type": "string"
            }
          },
          "metadata": {},
          "execution_count": 3
        }
      ]
    },
    {
      "cell_type": "code",
      "source": [
        "def square(x):\n",
        "  return x**2\n",
        "square(22)"
      ],
      "metadata": {
        "colab": {
          "base_uri": "https://localhost:8080/"
        },
        "id": "Zf5PZ7rrQ1zF",
        "outputId": "0436f1c6-90d7-4bc4-bbf7-3735ee8fc8bc"
      },
      "execution_count": 4,
      "outputs": [
        {
          "output_type": "execute_result",
          "data": {
            "text/plain": [
              "484"
            ]
          },
          "metadata": {},
          "execution_count": 4
        }
      ]
    },
    {
      "cell_type": "code",
      "source": [
        "b=lambda x:x**2\n",
        "b(22)"
      ],
      "metadata": {
        "colab": {
          "base_uri": "https://localhost:8080/"
        },
        "id": "4TPHu57LQ1wg",
        "outputId": "10756c53-08f2-4cb9-9b44-1703590d3519"
      },
      "execution_count": 5,
      "outputs": [
        {
          "output_type": "execute_result",
          "data": {
            "text/plain": [
              "484"
            ]
          },
          "metadata": {},
          "execution_count": 5
        }
      ]
    },
    {
      "cell_type": "code",
      "source": [
        "list(map(lambda x:x**2,[1,2,3,4,5]))"
      ],
      "metadata": {
        "colab": {
          "base_uri": "https://localhost:8080/"
        },
        "id": "Z9RuZCoEQ1t1",
        "outputId": "e9aadd15-a1f3-48a2-d126-2c21861a058f"
      },
      "execution_count": 6,
      "outputs": [
        {
          "output_type": "execute_result",
          "data": {
            "text/plain": [
              "[1, 4, 9, 16, 25]"
            ]
          },
          "metadata": {},
          "execution_count": 6
        }
      ]
    },
    {
      "cell_type": "code",
      "source": [
        "filter"
      ],
      "metadata": {
        "id": "NNIAAmLWQ1rI",
        "colab": {
          "base_uri": "https://localhost:8080/"
        },
        "outputId": "62fbf5f4-c86b-4567-cf6c-03f28d8c5f99"
      },
      "execution_count": 7,
      "outputs": [
        {
          "output_type": "execute_result",
          "data": {
            "text/plain": [
              "filter"
            ]
          },
          "metadata": {},
          "execution_count": 7
        }
      ]
    },
    {
      "cell_type": "code",
      "source": [
        "list(filter(lambda x:x%2==0,[1,2,3,4]))"
      ],
      "metadata": {
        "colab": {
          "base_uri": "https://localhost:8080/"
        },
        "id": "uoPgICusRb7K",
        "outputId": "91be8aa9-eeea-4a35-d3be-8c0b86c93c5c"
      },
      "execution_count": 8,
      "outputs": [
        {
          "output_type": "execute_result",
          "data": {
            "text/plain": [
              "[2, 4]"
            ]
          },
          "metadata": {},
          "execution_count": 8
        }
      ]
    },
    {
      "cell_type": "code",
      "source": [
        "for i in [1,2,3,4]:\n",
        "  if i%2==0:\n",
        "    print(i)"
      ],
      "metadata": {
        "colab": {
          "base_uri": "https://localhost:8080/"
        },
        "id": "eCODYF-vRb3q",
        "outputId": "5e78da3a-e3a6-4f5d-8457-62e8e65d9f53"
      },
      "execution_count": 9,
      "outputs": [
        {
          "output_type": "stream",
          "name": "stdout",
          "text": [
            "2\n",
            "4\n"
          ]
        }
      ]
    },
    {
      "cell_type": "code",
      "source": [
        "x=\"data science machine learning data text\"\n",
        "for i in x.split():\n",
        "  if len(i)%2==0:\n",
        "    print(i)"
      ],
      "metadata": {
        "colab": {
          "base_uri": "https://localhost:8080/"
        },
        "id": "OFkGRlzVSRhi",
        "outputId": "3b2fe077-76a0-4c01-8a4c-5c6537f2f182"
      },
      "execution_count": 10,
      "outputs": [
        {
          "output_type": "stream",
          "name": "stdout",
          "text": [
            "data\n",
            "learning\n",
            "data\n",
            "text\n"
          ]
        }
      ]
    },
    {
      "cell_type": "code",
      "source": [
        "list(filter(lambda x:len(x)%2==0,x.split()))"
      ],
      "metadata": {
        "colab": {
          "base_uri": "https://localhost:8080/"
        },
        "id": "mwiRcFexTLo7",
        "outputId": "6be60c50-4c78-47bc-9662-95a683751cd8"
      },
      "execution_count": 11,
      "outputs": [
        {
          "output_type": "execute_result",
          "data": {
            "text/plain": [
              "['data', 'learning', 'data', 'text']"
            ]
          },
          "metadata": {},
          "execution_count": 11
        }
      ]
    },
    {
      "cell_type": "code",
      "source": [
        "list(filter(lambda x:x%2==0,[1,2,3,4]))"
      ],
      "metadata": {
        "id": "-1PXD2btTEXG",
        "colab": {
          "base_uri": "https://localhost:8080/"
        },
        "outputId": "81775fc0-2b9e-457a-9ba5-e22beb90e06c"
      },
      "execution_count": 12,
      "outputs": [
        {
          "output_type": "execute_result",
          "data": {
            "text/plain": [
              "[2, 4]"
            ]
          },
          "metadata": {},
          "execution_count": 12
        }
      ]
    },
    {
      "cell_type": "code",
      "source": [
        "x=\"data @%@%@% science\"\n",
        "output=list(filter(lambda x:not(x.isalpha()),x))\n",
        "\"\".join(output)"
      ],
      "metadata": {
        "colab": {
          "base_uri": "https://localhost:8080/",
          "height": 36
        },
        "id": "HdvPDcj3TkRg",
        "outputId": "6a4d5283-a50d-404e-a4fe-e1e972f72ded"
      },
      "execution_count": 13,
      "outputs": [
        {
          "output_type": "execute_result",
          "data": {
            "text/plain": [
              "' @%@%@% '"
            ],
            "application/vnd.google.colaboratory.intrinsic+json": {
              "type": "string"
            }
          },
          "metadata": {},
          "execution_count": 13
        }
      ]
    },
    {
      "cell_type": "code",
      "source": [
        "\"\".join(list(filter(lambda x:not(x.isalpha()),x)))"
      ],
      "metadata": {
        "colab": {
          "base_uri": "https://localhost:8080/",
          "height": 36
        },
        "id": "ijXz9eUvTkN-",
        "outputId": "e219228e-360e-415c-e9b3-7885bfc429f1"
      },
      "execution_count": 14,
      "outputs": [
        {
          "output_type": "execute_result",
          "data": {
            "text/plain": [
              "' @%@%@% '"
            ],
            "application/vnd.google.colaboratory.intrinsic+json": {
              "type": "string"
            }
          },
          "metadata": {},
          "execution_count": 14
        }
      ]
    },
    {
      "cell_type": "code",
      "source": [
        "def addition(a,b):\n",
        "  return a+b"
      ],
      "metadata": {
        "id": "3fmqamAHUpE5"
      },
      "execution_count": 15,
      "outputs": []
    },
    {
      "cell_type": "code",
      "source": [
        "addition(10,20)"
      ],
      "metadata": {
        "colab": {
          "base_uri": "https://localhost:8080/"
        },
        "id": "LpQPjQTFUpCe",
        "outputId": "100d5775-54ca-4236-9162-5a5c207dab06"
      },
      "execution_count": 16,
      "outputs": [
        {
          "output_type": "execute_result",
          "data": {
            "text/plain": [
              "30"
            ]
          },
          "metadata": {},
          "execution_count": 16
        }
      ]
    },
    {
      "cell_type": "code",
      "source": [
        "from functools import reduce"
      ],
      "metadata": {
        "id": "RWSXI3_SUo_5"
      },
      "execution_count": 17,
      "outputs": []
    },
    {
      "cell_type": "code",
      "source": [
        "reduce(lambda a,b:a+b,[20,30,40,50,60])"
      ],
      "metadata": {
        "colab": {
          "base_uri": "https://localhost:8080/"
        },
        "id": "8-Rzj553Uo9c",
        "outputId": "f63c4172-1662-47a2-9fc5-12ed2f1cf909"
      },
      "execution_count": 18,
      "outputs": [
        {
          "output_type": "execute_result",
          "data": {
            "text/plain": [
              "200"
            ]
          },
          "metadata": {},
          "execution_count": 18
        }
      ]
    },
    {
      "cell_type": "code",
      "source": [
        "def function1(a,b):\n",
        "  if a<b:\n",
        "    return a\n",
        "  else:\n",
        "    return b\n",
        "reduce(function1,[22,23,1,2,21,45])"
      ],
      "metadata": {
        "colab": {
          "base_uri": "https://localhost:8080/"
        },
        "id": "2E5C4w7QUo69",
        "outputId": "feac7cbc-37c8-4c95-dc58-41923e5fdae9"
      },
      "execution_count": 19,
      "outputs": [
        {
          "output_type": "execute_result",
          "data": {
            "text/plain": [
              "1"
            ]
          },
          "metadata": {},
          "execution_count": 19
        }
      ]
    },
    {
      "cell_type": "code",
      "source": [
        "reduce(lambda x, y: x if x > y else y, [5, 3, 9, 2])"
      ],
      "metadata": {
        "colab": {
          "base_uri": "https://localhost:8080/"
        },
        "id": "wUMj1du7Uo4Z",
        "outputId": "c97f1696-aca7-4986-e7ea-a6c7b13db89a"
      },
      "execution_count": 20,
      "outputs": [
        {
          "output_type": "execute_result",
          "data": {
            "text/plain": [
              "9"
            ]
          },
          "metadata": {},
          "execution_count": 20
        }
      ]
    },
    {
      "cell_type": "code",
      "source": [
        "reduce(lambda x, y: str(x) + str(y), [1, 2, 3, 4])"
      ],
      "metadata": {
        "colab": {
          "base_uri": "https://localhost:8080/",
          "height": 36
        },
        "id": "PcHRcQO6Uo1s",
        "outputId": "ccf93f3f-f8db-4133-e488-90c764bf7b39"
      },
      "execution_count": 21,
      "outputs": [
        {
          "output_type": "execute_result",
          "data": {
            "text/plain": [
              "'1234'"
            ],
            "application/vnd.google.colaboratory.intrinsic+json": {
              "type": "string"
            }
          },
          "metadata": {},
          "execution_count": 21
        }
      ]
    },
    {
      "cell_type": "code",
      "source": [
        "reduce(lambda x, y: x + y, [[1, 2,3], [3, 4], [5]])"
      ],
      "metadata": {
        "colab": {
          "base_uri": "https://localhost:8080/"
        },
        "id": "VChwmho3UozB",
        "outputId": "433b3886-4531-4975-8818-80f8bf8c36b1"
      },
      "execution_count": 22,
      "outputs": [
        {
          "output_type": "execute_result",
          "data": {
            "text/plain": [
              "[1, 2, 3, 3, 4, 5]"
            ]
          },
          "metadata": {},
          "execution_count": 22
        }
      ]
    },
    {
      "cell_type": "code",
      "source": [
        "import math\n",
        "reduce(math.gcd, [48, 64, 16])"
      ],
      "metadata": {
        "colab": {
          "base_uri": "https://localhost:8080/"
        },
        "id": "K8TG3c_YTkLU",
        "outputId": "ca19627f-46a3-44a5-d046-9f512b86a420"
      },
      "execution_count": 23,
      "outputs": [
        {
          "output_type": "execute_result",
          "data": {
            "text/plain": [
              "16"
            ]
          },
          "metadata": {},
          "execution_count": 23
        }
      ]
    },
    {
      "cell_type": "code",
      "source": [
        "x=\"data science machine learning\".split()"
      ],
      "metadata": {
        "id": "PjkTcaLhTkIg"
      },
      "execution_count": 24,
      "outputs": []
    },
    {
      "cell_type": "code",
      "source": [
        "x"
      ],
      "metadata": {
        "colab": {
          "base_uri": "https://localhost:8080/"
        },
        "id": "oRTVByxjTkF1",
        "outputId": "7917988f-e1b1-466e-da2d-fa4f0f667305"
      },
      "execution_count": 25,
      "outputs": [
        {
          "output_type": "execute_result",
          "data": {
            "text/plain": [
              "['data', 'science', 'machine', 'learning']"
            ]
          },
          "metadata": {},
          "execution_count": 25
        }
      ]
    },
    {
      "cell_type": "code",
      "source": [
        "sumvalue=0\n",
        "for i in x:\n",
        "  sumvalue=sumvalue+len(i)\n",
        "sumvalue"
      ],
      "metadata": {
        "colab": {
          "base_uri": "https://localhost:8080/"
        },
        "id": "N4XWlhKVXS8n",
        "outputId": "b74a2761-5f94-4a68-8b9f-59f2a896814c"
      },
      "execution_count": 26,
      "outputs": [
        {
          "output_type": "execute_result",
          "data": {
            "text/plain": [
              "26"
            ]
          },
          "metadata": {},
          "execution_count": 26
        }
      ]
    },
    {
      "cell_type": "code",
      "source": [
        "x"
      ],
      "metadata": {
        "colab": {
          "base_uri": "https://localhost:8080/"
        },
        "id": "tmh6bOezYpvG",
        "outputId": "25a04dae-6175-4f82-c760-a579a755da88"
      },
      "execution_count": 27,
      "outputs": [
        {
          "output_type": "execute_result",
          "data": {
            "text/plain": [
              "['data', 'science', 'machine', 'learning']"
            ]
          },
          "metadata": {},
          "execution_count": 27
        }
      ]
    },
    {
      "cell_type": "code",
      "source": [
        "reduce(lambda a, b: a+len(b),x,0)"
      ],
      "metadata": {
        "colab": {
          "base_uri": "https://localhost:8080/"
        },
        "id": "_0BFeg6lXzme",
        "outputId": "e54aa1c6-1e6c-44cc-fd95-3159e53069c0"
      },
      "execution_count": 28,
      "outputs": [
        {
          "output_type": "execute_result",
          "data": {
            "text/plain": [
              "26"
            ]
          },
          "metadata": {},
          "execution_count": 28
        }
      ]
    },
    {
      "cell_type": "code",
      "source": [
        "x"
      ],
      "metadata": {
        "colab": {
          "base_uri": "https://localhost:8080/"
        },
        "id": "BldTLr5PX_NZ",
        "outputId": "c790894b-ef94-4f86-dff1-2755e25d71a3"
      },
      "execution_count": 29,
      "outputs": [
        {
          "output_type": "execute_result",
          "data": {
            "text/plain": [
              "['data', 'science', 'machine', 'learning']"
            ]
          },
          "metadata": {},
          "execution_count": 29
        }
      ]
    },
    {
      "cell_type": "code",
      "source": [
        "x=\"data science machine learning\""
      ],
      "metadata": {
        "id": "iAZZ2GFuZUF_"
      },
      "execution_count": 30,
      "outputs": []
    },
    {
      "cell_type": "code",
      "source": [
        "def function1(a,b):\n",
        "  return a+b\n",
        "function1(10,20)"
      ],
      "metadata": {
        "id": "-Q2i8T1dZUAJ",
        "colab": {
          "base_uri": "https://localhost:8080/"
        },
        "outputId": "cf586b7e-87dd-48ae-f5ed-925541a1e028"
      },
      "execution_count": 31,
      "outputs": [
        {
          "output_type": "execute_result",
          "data": {
            "text/plain": [
              "30"
            ]
          },
          "metadata": {},
          "execution_count": 31
        }
      ]
    },
    {
      "cell_type": "code",
      "source": [
        "def function1(a,b,c=60):\n",
        "  return a+b+c\n",
        "function1(70,20)"
      ],
      "metadata": {
        "id": "AgUYDDu3ZT9U",
        "colab": {
          "base_uri": "https://localhost:8080/"
        },
        "outputId": "60ebfe09-f0ec-4407-ebee-4591a91ed9f5"
      },
      "execution_count": 31,
      "outputs": [
        {
          "output_type": "execute_result",
          "data": {
            "text/plain": [
              "150"
            ]
          },
          "metadata": {},
          "execution_count": 31
        }
      ]
    },
    {
      "cell_type": "code",
      "source": [
        "def function1(*args):\n",
        "  return sum(args)\n",
        "function1(10,20)"
      ],
      "metadata": {
        "id": "5VzhhByRZT6N",
        "colab": {
          "base_uri": "https://localhost:8080/"
        },
        "outputId": "d6a54286-8e4a-4141-f32c-6c2fea323faa"
      },
      "execution_count": 32,
      "outputs": [
        {
          "output_type": "execute_result",
          "data": {
            "text/plain": [
              "30"
            ]
          },
          "metadata": {},
          "execution_count": 32
        }
      ]
    },
    {
      "cell_type": "code",
      "source": [
        "def function1(*args):\n",
        "  return sum(args)\n",
        "function1(10,20,40,50)"
      ],
      "metadata": {
        "id": "NstFL7MTZTzu",
        "colab": {
          "base_uri": "https://localhost:8080/"
        },
        "outputId": "3e075953-a573-401f-bc35-247ddda4eab4"
      },
      "execution_count": 33,
      "outputs": [
        {
          "output_type": "execute_result",
          "data": {
            "text/plain": [
              "120"
            ]
          },
          "metadata": {},
          "execution_count": 33
        }
      ]
    },
    {
      "cell_type": "code",
      "source": [
        "def function1(*args):\n",
        "  return type(args)\n",
        "function1(10,20,40,50)"
      ],
      "metadata": {
        "id": "Ea4ciq69ZTw3",
        "colab": {
          "base_uri": "https://localhost:8080/"
        },
        "outputId": "9788194a-7c47-401c-d51e-edbc81cd813c"
      },
      "execution_count": 34,
      "outputs": [
        {
          "output_type": "execute_result",
          "data": {
            "text/plain": [
              "tuple"
            ]
          },
          "metadata": {},
          "execution_count": 34
        }
      ]
    },
    {
      "cell_type": "code",
      "source": [
        "def function1(*args):\n",
        "  return args[0][0]\n",
        "function1(\"data\",\"science\",\"machine\")"
      ],
      "metadata": {
        "id": "96V41qfPZTtr",
        "colab": {
          "base_uri": "https://localhost:8080/",
          "height": 36
        },
        "outputId": "5012f7d2-fe91-4faf-f401-910490547929"
      },
      "execution_count": 35,
      "outputs": [
        {
          "output_type": "execute_result",
          "data": {
            "text/plain": [
              "'d'"
            ],
            "application/vnd.google.colaboratory.intrinsic+json": {
              "type": "string"
            }
          },
          "metadata": {},
          "execution_count": 35
        }
      ]
    },
    {
      "cell_type": "code",
      "source": [
        "def function1(*args):\n",
        "  return args[0][0].isalpha()\n",
        "function1(\"data\",\"science\",\"machine\")"
      ],
      "metadata": {
        "id": "hux73chtZTq2",
        "colab": {
          "base_uri": "https://localhost:8080/"
        },
        "outputId": "7869a750-1e3f-4b60-f150-97f9d5f0eca2"
      },
      "execution_count": 36,
      "outputs": [
        {
          "output_type": "execute_result",
          "data": {
            "text/plain": [
              "True"
            ]
          },
          "metadata": {},
          "execution_count": 36
        }
      ]
    },
    {
      "cell_type": "code",
      "source": [
        "def function1(**kwargs):\n",
        "  return kwargs[\"b\"]\n",
        "function1(a=0,b=20)"
      ],
      "metadata": {
        "id": "y7DfbkjkZTmD",
        "colab": {
          "base_uri": "https://localhost:8080/"
        },
        "outputId": "41d62e47-5ff5-4124-c9c2-7ea2942d73aa"
      },
      "execution_count": 37,
      "outputs": [
        {
          "output_type": "execute_result",
          "data": {
            "text/plain": [
              "20"
            ]
          },
          "metadata": {},
          "execution_count": 37
        }
      ]
    },
    {
      "cell_type": "code",
      "source": [
        "def get_name(**kwargs):\n",
        "  return kwargs.get('name','no name provided')\n",
        "get_name(name=\"Bhavya\")"
      ],
      "metadata": {
        "id": "-PqTkP4mZTgC",
        "colab": {
          "base_uri": "https://localhost:8080/",
          "height": 36
        },
        "outputId": "097d18c8-a393-42bd-8f0f-306a2e7d6b51"
      },
      "execution_count": 38,
      "outputs": [
        {
          "output_type": "execute_result",
          "data": {
            "text/plain": [
              "'Bhavya'"
            ],
            "application/vnd.google.colaboratory.intrinsic+json": {
              "type": "string"
            }
          },
          "metadata": {},
          "execution_count": 38
        }
      ]
    },
    {
      "cell_type": "code",
      "source": [
        "def get_name(**kwargs):\n",
        "  return kwargs.get('name','no name provided')\n",
        "get_name(name1=\"Bhavya\")"
      ],
      "metadata": {
        "id": "E8Dqd6TZZTck",
        "colab": {
          "base_uri": "https://localhost:8080/",
          "height": 36
        },
        "outputId": "ae02a588-0519-4cb6-b196-81745ee8f77f"
      },
      "execution_count": 39,
      "outputs": [
        {
          "output_type": "execute_result",
          "data": {
            "text/plain": [
              "'no name provided'"
            ],
            "application/vnd.google.colaboratory.intrinsic+json": {
              "type": "string"
            }
          },
          "metadata": {},
          "execution_count": 39
        }
      ]
    },
    {
      "cell_type": "code",
      "source": [
        "def configure_app(**kwargs):\n",
        "  settings={\"theme\":\"light\",\"version\":1.0}\n",
        "  settings.update(kwargs)\n",
        "  return settings\n",
        "configure_app(theme=\"dark\",version=1.0)"
      ],
      "metadata": {
        "id": "uxS4Alw6ZTZs",
        "colab": {
          "base_uri": "https://localhost:8080/"
        },
        "outputId": "76b62481-c314-4882-a309-f2b540377fa8"
      },
      "execution_count": 40,
      "outputs": [
        {
          "output_type": "execute_result",
          "data": {
            "text/plain": [
              "{'theme': 'dark', 'version': 1.0}"
            ]
          },
          "metadata": {},
          "execution_count": 40
        }
      ]
    },
    {
      "cell_type": "code",
      "source": [
        "def configure_app(**kwargs):\n",
        "  settings={\"theme\":\"light\",\"version\":1.0}\n",
        "  settings.update(kwargs)\n",
        "  return settings\n",
        "configure_app(theme1=\"dark\",version=1.0)"
      ],
      "metadata": {
        "colab": {
          "base_uri": "https://localhost:8080/"
        },
        "id": "yXGNAhuqlS4n",
        "outputId": "627ecd95-5db2-443e-c674-dc6a520a92e6"
      },
      "execution_count": 41,
      "outputs": [
        {
          "output_type": "execute_result",
          "data": {
            "text/plain": [
              "{'theme': 'light', 'version': 1.0, 'theme1': 'dark'}"
            ]
          },
          "metadata": {},
          "execution_count": 41
        }
      ]
    },
    {
      "cell_type": "code",
      "source": [
        "def my_func():\n",
        "  x=10\n",
        "  print(\"local x:\",x)\n",
        "my_func()"
      ],
      "metadata": {
        "colab": {
          "base_uri": "https://localhost:8080/"
        },
        "id": "6aTquu2rlS0-",
        "outputId": "f8688928-29a4-48e0-c2b9-a97175a8efc0"
      },
      "execution_count": 42,
      "outputs": [
        {
          "output_type": "stream",
          "name": "stdout",
          "text": [
            "local x: 10\n"
          ]
        }
      ]
    },
    {
      "cell_type": "code",
      "source": [
        "x=89\n",
        "def my_func():\n",
        "  x=10\n",
        "  print(\"local x:\",x)\n",
        "my_func()"
      ],
      "metadata": {
        "colab": {
          "base_uri": "https://localhost:8080/"
        },
        "id": "ws4w5VXflSyD",
        "outputId": "0f4ee473-b12e-47e2-836d-7680c340790f"
      },
      "execution_count": 43,
      "outputs": [
        {
          "output_type": "stream",
          "name": "stdout",
          "text": [
            "local x: 10\n"
          ]
        }
      ]
    },
    {
      "cell_type": "code",
      "source": [
        "x=89\n",
        "def my_func():\n",
        "  #x=10\n",
        "  print(\"local x:\",x)\n",
        "my_func()"
      ],
      "metadata": {
        "colab": {
          "base_uri": "https://localhost:8080/"
        },
        "id": "JFPm8fhcmqKv",
        "outputId": "d976229c-e536-49b3-e1f5-18dd6fef7546"
      },
      "execution_count": 45,
      "outputs": [
        {
          "output_type": "stream",
          "name": "stdout",
          "text": [
            "local x: 89\n"
          ]
        }
      ]
    },
    {
      "cell_type": "code",
      "source": [
        "def outer():\n",
        "  x=\"enclosing\"\n",
        "\n",
        "  def inner():\n",
        "    print(\"Enclosing x:\",x)\n",
        "\n",
        "  inner()\n",
        "outer()"
      ],
      "metadata": {
        "colab": {
          "base_uri": "https://localhost:8080/"
        },
        "id": "yLcxOtxMmqHa",
        "outputId": "7778e339-0b0c-4aa9-aa47-a946b5c33887"
      },
      "execution_count": 46,
      "outputs": [
        {
          "output_type": "stream",
          "name": "stdout",
          "text": [
            "Enclosing x: enclosing\n"
          ]
        }
      ]
    },
    {
      "cell_type": "code",
      "source": [
        "x=20\n",
        "def outer():\n",
        "  #x=\"enclosing\"\n",
        "\n",
        "  def inner():\n",
        "    print(\"Enclosing x:\",x)\n",
        "\n",
        "  inner()\n",
        "outer()"
      ],
      "metadata": {
        "colab": {
          "base_uri": "https://localhost:8080/"
        },
        "id": "i32f2DQqmqDR",
        "outputId": "c1fef815-56b2-4a92-bd9f-d9fb32d1ce21"
      },
      "execution_count": 47,
      "outputs": [
        {
          "output_type": "stream",
          "name": "stdout",
          "text": [
            "Enclosing x: 20\n"
          ]
        }
      ]
    },
    {
      "cell_type": "code",
      "source": [
        "x=\"Bhavya\"\n",
        "def outer():\n",
        "  #x=\"enclosing\"\n",
        "\n",
        "  def inner():\n",
        "    print(\"Enclosing x:\",x)\n",
        "\n",
        "  inner()\n",
        "outer()"
      ],
      "metadata": {
        "colab": {
          "base_uri": "https://localhost:8080/"
        },
        "id": "sCg-YgLOmp8h",
        "outputId": "d8fe8f04-2e81-4c46-ec38-66a5407220ca"
      },
      "execution_count": 48,
      "outputs": [
        {
          "output_type": "stream",
          "name": "stdout",
          "text": [
            "Enclosing x: Bhavya\n"
          ]
        }
      ]
    },
    {
      "cell_type": "code",
      "source": [
        "x=\"Bhavya\"\n",
        "def outer():\n",
        "  x=\"enclosing\"\n",
        "\n",
        "  def inner():\n",
        "    print(\"Enclosing x:\",x)\n",
        "\n",
        "  inner()\n",
        "outer()"
      ],
      "metadata": {
        "colab": {
          "base_uri": "https://localhost:8080/"
        },
        "id": "6gV1c2O8mp5J",
        "outputId": "a4d97736-3191-4b00-caf7-473980cf00c0"
      },
      "execution_count": 49,
      "outputs": [
        {
          "output_type": "stream",
          "name": "stdout",
          "text": [
            "Enclosing x: enclosing\n"
          ]
        }
      ]
    },
    {
      "cell_type": "code",
      "source": [
        "x=\"Bhavya\"\n",
        "def outer():\n",
        "  #x=\"enclosing\"\n",
        "\n",
        "  def inner():\n",
        "    x=20\n",
        "    print(\"Enclosing x:\",x)\n",
        "\n",
        "  inner()\n",
        "outer()"
      ],
      "metadata": {
        "colab": {
          "base_uri": "https://localhost:8080/"
        },
        "id": "xLkvJ3Kwmp1_",
        "outputId": "471f138e-ae58-4b02-a46f-529a74464539"
      },
      "execution_count": 50,
      "outputs": [
        {
          "output_type": "stream",
          "name": "stdout",
          "text": [
            "Enclosing x: 20\n"
          ]
        }
      ]
    },
    {
      "cell_type": "code",
      "source": [
        "def factorial(n):\n",
        "  if n==1:\n",
        "    return 1\n",
        "  return n * factorial(n-1)"
      ],
      "metadata": {
        "id": "zrxXgsj2nuaL"
      },
      "execution_count": 59,
      "outputs": []
    },
    {
      "cell_type": "code",
      "source": [
        "def outer():\n",
        "  def inner():\n",
        "    print(\"Hello from inner function1\")\n",
        "  inner()\n",
        "outer()\n"
      ],
      "metadata": {
        "colab": {
          "base_uri": "https://localhost:8080/"
        },
        "id": "kqtKUqcInuUc",
        "outputId": "b45b7743-c0a8-435d-f3d4-c834b51be357"
      },
      "execution_count": 60,
      "outputs": [
        {
          "output_type": "stream",
          "name": "stdout",
          "text": [
            "Hella from inner function1\n"
          ]
        }
      ]
    },
    {
      "cell_type": "code",
      "source": [],
      "metadata": {
        "id": "t8aLgZjVnuRJ"
      },
      "execution_count": null,
      "outputs": []
    },
    {
      "cell_type": "code",
      "source": [],
      "metadata": {
        "id": "09DQE-r0nuOX"
      },
      "execution_count": null,
      "outputs": []
    },
    {
      "cell_type": "code",
      "source": [],
      "metadata": {
        "id": "c73XHi5HnuL3"
      },
      "execution_count": null,
      "outputs": []
    }
  ]
}
