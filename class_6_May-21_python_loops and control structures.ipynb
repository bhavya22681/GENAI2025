{
  "nbformat": 4,
  "nbformat_minor": 0,
  "metadata": {
    "colab": {
      "provenance": []
    },
    "kernelspec": {
      "name": "python3",
      "display_name": "Python 3"
    },
    "language_info": {
      "name": "python"
    }
  },
  "cells": [
    {
      "cell_type": "code",
      "execution_count": 7,
      "metadata": {
        "colab": {
          "base_uri": "https://localhost:8080/"
        },
        "id": "iSf_n96D7Xyh",
        "outputId": "df497eb0-92eb-4e8c-bdd6-1941c45526eb"
      },
      "outputs": [
        {
          "output_type": "stream",
          "name": "stdout",
          "text": [
            "Greater than 5\n"
          ]
        }
      ],
      "source": [
        "# Example 1 Simple if\n",
        "\n",
        "x = 10\n",
        "if x > 5:\n",
        "    print(\"Greater than 5\")"
      ]
    },
    {
      "cell_type": "code",
      "source": [
        "# Example 2 if-else\n",
        "x = 3\n",
        "if x > 5:\n",
        "    print(\"Greater\")\n",
        "else:\n",
        "    print(\"Not greater\")\n"
      ],
      "metadata": {
        "colab": {
          "base_uri": "https://localhost:8080/"
        },
        "id": "VEfeV7uT7Y91",
        "outputId": "9ce210c1-ee85-44c2-ba5e-e9929a9a287f"
      },
      "execution_count": 10,
      "outputs": [
        {
          "output_type": "stream",
          "name": "stdout",
          "text": [
            "Not greater\n"
          ]
        }
      ]
    },
    {
      "cell_type": "code",
      "source": [
        "# Example 3 if-elif-else\n",
        "score = 85\n",
        "if score > 90:\n",
        "    print(\"A\")\n",
        "elif score > 80:\n",
        "    print(\"B\")\n",
        "else:\n",
        "    print(\"C\")\n"
      ],
      "metadata": {
        "colab": {
          "base_uri": "https://localhost:8080/"
        },
        "id": "gu_In9J18VlC",
        "outputId": "157cbcbd-123d-4c75-9c07-dee53c2460a8"
      },
      "execution_count": 11,
      "outputs": [
        {
          "output_type": "stream",
          "name": "stdout",
          "text": [
            "B\n"
          ]
        }
      ]
    },
    {
      "cell_type": "code",
      "source": [
        "# Example 4\n",
        "name = \"Alice\"\n",
        "if name == \"Alice\":\n",
        "    print(\"Welcome Alice\")"
      ],
      "metadata": {
        "colab": {
          "base_uri": "https://localhost:8080/"
        },
        "id": "BbD7d2II8Vhy",
        "outputId": "6e6b9f54-87c6-451f-dc74-f27a3c9f67a5"
      },
      "execution_count": 12,
      "outputs": [
        {
          "output_type": "stream",
          "name": "stdout",
          "text": [
            "Welcome Alice\n"
          ]
        }
      ]
    },
    {
      "cell_type": "code",
      "source": [
        "# Example 5\n",
        "age = 18\n",
        "if age >= 18:\n",
        "    print(\"Adult\")\n",
        "else:\n",
        "    print(\"Minor\")"
      ],
      "metadata": {
        "colab": {
          "base_uri": "https://localhost:8080/"
        },
        "id": "2Ext9gUF8VfK",
        "outputId": "43f75c32-954e-4ad9-a67b-b7cec0e1e653"
      },
      "execution_count": 13,
      "outputs": [
        {
          "output_type": "stream",
          "name": "stdout",
          "text": [
            "Adult\n"
          ]
        }
      ]
    },
    {
      "cell_type": "code",
      "source": [
        "# Example 6\n",
        "num = 0\n",
        "if num == 0:\n",
        "    print(\"Zero\")\n",
        "else:\n",
        "    print(\"Non-zero\")"
      ],
      "metadata": {
        "colab": {
          "base_uri": "https://localhost:8080/"
        },
        "id": "XdItMaC18Vci",
        "outputId": "3f6f69bd-de2f-46f0-a626-281007f18ae4"
      },
      "execution_count": 14,
      "outputs": [
        {
          "output_type": "stream",
          "name": "stdout",
          "text": [
            "Zero\n"
          ]
        }
      ]
    },
    {
      "cell_type": "code",
      "source": [
        "# Example 7\n",
        "n = -5\n",
        "if n < 0:\n",
        "    print(\"Negative\")\n",
        "elif n == 0:\n",
        "    print(\"Zero\")\n",
        "else:\n",
        "  print(\"positive\")"
      ],
      "metadata": {
        "colab": {
          "base_uri": "https://localhost:8080/"
        },
        "id": "tuMh0muQ8VZz",
        "outputId": "06faa321-d2ac-4e98-f199-0275430e7043"
      },
      "execution_count": 17,
      "outputs": [
        {
          "output_type": "stream",
          "name": "stdout",
          "text": [
            "Negative\n"
          ]
        }
      ]
    },
    {
      "cell_type": "code",
      "source": [
        "# Example 8\n",
        "temp = 30\n",
        "if temp > 25:\n",
        "    print(\"Hot\")\n",
        "else:\n",
        "    print(\"Cool\")\n"
      ],
      "metadata": {
        "colab": {
          "base_uri": "https://localhost:8080/"
        },
        "id": "gTigVMOj8VXo",
        "outputId": "288c619b-bb6e-482e-f9b5-50f624bd2f45"
      },
      "execution_count": 18,
      "outputs": [
        {
          "output_type": "stream",
          "name": "stdout",
          "text": [
            "Hot\n"
          ]
        }
      ]
    },
    {
      "cell_type": "code",
      "source": [
        "# Example 9\n",
        "language = \"Python\"\n",
        "if language == \"Python\":\n",
        "    print(\"Language matched\")\n"
      ],
      "metadata": {
        "colab": {
          "base_uri": "https://localhost:8080/"
        },
        "id": "rfe9sW4R8VUZ",
        "outputId": "1b5119eb-c553-4d0e-dcdb-a46cc1909d87"
      },
      "execution_count": 19,
      "outputs": [
        {
          "output_type": "stream",
          "name": "stdout",
          "text": [
            "Language matched\n"
          ]
        }
      ]
    },
    {
      "cell_type": "code",
      "source": [
        "# Example 10\n",
        "marks = 65\n",
        "if marks >= 90:\n",
        "    print(\"Excellent\")\n",
        "elif marks >= 75:\n",
        "    print(\"Very Good\")\n",
        "elif marks >= 50:\n",
        "    print(\"Good\")\n",
        "else:\n",
        "    print(\"Fail\")\n"
      ],
      "metadata": {
        "colab": {
          "base_uri": "https://localhost:8080/"
        },
        "id": "dzBeAZc08VQ6",
        "outputId": "3b440bd5-b301-47c0-9bac-2b9ce30fb018"
      },
      "execution_count": 20,
      "outputs": [
        {
          "output_type": "stream",
          "name": "stdout",
          "text": [
            "Good\n"
          ]
        }
      ]
    },
    {
      "cell_type": "code",
      "source": [
        "# Example 11\n",
        "flag = True\n",
        "if flag:\n",
        "    print(\"Flag is True\")"
      ],
      "metadata": {
        "colab": {
          "base_uri": "https://localhost:8080/"
        },
        "id": "XwlwHfOW8VLf",
        "outputId": "b00d50e5-8e55-47b4-ff64-338d89d9ef3d"
      },
      "execution_count": 23,
      "outputs": [
        {
          "output_type": "stream",
          "name": "stdout",
          "text": [
            "Flag is True\n"
          ]
        }
      ]
    },
    {
      "cell_type": "code",
      "source": [
        "# Example 12\n",
        "a, b = 10, 20\n",
        "if a < b:\n",
        "    print(\"a is less than b\")"
      ],
      "metadata": {
        "colab": {
          "base_uri": "https://localhost:8080/"
        },
        "id": "_eu3wRkS9s8b",
        "outputId": "22cdf01f-43ce-421e-ca18-27bfa4c63bac"
      },
      "execution_count": 22,
      "outputs": [
        {
          "output_type": "stream",
          "name": "stdout",
          "text": [
            "a is less than b\n"
          ]
        }
      ]
    },
    {
      "cell_type": "code",
      "source": [
        "# Example 13\n",
        "x = 100\n",
        "if x % 2 == 0:\n",
        "    print(\"Even\")\n",
        "else:\n",
        "    print(\"Odd\")\n"
      ],
      "metadata": {
        "colab": {
          "base_uri": "https://localhost:8080/"
        },
        "id": "weBV8Pkw9s3m",
        "outputId": "7667335c-b32b-4717-acd1-b7cc6e09a5dc"
      },
      "execution_count": 24,
      "outputs": [
        {
          "output_type": "stream",
          "name": "stdout",
          "text": [
            "Even\n"
          ]
        }
      ]
    },
    {
      "cell_type": "code",
      "source": [
        "# Example 14\n",
        "grade = 'A'\n",
        "if grade == 'A':\n",
        "    print(\"Excellent\")\n",
        "elif grade == 'B':\n",
        "    print(\"Good\")\n",
        "else:\n",
        "    print(\"Average\")\n"
      ],
      "metadata": {
        "colab": {
          "base_uri": "https://localhost:8080/"
        },
        "id": "YzIj2ifc9swQ",
        "outputId": "2214c9f2-b00e-4579-dc4e-182279401193"
      },
      "execution_count": 25,
      "outputs": [
        {
          "output_type": "stream",
          "name": "stdout",
          "text": [
            "Excellent\n"
          ]
        }
      ]
    },
    {
      "cell_type": "code",
      "source": [
        "# Example 15\n",
        "price = 120\n",
        "if price > 100:\n",
        "    print(\"Too expensive\")\n"
      ],
      "metadata": {
        "colab": {
          "base_uri": "https://localhost:8080/"
        },
        "id": "d-F5Ns1c9ss0",
        "outputId": "9dfcdd17-392c-47e7-cd29-c05d12d9233e"
      },
      "execution_count": 26,
      "outputs": [
        {
          "output_type": "stream",
          "name": "stdout",
          "text": [
            "Too expensive\n"
          ]
        }
      ]
    },
    {
      "cell_type": "code",
      "source": [
        "# Example 16\n",
        "rain = False\n",
        "if rain:\n",
        "    print(\"Take umbrella\")\n",
        "else:\n",
        "    print(\"No need\")"
      ],
      "metadata": {
        "colab": {
          "base_uri": "https://localhost:8080/"
        },
        "id": "V_S8-LAy9spv",
        "outputId": "d17f9d5f-03d3-4342-820e-377a95e82c8f"
      },
      "execution_count": 27,
      "outputs": [
        {
          "output_type": "stream",
          "name": "stdout",
          "text": [
            "No need\n"
          ]
        }
      ]
    },
    {
      "cell_type": "code",
      "source": [
        "# Example 17\n",
        "fruit = \"apple\"\n",
        "if fruit in [\"apple\", \"banana\", \"mango\"]:\n",
        "    print(\"Available\")\n"
      ],
      "metadata": {
        "colab": {
          "base_uri": "https://localhost:8080/"
        },
        "id": "d915TJ9Z9snB",
        "outputId": "8ab7a691-472d-4030-927a-c1dccd67b694"
      },
      "execution_count": 28,
      "outputs": [
        {
          "output_type": "stream",
          "name": "stdout",
          "text": [
            "Available\n"
          ]
        }
      ]
    },
    {
      "cell_type": "code",
      "source": [
        "# Example 18\n",
        "x = 25\n",
        "if x > 10 and x < 50:\n",
        "    print(\"In range\")"
      ],
      "metadata": {
        "colab": {
          "base_uri": "https://localhost:8080/"
        },
        "id": "kRnV8WcA9sk0",
        "outputId": "fb42d820-31af-4da0-a90d-22a71a032480"
      },
      "execution_count": 29,
      "outputs": [
        {
          "output_type": "stream",
          "name": "stdout",
          "text": [
            "In range\n"
          ]
        }
      ]
    },
    {
      "cell_type": "code",
      "source": [
        "# Example 19\n",
        "balance = 500\n",
        "withdraw = 600\n",
        "if balance >= withdraw:\n",
        "    print(\"Withdraw successful\")\n",
        "else:\n",
        "    print(\"Insufficient balance\")\n"
      ],
      "metadata": {
        "colab": {
          "base_uri": "https://localhost:8080/"
        },
        "id": "cKN3rfwz9siL",
        "outputId": "dff13c9d-46dd-45de-8d90-d9986ffb096c"
      },
      "execution_count": 30,
      "outputs": [
        {
          "output_type": "stream",
          "name": "stdout",
          "text": [
            "Insufficient balance\n"
          ]
        }
      ]
    },
    {
      "cell_type": "code",
      "source": [
        "# Example 20\n",
        "char = 'z'\n",
        "if char.isalpha():\n",
        "    print(\"Alphabet\")\n"
      ],
      "metadata": {
        "colab": {
          "base_uri": "https://localhost:8080/"
        },
        "id": "F5ECqL499seE",
        "outputId": "1352e4c6-ddff-49b0-cf58-c764bf8dca3a"
      },
      "execution_count": 31,
      "outputs": [
        {
          "output_type": "stream",
          "name": "stdout",
          "text": [
            "Alphabet\n"
          ]
        }
      ]
    },
    {
      "cell_type": "code",
      "source": [
        "# Example 21\n",
        "password = \"admin123\"\n",
        "if len(password) >= 8:\n",
        "    print(\"Valid Password\")"
      ],
      "metadata": {
        "colab": {
          "base_uri": "https://localhost:8080/"
        },
        "id": "pcOxj2HC9sak",
        "outputId": "fbb6d4f3-1600-4f58-b935-b81e9313b602"
      },
      "execution_count": 32,
      "outputs": [
        {
          "output_type": "stream",
          "name": "stdout",
          "text": [
            "Valid Password\n"
          ]
        }
      ]
    },
    {
      "cell_type": "code",
      "source": [
        "# Example 22\n",
        "x = 0\n",
        "if not x:\n",
        "    print(\"x is zero\")"
      ],
      "metadata": {
        "colab": {
          "base_uri": "https://localhost:8080/"
        },
        "id": "YWFiDgvj9sXz",
        "outputId": "be0b1c4b-5c3a-4f5c-ef74-77ada1ab91bb"
      },
      "execution_count": 33,
      "outputs": [
        {
          "output_type": "stream",
          "name": "stdout",
          "text": [
            "x is zero\n"
          ]
        }
      ]
    },
    {
      "cell_type": "code",
      "source": [
        "# Example 23\n",
        "user = \"admin\"\n",
        "if user == \"admin\":\n",
        "    print(\"Access granted\")\n"
      ],
      "metadata": {
        "colab": {
          "base_uri": "https://localhost:8080/"
        },
        "id": "NmAy9z6z9sUy",
        "outputId": "4e153d4e-0c2a-43c1-b484-8caed7b4abc9"
      },
      "execution_count": 34,
      "outputs": [
        {
          "output_type": "stream",
          "name": "stdout",
          "text": [
            "Access granted\n"
          ]
        }
      ]
    },
    {
      "cell_type": "code",
      "source": [
        "# Example 24\n",
        "x = 15\n",
        "if x % 5 == 0:\n",
        "    print(\"Divisible by 5\")\n"
      ],
      "metadata": {
        "colab": {
          "base_uri": "https://localhost:8080/"
        },
        "id": "eNTYWaza-sOB",
        "outputId": "deda1d09-097b-4bb2-abd0-a677c9fb57b2"
      },
      "execution_count": 35,
      "outputs": [
        {
          "output_type": "stream",
          "name": "stdout",
          "text": [
            "Divisible by 5\n"
          ]
        }
      ]
    },
    {
      "cell_type": "code",
      "source": [
        "# Example 24\n",
        "x = 15\n",
        "if x % 5 == 0:\n",
        "    print(\"Divisible by 5\")"
      ],
      "metadata": {
        "colab": {
          "base_uri": "https://localhost:8080/"
        },
        "id": "JNHeybPm-sKm",
        "outputId": "0425bf44-016b-40b6-ab9f-8102cbbc8996"
      },
      "execution_count": 36,
      "outputs": [
        {
          "output_type": "stream",
          "name": "stdout",
          "text": [
            "Divisible by 5\n"
          ]
        }
      ]
    },
    {
      "cell_type": "code",
      "source": [
        "# Example 26\n",
        "grade = 60\n",
        "if grade >= 50:\n",
        "    print(\"Pass\")\n",
        "else:\n",
        "    print(\"Fail\")\n"
      ],
      "metadata": {
        "colab": {
          "base_uri": "https://localhost:8080/"
        },
        "id": "ceOyjgNc-2Qx",
        "outputId": "f3052149-800a-448e-e9a4-3b0f77419030"
      },
      "execution_count": 37,
      "outputs": [
        {
          "output_type": "stream",
          "name": "stdout",
          "text": [
            "Pass\n"
          ]
        }
      ]
    },
    {
      "cell_type": "code",
      "source": [
        "# Example 27\n",
        "time = 14\n",
        "if time < 12:\n",
        "    print(\"Morning\")\n",
        "elif time < 18:\n",
        "    print(\"Afternoon\")\n",
        "else:\n",
        "    print(\"Evening\")\n"
      ],
      "metadata": {
        "colab": {
          "base_uri": "https://localhost:8080/"
        },
        "id": "k813ZH1Q-2OY",
        "outputId": "f0500b24-c400-4dd5-c2be-cd1dfec57748"
      },
      "execution_count": 38,
      "outputs": [
        {
          "output_type": "stream",
          "name": "stdout",
          "text": [
            "Afternoon\n"
          ]
        }
      ]
    },
    {
      "cell_type": "code",
      "source": [
        "# Example 28\n",
        "temp = 0\n",
        "if temp <= 0:\n",
        "    print(\"Freezing\")\n"
      ],
      "metadata": {
        "colab": {
          "base_uri": "https://localhost:8080/"
        },
        "id": "BY_PJ5Su-2G3",
        "outputId": "f764a45a-5600-43ac-8a41-a16b47162ce1"
      },
      "execution_count": 39,
      "outputs": [
        {
          "output_type": "stream",
          "name": "stdout",
          "text": [
            "Freezing\n"
          ]
        }
      ]
    },
    {
      "cell_type": "code",
      "source": [
        "# Example 29\n",
        "value = 10\n",
        "if value:\n",
        "    print(\"Truthy value\")"
      ],
      "metadata": {
        "colab": {
          "base_uri": "https://localhost:8080/"
        },
        "id": "TZwL3pBM-2DS",
        "outputId": "62911185-bd1b-41bb-d3ae-bb8ff99675bf"
      },
      "execution_count": 40,
      "outputs": [
        {
          "output_type": "stream",
          "name": "stdout",
          "text": [
            "Truthy value\n"
          ]
        }
      ]
    },
    {
      "cell_type": "code",
      "source": [
        "# Example 30\n",
        "n = 21\n",
        "if n % 7 == 0:\n",
        "    print(\"Divisible by 7\")\n"
      ],
      "metadata": {
        "colab": {
          "base_uri": "https://localhost:8080/"
        },
        "id": "-PyluSvV-sH1",
        "outputId": "7132efa2-877d-4747-e048-186eb49fc4e1"
      },
      "execution_count": 41,
      "outputs": [
        {
          "output_type": "stream",
          "name": "stdout",
          "text": [
            "Divisible by 7\n"
          ]
        }
      ]
    },
    {
      "cell_type": "code",
      "source": [
        "# Example 31\n",
        "status = \"Success\"\n",
        "if status == \"Success\":\n",
        "    print(\"Operation successful\")\n"
      ],
      "metadata": {
        "colab": {
          "base_uri": "https://localhost:8080/"
        },
        "id": "SkW7Rh6v-sCo",
        "outputId": "fea2c79c-4b11-41df-f2b9-9f09a0b2f212"
      },
      "execution_count": 42,
      "outputs": [
        {
          "output_type": "stream",
          "name": "stdout",
          "text": [
            "Operation successful\n"
          ]
        }
      ]
    },
    {
      "cell_type": "code",
      "source": [
        "# Example 32\n",
        "gender = \"female\"\n",
        "if gender.lower() == \"female\":\n",
        "    print(\"Hello Madam\")"
      ],
      "metadata": {
        "colab": {
          "base_uri": "https://localhost:8080/"
        },
        "id": "xAu4gtGR-r5_",
        "outputId": "47128589-2517-4b74-f243-79ba82431830"
      },
      "execution_count": 43,
      "outputs": [
        {
          "output_type": "stream",
          "name": "stdout",
          "text": [
            "Hello Madam\n"
          ]
        }
      ]
    },
    {
      "cell_type": "code",
      "source": [
        "# Example 33\n",
        "year = 2024\n",
        "if (year % 4 == 0 and year % 100 != 0) or (year % 400 == 0):\n",
        "    print(\"Leap year\")"
      ],
      "metadata": {
        "id": "vEpbXK32-r3Z"
      },
      "execution_count": null,
      "outputs": []
    },
    {
      "cell_type": "code",
      "source": [
        "# Example 34\n",
        "age = 5\n",
        "if age < 13:\n",
        "    print(\"Child\")\n",
        "elif age < 20:\n",
        "    print(\"Teen\")\n",
        "else:\n",
        "    print(\"Adult\")\n"
      ],
      "metadata": {
        "colab": {
          "base_uri": "https://localhost:8080/"
        },
        "id": "YO4nEcc1-rzy",
        "outputId": "7eff37c4-9e76-4508-e536-225fabc6deb4"
      },
      "execution_count": 44,
      "outputs": [
        {
          "output_type": "stream",
          "name": "stdout",
          "text": [
            "Child\n"
          ]
        }
      ]
    },
    {
      "cell_type": "code",
      "source": [
        "# Example 35\n",
        "speed = 80\n",
        "if speed > 60:\n",
        "    print(\"Over speed\")"
      ],
      "metadata": {
        "colab": {
          "base_uri": "https://localhost:8080/"
        },
        "id": "SRTkOGP2_l8X",
        "outputId": "c6bb27dd-6687-452e-c350-068d32f11f54"
      },
      "execution_count": 45,
      "outputs": [
        {
          "output_type": "stream",
          "name": "stdout",
          "text": [
            "Over speed\n"
          ]
        }
      ]
    },
    {
      "cell_type": "code",
      "source": [
        "# Example 36\n",
        "income = 45000\n",
        "if income < 50000:\n",
        "    print(\"Low income\")\n",
        "else:\n",
        "    print(\"Good income\")\n"
      ],
      "metadata": {
        "colab": {
          "base_uri": "https://localhost:8080/"
        },
        "id": "NpP8WE5d_l0w",
        "outputId": "bbd67069-c82b-4f85-9a7e-c9a09220a734"
      },
      "execution_count": 46,
      "outputs": [
        {
          "output_type": "stream",
          "name": "stdout",
          "text": [
            "Low income\n"
          ]
        }
      ]
    },
    {
      "cell_type": "code",
      "source": [
        "# Example 37\n",
        "height = 180\n",
        "if height > 170:\n",
        "    print(\"Tall\")\n"
      ],
      "metadata": {
        "colab": {
          "base_uri": "https://localhost:8080/"
        },
        "id": "5bsG0Ria_lnU",
        "outputId": "8ca85520-6539-439e-d9d0-19f357ac864e"
      },
      "execution_count": 47,
      "outputs": [
        {
          "output_type": "stream",
          "name": "stdout",
          "text": [
            "Tall\n"
          ]
        }
      ]
    },
    {
      "cell_type": "code",
      "source": [
        "# Example 38\n",
        "weight = 70\n",
        "if weight < 60:\n",
        "    print(\"Underweight\")\n",
        "elif weight <= 80:\n",
        "    print(\"Normal\")\n",
        "else:\n",
        "    print(\"Overweight\")"
      ],
      "metadata": {
        "colab": {
          "base_uri": "https://localhost:8080/"
        },
        "id": "2SGtgyyU_lkl",
        "outputId": "a78ec38c-8915-44dd-e1c1-6d2851f28cc2"
      },
      "execution_count": 48,
      "outputs": [
        {
          "output_type": "stream",
          "name": "stdout",
          "text": [
            "Normal\n"
          ]
        }
      ]
    },
    {
      "cell_type": "code",
      "source": [
        "# Example 39\n",
        "letter = 'a'\n",
        "if letter in 'aeiou':\n",
        "    print(\"Vowel\")\n",
        "else:\n",
        "    print(\"Consonant\")"
      ],
      "metadata": {
        "colab": {
          "base_uri": "https://localhost:8080/"
        },
        "id": "AUNO5QcD_liY",
        "outputId": "10e7b80a-b771-4322-e0e6-634ec8f6beb0"
      },
      "execution_count": 49,
      "outputs": [
        {
          "output_type": "stream",
          "name": "stdout",
          "text": [
            "Vowel\n"
          ]
        }
      ]
    },
    {
      "cell_type": "code",
      "source": [
        "# Example 40\n",
        "x = 10\n",
        "if x != 0:\n",
        "    print(\"Not zero\")"
      ],
      "metadata": {
        "colab": {
          "base_uri": "https://localhost:8080/"
        },
        "id": "TzZYKdlxAsLk",
        "outputId": "9f505e93-b190-4b7d-d133-a4bb1dc366fe"
      },
      "execution_count": 50,
      "outputs": [
        {
          "output_type": "stream",
          "name": "stdout",
          "text": [
            "Not zero\n"
          ]
        }
      ]
    },
    {
      "cell_type": "code",
      "source": [
        " # Example 41\n",
        "count = 0\n",
        "if count == 0:\n",
        "    print(\"Empty\")"
      ],
      "metadata": {
        "colab": {
          "base_uri": "https://localhost:8080/"
        },
        "id": "5W8VXPFMAsIW",
        "outputId": "e58e3ea0-556c-40f7-a65b-206b18384cfc"
      },
      "execution_count": 51,
      "outputs": [
        {
          "output_type": "stream",
          "name": "stdout",
          "text": [
            "Empty\n"
          ]
        }
      ]
    },
    {
      "cell_type": "code",
      "source": [
        "# Example 42\n",
        "role = \"manager\"\n",
        "if role == \"admin\":\n",
        "    print(\"Admin access\")\n",
        "elif role == \"manager\":\n",
        "    print(\"Manager access\")\n",
        "else:\n",
        "    print(\"Guest access\")"
      ],
      "metadata": {
        "colab": {
          "base_uri": "https://localhost:8080/"
        },
        "id": "TkMJxSpCAr80",
        "outputId": "db194149-b191-4316-dfea-b5e6335af508"
      },
      "execution_count": 52,
      "outputs": [
        {
          "output_type": "stream",
          "name": "stdout",
          "text": [
            "Manager access\n"
          ]
        }
      ]
    },
    {
      "cell_type": "code",
      "source": [
        "# Example 43\n",
        "day = \"Sunday\"\n",
        "if day == \"Sunday\":\n",
        "    print(\"Holiday\")"
      ],
      "metadata": {
        "colab": {
          "base_uri": "https://localhost:8080/"
        },
        "id": "trz7UDXoAr32",
        "outputId": "bfa86b98-ec99-47cb-b15a-a5a1395fdfa9"
      },
      "execution_count": 53,
      "outputs": [
        {
          "output_type": "stream",
          "name": "stdout",
          "text": [
            "Holiday\n"
          ]
        }
      ]
    },
    {
      "cell_type": "code",
      "source": [
        " # Example 44\n",
        "email = \"user@example.com\"\n",
        "if \"@\" in email:\n",
        "    print(\"Valid email\")"
      ],
      "metadata": {
        "colab": {
          "base_uri": "https://localhost:8080/"
        },
        "id": "nguwDKoNAry8",
        "outputId": "2efe8667-27fa-4698-8190-5606085c779b"
      },
      "execution_count": 54,
      "outputs": [
        {
          "output_type": "stream",
          "name": "stdout",
          "text": [
            "Valid email\n"
          ]
        }
      ]
    },
    {
      "cell_type": "code",
      "source": [
        "# Example 45\n",
        "x = 9\n",
        "if x in [1, 3, 5, 7, 9]:\n",
        "    print(\"Odd single-digit\")"
      ],
      "metadata": {
        "colab": {
          "base_uri": "https://localhost:8080/"
        },
        "id": "YtPu1xevArwT",
        "outputId": "9a68f5e2-e5a5-4667-9a52-6548878e3037"
      },
      "execution_count": 55,
      "outputs": [
        {
          "output_type": "stream",
          "name": "stdout",
          "text": [
            "Odd single-digit\n"
          ]
        }
      ]
    },
    {
      "cell_type": "code",
      "source": [
        "# Example 46\n",
        "celsius = 37\n",
        "if celsius >= 37:\n",
        "    print(\"Fever\")"
      ],
      "metadata": {
        "colab": {
          "base_uri": "https://localhost:8080/"
        },
        "id": "BnAOv60-BTU0",
        "outputId": "48111247-2240-49ae-a23c-4e99ec0c1fdd"
      },
      "execution_count": 56,
      "outputs": [
        {
          "output_type": "stream",
          "name": "stdout",
          "text": [
            "Fever\n"
          ]
        }
      ]
    },
    {
      "cell_type": "code",
      "source": [
        "# Example 47\n",
        "n = 50\n",
        "if n > 100:\n",
        "    print(\"Huge\")\n",
        "else:\n",
        "    print(\"Moderate or Small\")"
      ],
      "metadata": {
        "colab": {
          "base_uri": "https://localhost:8080/"
        },
        "id": "bMZRhuTVBSt_",
        "outputId": "42254e7e-9c5a-4bba-e14f-ead34328892d"
      },
      "execution_count": 57,
      "outputs": [
        {
          "output_type": "stream",
          "name": "stdout",
          "text": [
            "Moderate or Small\n"
          ]
        }
      ]
    },
    {
      "cell_type": "code",
      "source": [
        "# Example 48\n",
        "x, y = 8, 9\n",
        "if x == y:\n",
        "    print(\"Equal\")\n",
        "else:\n",
        "    print(\"Not equal\")"
      ],
      "metadata": {
        "colab": {
          "base_uri": "https://localhost:8080/"
        },
        "id": "PCuqZS27BG-Y",
        "outputId": "097f807a-be03-49b6-8793-9f5f9b7f4e40"
      },
      "execution_count": 58,
      "outputs": [
        {
          "output_type": "stream",
          "name": "stdout",
          "text": [
            "Not equal\n"
          ]
        }
      ]
    },
    {
      "cell_type": "code",
      "source": [
        "# Example 49\n",
        "score = 55\n",
        "if score >= 90:\n",
        "    print(\"A\")\n",
        "elif score >= 75:\n",
        "    print(\"B\")\n",
        "elif score >= 60:\n",
        "    print(\"C\")\n",
        "elif score >= 50:\n",
        "    print(\"D\")\n",
        "else:\n",
        "    print(\"F\")"
      ],
      "metadata": {
        "colab": {
          "base_uri": "https://localhost:8080/"
        },
        "id": "Bpu67XmtBG7v",
        "outputId": "b951cfc8-a887-42ee-e395-25d14030aaed"
      },
      "execution_count": 59,
      "outputs": [
        {
          "output_type": "stream",
          "name": "stdout",
          "text": [
            "D\n"
          ]
        }
      ]
    },
    {
      "cell_type": "code",
      "source": [
        "# Example 50\n",
        "logged_in = True\n",
        "if logged_in:\n",
        "    print(\"Dashboard\")\n",
        "else:\n",
        "    print(\"Login first\")\n"
      ],
      "metadata": {
        "colab": {
          "base_uri": "https://localhost:8080/"
        },
        "id": "pgFKi2jQBG21",
        "outputId": "85b8a641-f163-4905-ddcd-18d4c9b3c99e"
      },
      "execution_count": 60,
      "outputs": [
        {
          "output_type": "stream",
          "name": "stdout",
          "text": [
            "Dashboard\n"
          ]
        }
      ]
    },
    {
      "cell_type": "code",
      "source": [],
      "metadata": {
        "id": "5Q28ypG5BGxY"
      },
      "execution_count": null,
      "outputs": []
    },
    {
      "cell_type": "code",
      "source": [],
      "metadata": {
        "id": "bePIvOkCBGuw"
      },
      "execution_count": null,
      "outputs": []
    }
  ]
}
