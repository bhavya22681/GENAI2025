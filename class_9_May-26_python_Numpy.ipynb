{
  "nbformat": 4,
  "nbformat_minor": 0,
  "metadata": {
    "colab": {
      "provenance": []
    },
    "kernelspec": {
      "name": "python3",
      "display_name": "Python 3"
    },
    "language_info": {
      "name": "python"
    }
  },
  "cells": [
    {
      "cell_type": "code",
      "execution_count": 1,
      "metadata": {
        "id": "jrPQSc_Sy5sb"
      },
      "outputs": [],
      "source": [
        "import numpy as np"
      ]
    },
    {
      "cell_type": "code",
      "source": [
        "list(),str(),tuple(),set(),dict()"
      ],
      "metadata": {
        "colab": {
          "base_uri": "https://localhost:8080/"
        },
        "id": "zv203c30y-fX",
        "outputId": "28303097-3406-4997-bb9a-77beaa5f9297"
      },
      "execution_count": 2,
      "outputs": [
        {
          "output_type": "execute_result",
          "data": {
            "text/plain": [
              "([], '', (), set(), {})"
            ]
          },
          "metadata": {},
          "execution_count": 2
        }
      ]
    },
    {
      "cell_type": "code",
      "source": [
        "x=[1,2,3,'bhavya']"
      ],
      "metadata": {
        "id": "e5irAPqLIRrp"
      },
      "execution_count": 3,
      "outputs": []
    },
    {
      "cell_type": "code",
      "source": [
        "x"
      ],
      "metadata": {
        "colab": {
          "base_uri": "https://localhost:8080/"
        },
        "id": "1Cdw4xTzIYsV",
        "outputId": "93339832-be4e-4531-e3d5-6a3f47f69609"
      },
      "execution_count": 4,
      "outputs": [
        {
          "output_type": "execute_result",
          "data": {
            "text/plain": [
              "[1, 2, 3, 'bhavya']"
            ]
          },
          "metadata": {},
          "execution_count": 4
        }
      ]
    },
    {
      "cell_type": "code",
      "source": [
        "type(x[0]),type(x[1]),type(x[2]),type(x[3])"
      ],
      "metadata": {
        "colab": {
          "base_uri": "https://localhost:8080/"
        },
        "id": "FU5CDeMKIakx",
        "outputId": "0c033575-07ba-471a-d30e-d1dfd2198e4d"
      },
      "execution_count": 5,
      "outputs": [
        {
          "output_type": "execute_result",
          "data": {
            "text/plain": [
              "(int, int, int, str)"
            ]
          },
          "metadata": {},
          "execution_count": 5
        }
      ]
    },
    {
      "cell_type": "code",
      "source": [
        "y=np.array([3,4,5])"
      ],
      "metadata": {
        "id": "VG7eX04Yy-cq"
      },
      "execution_count": 6,
      "outputs": []
    },
    {
      "cell_type": "code",
      "source": [
        "x=[3,4,5]"
      ],
      "metadata": {
        "id": "SZdUWhlxy-aL"
      },
      "execution_count": 7,
      "outputs": []
    },
    {
      "cell_type": "code",
      "source": [
        "type(x),type(y)"
      ],
      "metadata": {
        "colab": {
          "base_uri": "https://localhost:8080/"
        },
        "id": "yxKVC-bky-XQ",
        "outputId": "0c15be10-61ff-4d1b-be1c-5e7f08fcb826"
      },
      "execution_count": 8,
      "outputs": [
        {
          "output_type": "execute_result",
          "data": {
            "text/plain": [
              "(list, numpy.ndarray)"
            ]
          },
          "metadata": {},
          "execution_count": 8
        }
      ]
    },
    {
      "cell_type": "code",
      "source": [
        "x=[3,4,5]\n",
        "x/2"
      ],
      "metadata": {
        "colab": {
          "base_uri": "https://localhost:8080/",
          "height": 158
        },
        "id": "ppj4UlUly-Uq",
        "outputId": "5b02bb4d-da4b-46d6-c050-93d9650267b4"
      },
      "execution_count": 9,
      "outputs": [
        {
          "output_type": "error",
          "ename": "TypeError",
          "evalue": "unsupported operand type(s) for /: 'list' and 'int'",
          "traceback": [
            "\u001b[0;31m---------------------------------------------------------------------------\u001b[0m",
            "\u001b[0;31mTypeError\u001b[0m                                 Traceback (most recent call last)",
            "\u001b[0;32m<ipython-input-9-65a7b4b6dd5f>\u001b[0m in \u001b[0;36m<cell line: 0>\u001b[0;34m()\u001b[0m\n\u001b[1;32m      1\u001b[0m \u001b[0mx\u001b[0m\u001b[0;34m=\u001b[0m\u001b[0;34m[\u001b[0m\u001b[0;36m3\u001b[0m\u001b[0;34m,\u001b[0m\u001b[0;36m4\u001b[0m\u001b[0;34m,\u001b[0m\u001b[0;36m5\u001b[0m\u001b[0;34m]\u001b[0m\u001b[0;34m\u001b[0m\u001b[0;34m\u001b[0m\u001b[0m\n\u001b[0;32m----> 2\u001b[0;31m \u001b[0mx\u001b[0m\u001b[0;34m/\u001b[0m\u001b[0;36m2\u001b[0m\u001b[0;34m\u001b[0m\u001b[0;34m\u001b[0m\u001b[0m\n\u001b[0m",
            "\u001b[0;31mTypeError\u001b[0m: unsupported operand type(s) for /: 'list' and 'int'"
          ]
        }
      ]
    },
    {
      "cell_type": "code",
      "source": [
        "y/5"
      ],
      "metadata": {
        "colab": {
          "base_uri": "https://localhost:8080/"
        },
        "id": "gHZcA39dy-R2",
        "outputId": "41f8fc7c-6088-49b8-ac18-5538a36ed51a"
      },
      "execution_count": 10,
      "outputs": [
        {
          "output_type": "execute_result",
          "data": {
            "text/plain": [
              "array([0.6, 0.8, 1. ])"
            ]
          },
          "metadata": {},
          "execution_count": 10
        }
      ]
    },
    {
      "cell_type": "code",
      "source": [],
      "metadata": {
        "id": "1fpXVbpgy-O_"
      },
      "execution_count": null,
      "outputs": []
    },
    {
      "cell_type": "code",
      "source": [
        "y=np.array([2,3,4,8.6,\"data science\"])"
      ],
      "metadata": {
        "id": "_ciGAj15y-ER"
      },
      "execution_count": 11,
      "outputs": []
    },
    {
      "cell_type": "code",
      "source": [
        "type(y[0]),type(y[1]),type(y[2]),type(y[3])"
      ],
      "metadata": {
        "colab": {
          "base_uri": "https://localhost:8080/"
        },
        "id": "ILeFUnTWy-BT",
        "outputId": "23d48585-747f-4c53-d7d9-0d957dc12d7b"
      },
      "execution_count": 12,
      "outputs": [
        {
          "output_type": "execute_result",
          "data": {
            "text/plain": [
              "(numpy.str_, numpy.str_, numpy.str_, numpy.str_)"
            ]
          },
          "metadata": {},
          "execution_count": 12
        }
      ]
    },
    {
      "cell_type": "code",
      "source": [
        "y"
      ],
      "metadata": {
        "colab": {
          "base_uri": "https://localhost:8080/"
        },
        "id": "2F6hhFq-y99_",
        "outputId": "d0f526a9-0cf0-4efd-d4e4-6a0caad1ef76"
      },
      "execution_count": 13,
      "outputs": [
        {
          "output_type": "execute_result",
          "data": {
            "text/plain": [
              "array(['2', '3', '4', '8.6', 'data science'], dtype='<U32')"
            ]
          },
          "metadata": {},
          "execution_count": 13
        }
      ]
    },
    {
      "cell_type": "code",
      "source": [],
      "metadata": {
        "id": "paCt0EFj020g"
      },
      "execution_count": null,
      "outputs": []
    },
    {
      "cell_type": "code",
      "source": [
        "for i in range(1,10):\n",
        "  print(np.random.randint(0,30))"
      ],
      "metadata": {
        "colab": {
          "base_uri": "https://localhost:8080/"
        },
        "id": "PgmcKGdj02xp",
        "outputId": "9a73b16d-db62-4c9d-9fa0-0afda262447e"
      },
      "execution_count": 14,
      "outputs": [
        {
          "output_type": "stream",
          "name": "stdout",
          "text": [
            "29\n",
            "29\n",
            "5\n",
            "1\n",
            "16\n",
            "13\n",
            "5\n",
            "1\n",
            "17\n"
          ]
        }
      ]
    },
    {
      "cell_type": "code",
      "source": [
        "np.random.randint(0,10,(6,6))"
      ],
      "metadata": {
        "colab": {
          "base_uri": "https://localhost:8080/"
        },
        "id": "z8-Y__oj02vA",
        "outputId": "fa0f0c5e-d9c6-4519-c866-62ecd5308fb2"
      },
      "execution_count": 15,
      "outputs": [
        {
          "output_type": "execute_result",
          "data": {
            "text/plain": [
              "array([[9, 6, 9, 2, 3, 4],\n",
              "       [0, 6, 8, 5, 4, 2],\n",
              "       [3, 9, 0, 7, 6, 9],\n",
              "       [1, 3, 2, 5, 6, 1],\n",
              "       [3, 4, 7, 0, 3, 6],\n",
              "       [8, 1, 6, 3, 5, 3]])"
            ]
          },
          "metadata": {},
          "execution_count": 15
        }
      ]
    },
    {
      "cell_type": "code",
      "source": [],
      "metadata": {
        "id": "0KQ3Z6qA02m_"
      },
      "execution_count": null,
      "outputs": []
    },
    {
      "cell_type": "code",
      "source": [
        "data=np.random.randint(0,200,(5,5))"
      ],
      "metadata": {
        "id": "u10JrYsp02j4"
      },
      "execution_count": 16,
      "outputs": []
    },
    {
      "cell_type": "code",
      "source": [
        "data"
      ],
      "metadata": {
        "colab": {
          "base_uri": "https://localhost:8080/"
        },
        "id": "mLvQfjuu3hJh",
        "outputId": "57d0d194-9568-4676-c1cc-982cb0035a50"
      },
      "execution_count": 17,
      "outputs": [
        {
          "output_type": "execute_result",
          "data": {
            "text/plain": [
              "array([[  7,  76, 133, 181,  65],\n",
              "       [ 29, 117,   5, 166, 182],\n",
              "       [127,  39, 110,   7,  25],\n",
              "       [ 29, 141,  23, 149,  31],\n",
              "       [140, 104, 136, 108, 116]])"
            ]
          },
          "metadata": {},
          "execution_count": 17
        }
      ]
    },
    {
      "cell_type": "code",
      "source": [
        "data[0:3,4:5]"
      ],
      "metadata": {
        "colab": {
          "base_uri": "https://localhost:8080/"
        },
        "id": "wsmdLQWe5Kpb",
        "outputId": "c0fa90c7-588c-4b01-84a5-8d0e938a9955"
      },
      "execution_count": 18,
      "outputs": [
        {
          "output_type": "execute_result",
          "data": {
            "text/plain": [
              "array([[ 65],\n",
              "       [182],\n",
              "       [ 25]])"
            ]
          },
          "metadata": {},
          "execution_count": 18
        }
      ]
    },
    {
      "cell_type": "code",
      "source": [
        "data[0:2,3:5]"
      ],
      "metadata": {
        "colab": {
          "base_uri": "https://localhost:8080/"
        },
        "id": "2hi0wNuGKktJ",
        "outputId": "24ee350b-842e-440f-d6c6-e1bcda63165c"
      },
      "execution_count": 19,
      "outputs": [
        {
          "output_type": "execute_result",
          "data": {
            "text/plain": [
              "array([[181,  65],\n",
              "       [166, 182]])"
            ]
          },
          "metadata": {},
          "execution_count": 19
        }
      ]
    },
    {
      "cell_type": "code",
      "source": [
        "data[1:3,4:5]"
      ],
      "metadata": {
        "colab": {
          "base_uri": "https://localhost:8080/"
        },
        "id": "CswlFgdXK0pv",
        "outputId": "8ee2960d-afab-4be9-87f9-be4c28ed1189"
      },
      "execution_count": 20,
      "outputs": [
        {
          "output_type": "execute_result",
          "data": {
            "text/plain": [
              "array([[182],\n",
              "       [ 25]])"
            ]
          },
          "metadata": {},
          "execution_count": 20
        }
      ]
    },
    {
      "cell_type": "code",
      "source": [
        "data[-5:-4,-5:-4]"
      ],
      "metadata": {
        "colab": {
          "base_uri": "https://localhost:8080/"
        },
        "id": "Uqhep9m94ufZ",
        "outputId": "980e2c9f-18d3-4a32-fa28-e69ca5e11f59"
      },
      "execution_count": 21,
      "outputs": [
        {
          "output_type": "execute_result",
          "data": {
            "text/plain": [
              "array([[7]])"
            ]
          },
          "metadata": {},
          "execution_count": 21
        }
      ]
    },
    {
      "cell_type": "code",
      "source": [
        "data[-5:-4,-5:-3]"
      ],
      "metadata": {
        "colab": {
          "base_uri": "https://localhost:8080/"
        },
        "id": "3vz6l6SZLYm5",
        "outputId": "c1ca9616-120f-464a-c89d-21e9fd404a2b"
      },
      "execution_count": 22,
      "outputs": [
        {
          "output_type": "execute_result",
          "data": {
            "text/plain": [
              "array([[ 7, 76]])"
            ]
          },
          "metadata": {},
          "execution_count": 22
        }
      ]
    },
    {
      "cell_type": "code",
      "source": [
        "data[-4:-2,-3:-2]"
      ],
      "metadata": {
        "colab": {
          "base_uri": "https://localhost:8080/"
        },
        "id": "nnz5K6BB4aOG",
        "outputId": "29c47e97-873a-4ac1-8eb7-5c4097574013"
      },
      "execution_count": 23,
      "outputs": [
        {
          "output_type": "execute_result",
          "data": {
            "text/plain": [
              "array([[  5],\n",
              "       [110]])"
            ]
          },
          "metadata": {},
          "execution_count": 23
        }
      ]
    },
    {
      "cell_type": "code",
      "source": [
        "data[-2:-1,-2:-1]"
      ],
      "metadata": {
        "colab": {
          "base_uri": "https://localhost:8080/"
        },
        "id": "IGNV7L_S34lM",
        "outputId": "8cbdcc42-2ae9-463f-9a8c-5c2302361722"
      },
      "execution_count": 24,
      "outputs": [
        {
          "output_type": "execute_result",
          "data": {
            "text/plain": [
              "array([[149]])"
            ]
          },
          "metadata": {},
          "execution_count": 24
        }
      ]
    },
    {
      "cell_type": "code",
      "source": [
        "data[0,:]"
      ],
      "metadata": {
        "colab": {
          "base_uri": "https://localhost:8080/"
        },
        "id": "A3_wsokD3yet",
        "outputId": "73509cf5-0a72-4452-cd6a-fcda33510832"
      },
      "execution_count": 25,
      "outputs": [
        {
          "output_type": "execute_result",
          "data": {
            "text/plain": [
              "array([  7,  76, 133, 181,  65])"
            ]
          },
          "metadata": {},
          "execution_count": 25
        }
      ]
    },
    {
      "cell_type": "code",
      "source": [
        "data"
      ],
      "metadata": {
        "colab": {
          "base_uri": "https://localhost:8080/"
        },
        "id": "yJqYztEiL1h9",
        "outputId": "84991b3b-c46c-463e-b68c-a42558846eb0"
      },
      "execution_count": 26,
      "outputs": [
        {
          "output_type": "execute_result",
          "data": {
            "text/plain": [
              "array([[  7,  76, 133, 181,  65],\n",
              "       [ 29, 117,   5, 166, 182],\n",
              "       [127,  39, 110,   7,  25],\n",
              "       [ 29, 141,  23, 149,  31],\n",
              "       [140, 104, 136, 108, 116]])"
            ]
          },
          "metadata": {},
          "execution_count": 26
        }
      ]
    },
    {
      "cell_type": "code",
      "source": [
        "data[:,0]"
      ],
      "metadata": {
        "colab": {
          "base_uri": "https://localhost:8080/"
        },
        "id": "SAhouIka3iau",
        "outputId": "9af8e81c-582e-419f-a045-082294c6c6c5"
      },
      "execution_count": 27,
      "outputs": [
        {
          "output_type": "execute_result",
          "data": {
            "text/plain": [
              "array([  7,  29, 127,  29, 140])"
            ]
          },
          "metadata": {},
          "execution_count": 27
        }
      ]
    },
    {
      "cell_type": "code",
      "source": [
        "data.shape"
      ],
      "metadata": {
        "id": "NHgg4naF6Zjg",
        "colab": {
          "base_uri": "https://localhost:8080/"
        },
        "outputId": "9efe834c-642d-430b-e52b-f92634c0c6b7"
      },
      "execution_count": 28,
      "outputs": [
        {
          "output_type": "execute_result",
          "data": {
            "text/plain": [
              "(5, 5)"
            ]
          },
          "metadata": {},
          "execution_count": 28
        }
      ]
    },
    {
      "cell_type": "code",
      "source": [
        "data.size"
      ],
      "metadata": {
        "colab": {
          "base_uri": "https://localhost:8080/"
        },
        "id": "MdZd-HiP6Zhk",
        "outputId": "dc064a5f-905f-4dd2-8ab6-2691c48ed49a"
      },
      "execution_count": 29,
      "outputs": [
        {
          "output_type": "execute_result",
          "data": {
            "text/plain": [
              "25"
            ]
          },
          "metadata": {},
          "execution_count": 29
        }
      ]
    },
    {
      "cell_type": "code",
      "source": [
        "data.T"
      ],
      "metadata": {
        "colab": {
          "base_uri": "https://localhost:8080/"
        },
        "id": "VpCsQHHA6ZaY",
        "outputId": "f4f7072b-2556-4e34-d5e8-979357816c9e"
      },
      "execution_count": 30,
      "outputs": [
        {
          "output_type": "execute_result",
          "data": {
            "text/plain": [
              "array([[  7,  29, 127,  29, 140],\n",
              "       [ 76, 117,  39, 141, 104],\n",
              "       [133,   5, 110,  23, 136],\n",
              "       [181, 166,   7, 149, 108],\n",
              "       [ 65, 182,  25,  31, 116]])"
            ]
          },
          "metadata": {},
          "execution_count": 30
        }
      ]
    },
    {
      "cell_type": "code",
      "source": [
        "data"
      ],
      "metadata": {
        "colab": {
          "base_uri": "https://localhost:8080/"
        },
        "id": "qnR5b9_E6ZSL",
        "outputId": "1e368d6a-0562-40f9-e9f8-1715557c6d53"
      },
      "execution_count": 31,
      "outputs": [
        {
          "output_type": "execute_result",
          "data": {
            "text/plain": [
              "array([[  7,  76, 133, 181,  65],\n",
              "       [ 29, 117,   5, 166, 182],\n",
              "       [127,  39, 110,   7,  25],\n",
              "       [ 29, 141,  23, 149,  31],\n",
              "       [140, 104, 136, 108, 116]])"
            ]
          },
          "metadata": {},
          "execution_count": 31
        }
      ]
    },
    {
      "cell_type": "code",
      "source": [
        "x=2"
      ],
      "metadata": {
        "id": "sGi8IIoB6qFm"
      },
      "execution_count": 32,
      "outputs": []
    },
    {
      "cell_type": "code",
      "source": [
        "data**2"
      ],
      "metadata": {
        "colab": {
          "base_uri": "https://localhost:8080/"
        },
        "id": "cOmI5Icj6qCD",
        "outputId": "4aa64f2e-e7e2-4b8b-8914-eaef7d8dff36"
      },
      "execution_count": 33,
      "outputs": [
        {
          "output_type": "execute_result",
          "data": {
            "text/plain": [
              "array([[   49,  5776, 17689, 32761,  4225],\n",
              "       [  841, 13689,    25, 27556, 33124],\n",
              "       [16129,  1521, 12100,    49,   625],\n",
              "       [  841, 19881,   529, 22201,   961],\n",
              "       [19600, 10816, 18496, 11664, 13456]])"
            ]
          },
          "metadata": {},
          "execution_count": 33
        }
      ]
    },
    {
      "cell_type": "code",
      "source": [
        "x=np.random.randint(0,10,(3,3))\n",
        "y=np.random.randint(0,10,(3,3))"
      ],
      "metadata": {
        "id": "SC5Vhb8z6p_k"
      },
      "execution_count": 34,
      "outputs": []
    },
    {
      "cell_type": "code",
      "source": [
        "x"
      ],
      "metadata": {
        "colab": {
          "base_uri": "https://localhost:8080/"
        },
        "id": "86LP-YuM6p9G",
        "outputId": "c3cd1bca-874c-48bc-90aa-e7c17c31f3d6"
      },
      "execution_count": 35,
      "outputs": [
        {
          "output_type": "execute_result",
          "data": {
            "text/plain": [
              "array([[2, 2, 4],\n",
              "       [4, 4, 1],\n",
              "       [7, 6, 3]])"
            ]
          },
          "metadata": {},
          "execution_count": 35
        }
      ]
    },
    {
      "cell_type": "code",
      "source": [
        "y"
      ],
      "metadata": {
        "colab": {
          "base_uri": "https://localhost:8080/"
        },
        "id": "8FvIwrTy6p7Y",
        "outputId": "f9ade0f1-7ba0-4a26-a1bd-ece307e101dc"
      },
      "execution_count": 36,
      "outputs": [
        {
          "output_type": "execute_result",
          "data": {
            "text/plain": [
              "array([[9, 5, 2],\n",
              "       [6, 0, 9],\n",
              "       [6, 3, 5]])"
            ]
          },
          "metadata": {},
          "execution_count": 36
        }
      ]
    },
    {
      "cell_type": "code",
      "source": [
        "np.add(x,2)"
      ],
      "metadata": {
        "colab": {
          "base_uri": "https://localhost:8080/"
        },
        "id": "HLv8qSs76p3g",
        "outputId": "343fc486-fe8e-486d-807a-34a1d4a09d8a"
      },
      "execution_count": 37,
      "outputs": [
        {
          "output_type": "execute_result",
          "data": {
            "text/plain": [
              "array([[4, 4, 6],\n",
              "       [6, 6, 3],\n",
              "       [9, 8, 5]])"
            ]
          },
          "metadata": {},
          "execution_count": 37
        }
      ]
    },
    {
      "cell_type": "code",
      "source": [
        "np.multiply(x,2)"
      ],
      "metadata": {
        "colab": {
          "base_uri": "https://localhost:8080/"
        },
        "id": "L7JKGnhf6p0v",
        "outputId": "b3c0cd96-a573-498c-bb56-a79e03ef0413"
      },
      "execution_count": 38,
      "outputs": [
        {
          "output_type": "execute_result",
          "data": {
            "text/plain": [
              "array([[ 4,  4,  8],\n",
              "       [ 8,  8,  2],\n",
              "       [14, 12,  6]])"
            ]
          },
          "metadata": {},
          "execution_count": 38
        }
      ]
    },
    {
      "cell_type": "code",
      "source": [
        "np.divide(x,2)"
      ],
      "metadata": {
        "colab": {
          "base_uri": "https://localhost:8080/"
        },
        "id": "Tan6HkHG6pxt",
        "outputId": "33bb26a1-eba2-45e6-8eac-380903febfe9"
      },
      "execution_count": 39,
      "outputs": [
        {
          "output_type": "execute_result",
          "data": {
            "text/plain": [
              "array([[1. , 1. , 2. ],\n",
              "       [2. , 2. , 0.5],\n",
              "       [3.5, 3. , 1.5]])"
            ]
          },
          "metadata": {},
          "execution_count": 39
        }
      ]
    },
    {
      "cell_type": "code",
      "source": [
        "np.floor_divide(x,2)"
      ],
      "metadata": {
        "colab": {
          "base_uri": "https://localhost:8080/"
        },
        "id": "pfKi1kIP6pwA",
        "outputId": "cab679c1-66e4-4b79-f3a8-235882c9f0b1"
      },
      "execution_count": 40,
      "outputs": [
        {
          "output_type": "execute_result",
          "data": {
            "text/plain": [
              "array([[1, 1, 2],\n",
              "       [2, 2, 0],\n",
              "       [3, 3, 1]])"
            ]
          },
          "metadata": {},
          "execution_count": 40
        }
      ]
    },
    {
      "cell_type": "code",
      "source": [
        "np.floor_divide(x,3)"
      ],
      "metadata": {
        "colab": {
          "base_uri": "https://localhost:8080/"
        },
        "id": "sMn22NjbNcZ1",
        "outputId": "da4ef705-3806-487f-bfdf-481b53619a68"
      },
      "execution_count": 41,
      "outputs": [
        {
          "output_type": "execute_result",
          "data": {
            "text/plain": [
              "array([[0, 0, 1],\n",
              "       [1, 1, 0],\n",
              "       [2, 2, 1]])"
            ]
          },
          "metadata": {},
          "execution_count": 41
        }
      ]
    },
    {
      "cell_type": "code",
      "source": [
        "np.exp(x)"
      ],
      "metadata": {
        "colab": {
          "base_uri": "https://localhost:8080/"
        },
        "id": "081umPyV6psC",
        "outputId": "501446d7-24b0-4a4d-f595-6e2c6db51a18"
      },
      "execution_count": 42,
      "outputs": [
        {
          "output_type": "execute_result",
          "data": {
            "text/plain": [
              "array([[   7.3890561 ,    7.3890561 ,   54.59815003],\n",
              "       [  54.59815003,   54.59815003,    2.71828183],\n",
              "       [1096.63315843,  403.42879349,   20.08553692]])"
            ]
          },
          "metadata": {},
          "execution_count": 42
        }
      ]
    },
    {
      "cell_type": "code",
      "source": [
        "np.log(x)"
      ],
      "metadata": {
        "colab": {
          "base_uri": "https://localhost:8080/"
        },
        "id": "6UqP-k_LNn7H",
        "outputId": "452e7ae0-4050-4e13-ddc1-42573e318ea1"
      },
      "execution_count": 43,
      "outputs": [
        {
          "output_type": "execute_result",
          "data": {
            "text/plain": [
              "array([[0.69314718, 0.69314718, 1.38629436],\n",
              "       [1.38629436, 1.38629436, 0.        ],\n",
              "       [1.94591015, 1.79175947, 1.09861229]])"
            ]
          },
          "metadata": {},
          "execution_count": 43
        }
      ]
    },
    {
      "cell_type": "code",
      "source": [
        "np.pow(x,4)"
      ],
      "metadata": {
        "colab": {
          "base_uri": "https://localhost:8080/"
        },
        "id": "z-onxNDA6ppp",
        "outputId": "0ddb1804-5f77-4519-a8a8-e0d33cf6066f"
      },
      "execution_count": 44,
      "outputs": [
        {
          "output_type": "execute_result",
          "data": {
            "text/plain": [
              "array([[  16,   16,  256],\n",
              "       [ 256,  256,    1],\n",
              "       [2401, 1296,   81]])"
            ]
          },
          "metadata": {},
          "execution_count": 44
        }
      ]
    },
    {
      "cell_type": "code",
      "source": [
        "np.pow(x,7)"
      ],
      "metadata": {
        "colab": {
          "base_uri": "https://localhost:8080/"
        },
        "id": "KqfqkIpgN0jo",
        "outputId": "60209b3a-5984-471a-f54d-39de8ac38cdd"
      },
      "execution_count": 45,
      "outputs": [
        {
          "output_type": "execute_result",
          "data": {
            "text/plain": [
              "array([[   128,    128,  16384],\n",
              "       [ 16384,  16384,      1],\n",
              "       [823543, 279936,   2187]])"
            ]
          },
          "metadata": {},
          "execution_count": 45
        }
      ]
    },
    {
      "cell_type": "code",
      "source": [
        "np.random.rand(5,5)"
      ],
      "metadata": {
        "colab": {
          "base_uri": "https://localhost:8080/"
        },
        "id": "FcQ6ZopW6pm3",
        "outputId": "94e3c12e-c2ad-487e-d535-d53aaa76b491"
      },
      "execution_count": 46,
      "outputs": [
        {
          "output_type": "execute_result",
          "data": {
            "text/plain": [
              "array([[0.59266634, 0.62741293, 0.89292978, 0.71468231, 0.59604356],\n",
              "       [0.26821138, 0.94937075, 0.13664037, 0.33192703, 0.67872746],\n",
              "       [0.78339407, 0.38063148, 0.19975299, 0.91803034, 0.48934923],\n",
              "       [0.32636733, 0.12296585, 0.70510273, 0.48820296, 0.85285504],\n",
              "       [0.99800856, 0.92830028, 0.41985072, 0.7990739 , 0.68495862]])"
            ]
          },
          "metadata": {},
          "execution_count": 46
        }
      ]
    },
    {
      "cell_type": "code",
      "source": [
        "np.random.randn(1600,1300).std()"
      ],
      "metadata": {
        "colab": {
          "base_uri": "https://localhost:8080/"
        },
        "id": "D0iAmfBk6pkQ",
        "outputId": "f45c5d1f-6daf-4a23-b543-c80b24f32082"
      },
      "execution_count": 47,
      "outputs": [
        {
          "output_type": "execute_result",
          "data": {
            "text/plain": [
              "np.float64(1.0003182436808835)"
            ]
          },
          "metadata": {},
          "execution_count": 47
        }
      ]
    },
    {
      "cell_type": "code",
      "source": [
        "np.eye(9)"
      ],
      "metadata": {
        "colab": {
          "base_uri": "https://localhost:8080/"
        },
        "id": "cdlg_gP36pi0",
        "outputId": "9c9a76ff-1c17-4d59-c6f4-06dea1132bc9"
      },
      "execution_count": 48,
      "outputs": [
        {
          "output_type": "execute_result",
          "data": {
            "text/plain": [
              "array([[1., 0., 0., 0., 0., 0., 0., 0., 0.],\n",
              "       [0., 1., 0., 0., 0., 0., 0., 0., 0.],\n",
              "       [0., 0., 1., 0., 0., 0., 0., 0., 0.],\n",
              "       [0., 0., 0., 1., 0., 0., 0., 0., 0.],\n",
              "       [0., 0., 0., 0., 1., 0., 0., 0., 0.],\n",
              "       [0., 0., 0., 0., 0., 1., 0., 0., 0.],\n",
              "       [0., 0., 0., 0., 0., 0., 1., 0., 0.],\n",
              "       [0., 0., 0., 0., 0., 0., 0., 1., 0.],\n",
              "       [0., 0., 0., 0., 0., 0., 0., 0., 1.]])"
            ]
          },
          "metadata": {},
          "execution_count": 48
        }
      ]
    },
    {
      "cell_type": "code",
      "source": [
        "np.zeros(19)"
      ],
      "metadata": {
        "colab": {
          "base_uri": "https://localhost:8080/"
        },
        "id": "MyzdpKFV6pel",
        "outputId": "5d3928d0-12c9-415f-ebdb-c5d394b33267"
      },
      "execution_count": 49,
      "outputs": [
        {
          "output_type": "execute_result",
          "data": {
            "text/plain": [
              "array([0., 0., 0., 0., 0., 0., 0., 0., 0., 0., 0., 0., 0., 0., 0., 0., 0.,\n",
              "       0., 0.])"
            ]
          },
          "metadata": {},
          "execution_count": 49
        }
      ]
    },
    {
      "cell_type": "code",
      "source": [
        "np.zeros((9,5))"
      ],
      "metadata": {
        "colab": {
          "base_uri": "https://localhost:8080/"
        },
        "id": "RHiyu0ZJ6pb7",
        "outputId": "15d56eee-0182-4a71-bd12-d9062c032893"
      },
      "execution_count": 50,
      "outputs": [
        {
          "output_type": "execute_result",
          "data": {
            "text/plain": [
              "array([[0., 0., 0., 0., 0.],\n",
              "       [0., 0., 0., 0., 0.],\n",
              "       [0., 0., 0., 0., 0.],\n",
              "       [0., 0., 0., 0., 0.],\n",
              "       [0., 0., 0., 0., 0.],\n",
              "       [0., 0., 0., 0., 0.],\n",
              "       [0., 0., 0., 0., 0.],\n",
              "       [0., 0., 0., 0., 0.],\n",
              "       [0., 0., 0., 0., 0.]])"
            ]
          },
          "metadata": {},
          "execution_count": 50
        }
      ]
    },
    {
      "cell_type": "code",
      "source": [
        "np.ones(9)"
      ],
      "metadata": {
        "colab": {
          "base_uri": "https://localhost:8080/"
        },
        "id": "ghWLuDfH6pZQ",
        "outputId": "0de716fc-ef5e-4985-d442-5fc0fb3534a7"
      },
      "execution_count": 51,
      "outputs": [
        {
          "output_type": "execute_result",
          "data": {
            "text/plain": [
              "array([1., 1., 1., 1., 1., 1., 1., 1., 1.])"
            ]
          },
          "metadata": {},
          "execution_count": 51
        }
      ]
    },
    {
      "cell_type": "code",
      "source": [
        "np.ones((8,6))"
      ],
      "metadata": {
        "colab": {
          "base_uri": "https://localhost:8080/"
        },
        "id": "DNpjClBE6pWn",
        "outputId": "5818a004-26e2-4b41-fe7a-a5ce53d8c43c"
      },
      "execution_count": 52,
      "outputs": [
        {
          "output_type": "execute_result",
          "data": {
            "text/plain": [
              "array([[1., 1., 1., 1., 1., 1.],\n",
              "       [1., 1., 1., 1., 1., 1.],\n",
              "       [1., 1., 1., 1., 1., 1.],\n",
              "       [1., 1., 1., 1., 1., 1.],\n",
              "       [1., 1., 1., 1., 1., 1.],\n",
              "       [1., 1., 1., 1., 1., 1.],\n",
              "       [1., 1., 1., 1., 1., 1.],\n",
              "       [1., 1., 1., 1., 1., 1.]])"
            ]
          },
          "metadata": {},
          "execution_count": 52
        }
      ]
    },
    {
      "cell_type": "code",
      "source": [
        "data=np.random.randint(0,40,(20,10))"
      ],
      "metadata": {
        "id": "zfR9Rh__6pU_"
      },
      "execution_count": 53,
      "outputs": []
    },
    {
      "cell_type": "code",
      "source": [
        "data"
      ],
      "metadata": {
        "colab": {
          "base_uri": "https://localhost:8080/"
        },
        "id": "yiNNIjis6pQq",
        "outputId": "ecc8d4b6-5e70-4a4a-e4b0-1dead1df14e3"
      },
      "execution_count": 54,
      "outputs": [
        {
          "output_type": "execute_result",
          "data": {
            "text/plain": [
              "array([[15,  5,  4, 20,  4,  5, 24, 10,  8, 21],\n",
              "       [ 3, 20, 16, 29,  2, 15,  6, 26, 19, 24],\n",
              "       [18, 24, 33, 13, 31, 28, 32,  6, 23, 12],\n",
              "       [21, 32, 31, 17, 15, 30, 18, 28, 14, 14],\n",
              "       [28,  0, 30, 36, 13, 21, 35, 37, 11, 24],\n",
              "       [12,  4, 35, 36,  0,  7, 36, 19, 10, 37],\n",
              "       [16, 11, 35, 26, 16, 30, 11, 33, 28, 36],\n",
              "       [32, 35, 17, 19, 30, 14, 17, 14, 29, 11],\n",
              "       [ 2, 10, 11,  8, 21, 25, 26, 38,  2,  1],\n",
              "       [31, 33,  0, 23,  0, 22, 19,  3,  0,  4],\n",
              "       [ 9, 21, 35,  3, 38,  1, 22, 18, 13,  2],\n",
              "       [20, 32,  0, 18, 12, 10, 15, 30, 23,  1],\n",
              "       [29, 35, 21,  1, 29, 32, 39, 27, 28, 38],\n",
              "       [ 9, 32, 28,  5, 23, 32,  0, 38, 13, 15],\n",
              "       [16, 14, 17, 17, 36, 12, 36, 26, 27, 12],\n",
              "       [ 4, 12,  8, 27, 14,  8,  9, 12,  6, 26],\n",
              "       [19,  1, 39, 27, 29,  7, 27, 38, 21, 33],\n",
              "       [28,  7,  0, 36,  6,  7,  3, 10, 16, 13],\n",
              "       [19,  2, 24,  5, 33, 15,  1,  8, 22, 15],\n",
              "       [20, 23, 30, 38, 28,  6, 30,  3, 27, 17]])"
            ]
          },
          "metadata": {},
          "execution_count": 54
        }
      ]
    },
    {
      "cell_type": "code",
      "source": [
        "print(data.sum())\n",
        "print(data.min())\n",
        "print(data.max())"
      ],
      "metadata": {
        "colab": {
          "base_uri": "https://localhost:8080/"
        },
        "id": "Ip0_-zPG6pN-",
        "outputId": "364bb4ca-705a-4cf9-d016-3b4edb4c7eaa"
      },
      "execution_count": 60,
      "outputs": [
        {
          "output_type": "stream",
          "name": "stdout",
          "text": [
            "245\n",
            "0\n",
            "9\n"
          ]
        }
      ]
    },
    {
      "cell_type": "code",
      "source": [
        "data.argmax()"
      ],
      "metadata": {
        "colab": {
          "base_uri": "https://localhost:8080/"
        },
        "id": "z7T9uH5tO9ih",
        "outputId": "31224940-9d78-4a59-c15b-8f63547f3136"
      },
      "execution_count": 61,
      "outputs": [
        {
          "output_type": "execute_result",
          "data": {
            "text/plain": [
              "np.int64(8)"
            ]
          },
          "metadata": {},
          "execution_count": 61
        }
      ]
    },
    {
      "cell_type": "code",
      "source": [
        "data=np.random.randint(0,10,(9,6))"
      ],
      "metadata": {
        "id": "5fnrUoKh6pGm"
      },
      "execution_count": 62,
      "outputs": []
    },
    {
      "cell_type": "code",
      "source": [
        "data"
      ],
      "metadata": {
        "id": "5rZHBjwi6pCm",
        "colab": {
          "base_uri": "https://localhost:8080/"
        },
        "outputId": "e5b5ca34-3c76-4fd4-c2ac-d809d60b7672"
      },
      "execution_count": 63,
      "outputs": [
        {
          "output_type": "execute_result",
          "data": {
            "text/plain": [
              "array([[3, 9, 3, 6, 9, 0],\n",
              "       [6, 1, 0, 0, 0, 1],\n",
              "       [6, 8, 2, 2, 7, 5],\n",
              "       [6, 0, 8, 9, 1, 1],\n",
              "       [6, 6, 3, 1, 8, 0],\n",
              "       [0, 2, 4, 9, 3, 1],\n",
              "       [5, 6, 8, 7, 2, 9],\n",
              "       [2, 6, 4, 0, 6, 1],\n",
              "       [0, 4, 3, 5, 0, 0]])"
            ]
          },
          "metadata": {},
          "execution_count": 63
        }
      ]
    },
    {
      "cell_type": "code",
      "source": [
        "data.sum(axis=1)"
      ],
      "metadata": {
        "colab": {
          "base_uri": "https://localhost:8080/"
        },
        "id": "G32CuYEj-jFD",
        "outputId": "31f8fe3f-77a1-457f-b946-a3dd228fc0fd"
      },
      "execution_count": 64,
      "outputs": [
        {
          "output_type": "execute_result",
          "data": {
            "text/plain": [
              "array([30,  8, 30, 25, 24, 19, 37, 19, 12])"
            ]
          },
          "metadata": {},
          "execution_count": 64
        }
      ]
    },
    {
      "cell_type": "code",
      "source": [
        "data.sum(axis=0)"
      ],
      "metadata": {
        "colab": {
          "base_uri": "https://localhost:8080/"
        },
        "id": "E1rY_BTb-5D3",
        "outputId": "ffeff99e-8004-4555-facb-c12c3350a5a5"
      },
      "execution_count": 65,
      "outputs": [
        {
          "output_type": "execute_result",
          "data": {
            "text/plain": [
              "array([34, 42, 35, 39, 36, 18])"
            ]
          },
          "metadata": {},
          "execution_count": 65
        }
      ]
    },
    {
      "cell_type": "code",
      "source": [
        "data"
      ],
      "metadata": {
        "colab": {
          "base_uri": "https://localhost:8080/"
        },
        "id": "Lj4Ur04K_Dd0",
        "outputId": "23611b72-aa35-43c6-f432-9614bd6a249d"
      },
      "execution_count": 66,
      "outputs": [
        {
          "output_type": "execute_result",
          "data": {
            "text/plain": [
              "array([[3, 9, 3, 6, 9, 0],\n",
              "       [6, 1, 0, 0, 0, 1],\n",
              "       [6, 8, 2, 2, 7, 5],\n",
              "       [6, 0, 8, 9, 1, 1],\n",
              "       [6, 6, 3, 1, 8, 0],\n",
              "       [0, 2, 4, 9, 3, 1],\n",
              "       [5, 6, 8, 7, 2, 9],\n",
              "       [2, 6, 4, 0, 6, 1],\n",
              "       [0, 4, 3, 5, 0, 0]])"
            ]
          },
          "metadata": {},
          "execution_count": 66
        }
      ]
    },
    {
      "cell_type": "code",
      "source": [
        "data.argmin(axis=1)"
      ],
      "metadata": {
        "colab": {
          "base_uri": "https://localhost:8080/"
        },
        "id": "Z__6hE0xQLkx",
        "outputId": "fbe1bc88-d6bc-4e9a-bb99-5650e06ee718"
      },
      "execution_count": 67,
      "outputs": [
        {
          "output_type": "execute_result",
          "data": {
            "text/plain": [
              "array([5, 2, 2, 1, 5, 0, 4, 3, 0])"
            ]
          },
          "metadata": {},
          "execution_count": 67
        }
      ]
    },
    {
      "cell_type": "code",
      "source": [
        "data.max(axis=0)"
      ],
      "metadata": {
        "colab": {
          "base_uri": "https://localhost:8080/"
        },
        "id": "oaERmoKd_DXu",
        "outputId": "c3bd7041-0d56-43f6-831d-41f899624037"
      },
      "execution_count": 69,
      "outputs": [
        {
          "output_type": "execute_result",
          "data": {
            "text/plain": [
              "array([6, 9, 8, 9, 9, 9])"
            ]
          },
          "metadata": {},
          "execution_count": 69
        }
      ]
    }
  ]
}
