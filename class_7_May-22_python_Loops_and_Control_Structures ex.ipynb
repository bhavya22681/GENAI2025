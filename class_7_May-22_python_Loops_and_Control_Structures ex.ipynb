{
  "nbformat": 4,
  "nbformat_minor": 0,
  "metadata": {
    "colab": {
      "provenance": []
    },
    "kernelspec": {
      "name": "python3",
      "display_name": "Python 3"
    },
    "language_info": {
      "name": "python"
    }
  },
  "cells": [
    {
      "cell_type": "code",
      "execution_count": null,
      "metadata": {
        "colab": {
          "base_uri": "https://localhost:8080/"
        },
        "id": "S20GF5GFvU1j",
        "outputId": "00c8fc5a-251b-4abb-da15-8c7dd7b42c93"
      },
      "outputs": [
        {
          "output_type": "stream",
          "name": "stdout",
          "text": [
            "6\n",
            "6\n",
            "6\n",
            "6\n"
          ]
        }
      ],
      "source": [
        "x=\"data\"\n",
        "for i in x:\n",
        "  print(6)"
      ]
    },
    {
      "cell_type": "code",
      "source": [
        "x=[1,2,3,[4,5,6,7]]\n",
        "for i in x:\n",
        "  print(i)"
      ],
      "metadata": {
        "colab": {
          "base_uri": "https://localhost:8080/"
        },
        "id": "4M5YQSIj0lW9",
        "outputId": "12907b3f-a54d-4187-a192-42db85b2760b"
      },
      "execution_count": null,
      "outputs": [
        {
          "output_type": "stream",
          "name": "stdout",
          "text": [
            "1\n",
            "2\n",
            "3\n",
            "[4, 5, 6, 7]\n"
          ]
        }
      ]
    },
    {
      "cell_type": "code",
      "source": [
        "for i in [\"Bhavya\"]:\n",
        "  print(i)"
      ],
      "metadata": {
        "colab": {
          "base_uri": "https://localhost:8080/"
        },
        "id": "3ZQrHRDTvbMr",
        "outputId": "b9ca6c06-a7b7-4e0d-c872-1708b6eeef25"
      },
      "execution_count": null,
      "outputs": [
        {
          "output_type": "stream",
          "name": "stdout",
          "text": [
            "Bhavya\n"
          ]
        }
      ]
    },
    {
      "cell_type": "code",
      "source": [
        "len([1,2,3,4,[5,6],[6,7],[2,3,4]])"
      ],
      "metadata": {
        "colab": {
          "base_uri": "https://localhost:8080/"
        },
        "id": "odmwyZsvvbJE",
        "outputId": "65f1a7ee-8086-4048-e4ba-0655cf718b8b"
      },
      "execution_count": null,
      "outputs": [
        {
          "output_type": "execute_result",
          "data": {
            "text/plain": [
              "7"
            ]
          },
          "metadata": {},
          "execution_count": 28
        }
      ]
    },
    {
      "cell_type": "code",
      "source": [
        "for i in [1,2,3]:\n",
        "  print(4+i)"
      ],
      "metadata": {
        "colab": {
          "base_uri": "https://localhost:8080/"
        },
        "id": "GLbTyZs7vbAb",
        "outputId": "30fd60b3-1b44-4e83-cc81-1286d66500e5"
      },
      "execution_count": null,
      "outputs": [
        {
          "output_type": "stream",
          "name": "stdout",
          "text": [
            "5\n",
            "6\n",
            "7\n"
          ]
        }
      ]
    },
    {
      "cell_type": "code",
      "source": [
        "for i in [2,4,6,8]:\n",
        "  print(22)"
      ],
      "metadata": {
        "colab": {
          "base_uri": "https://localhost:8080/"
        },
        "id": "ghuC843_va3o",
        "outputId": "d89bf64d-ad8f-41a7-c455-785db46b557c"
      },
      "execution_count": null,
      "outputs": [
        {
          "output_type": "stream",
          "name": "stdout",
          "text": [
            "22\n",
            "22\n",
            "22\n",
            "22\n"
          ]
        }
      ]
    },
    {
      "cell_type": "code",
      "source": [
        "for i in range(0,10):\n",
        "  print(i,end=' ')"
      ],
      "metadata": {
        "colab": {
          "base_uri": "https://localhost:8080/"
        },
        "id": "NiE2bikOva1A",
        "outputId": "07c450e9-7b76-4a09-912a-171ee054be55"
      },
      "execution_count": null,
      "outputs": [
        {
          "output_type": "stream",
          "name": "stdout",
          "text": [
            "0 1 2 3 4 5 6 7 8 9 "
          ]
        }
      ]
    },
    {
      "cell_type": "code",
      "source": [
        "for i in range(0,10,2):\n",
        "  print(i,end='-')"
      ],
      "metadata": {
        "colab": {
          "base_uri": "https://localhost:8080/"
        },
        "id": "F9DCIT_Lvax7",
        "outputId": "f7e16cab-62d2-41fb-92b3-67d71726ea02"
      },
      "execution_count": null,
      "outputs": [
        {
          "output_type": "stream",
          "name": "stdout",
          "text": [
            "0-2-4-6-8-"
          ]
        }
      ]
    },
    {
      "cell_type": "code",
      "source": [
        "for i in range(0,14,4):\n",
        "  print(i,end='-')"
      ],
      "metadata": {
        "colab": {
          "base_uri": "https://localhost:8080/"
        },
        "id": "ncROd9dOvauS",
        "outputId": "c4455591-a76b-48d1-e1f0-05436d90ba65"
      },
      "execution_count": null,
      "outputs": [
        {
          "output_type": "stream",
          "name": "stdout",
          "text": [
            "0-4-8-12-"
          ]
        }
      ]
    },
    {
      "cell_type": "code",
      "source": [
        "for i in range(0,10,1):\n",
        "  print(i,end=\"-\")"
      ],
      "metadata": {
        "colab": {
          "base_uri": "https://localhost:8080/"
        },
        "id": "M3TWb-IEvarP",
        "outputId": "c9147060-5a72-45d9-c04b-81e044f8e96c"
      },
      "execution_count": null,
      "outputs": [
        {
          "output_type": "stream",
          "name": "stdout",
          "text": [
            "0-1-2-3-4-5-6-7-8-9-"
          ]
        }
      ]
    },
    {
      "cell_type": "code",
      "source": [
        "for i in range(10,0,-1):\n",
        "  print(i,end=\",\")"
      ],
      "metadata": {
        "colab": {
          "base_uri": "https://localhost:8080/"
        },
        "id": "rjUPYPvBvaof",
        "outputId": "56903012-400d-456d-b303-ea285a5f51f0"
      },
      "execution_count": null,
      "outputs": [
        {
          "output_type": "stream",
          "name": "stdout",
          "text": [
            "10,9,8,7,6,5,4,3,2,1,"
          ]
        }
      ]
    },
    {
      "cell_type": "code",
      "source": [
        "\"*\"*7"
      ],
      "metadata": {
        "colab": {
          "base_uri": "https://localhost:8080/",
          "height": 36
        },
        "id": "yhEk_TW9vak2",
        "outputId": "689178ac-941d-4f71-a6e5-35d04b11ca8c"
      },
      "execution_count": 91,
      "outputs": [
        {
          "output_type": "execute_result",
          "data": {
            "text/plain": [
              "'*******'"
            ],
            "application/vnd.google.colaboratory.intrinsic+json": {
              "type": "string"
            }
          },
          "metadata": {},
          "execution_count": 91
        }
      ]
    },
    {
      "cell_type": "code",
      "source": [
        "for i in range(1,6):\n",
        "  print(i*\"@\")"
      ],
      "metadata": {
        "colab": {
          "base_uri": "https://localhost:8080/"
        },
        "id": "bQtJY4cKvaZW",
        "outputId": "0bb66244-127f-4245-9bc1-da367519e4ab"
      },
      "execution_count": 92,
      "outputs": [
        {
          "output_type": "stream",
          "name": "stdout",
          "text": [
            "@\n",
            "@@\n",
            "@@@\n",
            "@@@@\n",
            "@@@@@\n"
          ]
        }
      ]
    },
    {
      "cell_type": "code",
      "source": [
        "for i in range(5,0,-1):\n",
        "  print(i*\"&\")"
      ],
      "metadata": {
        "colab": {
          "base_uri": "https://localhost:8080/"
        },
        "id": "gklUda0uvaWq",
        "outputId": "5dcfc1e8-62e0-405f-815d-26c5485f85d2"
      },
      "execution_count": 93,
      "outputs": [
        {
          "output_type": "stream",
          "name": "stdout",
          "text": [
            "&&&&&\n",
            "&&&&\n",
            "&&&\n",
            "&&\n",
            "&\n"
          ]
        }
      ]
    },
    {
      "cell_type": "code",
      "source": [
        "for i in range(1,6):\n",
        "  print((6-i)*\"^\")"
      ],
      "metadata": {
        "colab": {
          "base_uri": "https://localhost:8080/"
        },
        "id": "QQg9X1QuvaTc",
        "outputId": "8c34b3bd-000c-48af-9f76-5486cc6c3d99"
      },
      "execution_count": 94,
      "outputs": [
        {
          "output_type": "stream",
          "name": "stdout",
          "text": [
            "^^^^^\n",
            "^^^^\n",
            "^^^\n",
            "^^\n",
            "^\n"
          ]
        }
      ]
    },
    {
      "cell_type": "code",
      "source": [
        "for i in range(1,6):\n",
        "  print(6-i)"
      ],
      "metadata": {
        "colab": {
          "base_uri": "https://localhost:8080/"
        },
        "id": "IEK3E9KFvaQv",
        "outputId": "90e6c735-13cd-4982-ab68-573a2f958f13"
      },
      "execution_count": null,
      "outputs": [
        {
          "output_type": "stream",
          "name": "stdout",
          "text": [
            "5\n",
            "4\n",
            "3\n",
            "2\n",
            "1\n"
          ]
        }
      ]
    },
    {
      "cell_type": "code",
      "source": [
        "for i in range(0,2):\n",
        "  print(\"Data\".upper())\n",
        "  print(\"Data\".lower())"
      ],
      "metadata": {
        "colab": {
          "base_uri": "https://localhost:8080/"
        },
        "id": "JtjNcLN4vaNx",
        "outputId": "15bed96d-60f5-4d90-d8be-6eacc0100ceb"
      },
      "execution_count": null,
      "outputs": [
        {
          "output_type": "stream",
          "name": "stdout",
          "text": [
            "DATA\n",
            "data\n",
            "DATA\n",
            "data\n"
          ]
        }
      ]
    },
    {
      "cell_type": "code",
      "source": [
        "for i in range(0,10,2):\n",
        "  print(\"data science\".split()[-1][-1])"
      ],
      "metadata": {
        "colab": {
          "base_uri": "https://localhost:8080/"
        },
        "id": "rWC9Qwey7fFK",
        "outputId": "dfe54d45-4671-435f-ed66-b46327a8770f"
      },
      "execution_count": null,
      "outputs": [
        {
          "output_type": "stream",
          "name": "stdout",
          "text": [
            "e\n",
            "e\n",
            "e\n",
            "e\n",
            "e\n"
          ]
        }
      ]
    },
    {
      "cell_type": "code",
      "source": [
        "\"data science\".split()"
      ],
      "metadata": {
        "colab": {
          "base_uri": "https://localhost:8080/"
        },
        "id": "Hf5noSk17b7O",
        "outputId": "78b16747-5bc7-4628-9e43-076bead87467"
      },
      "execution_count": null,
      "outputs": [
        {
          "output_type": "execute_result",
          "data": {
            "text/plain": [
              "['data', 'science']"
            ]
          },
          "metadata": {},
          "execution_count": 45
        }
      ]
    },
    {
      "cell_type": "code",
      "source": [
        "for i in range(0,8):\n",
        "  if True:\n",
        "    print(\"Candy\")"
      ],
      "metadata": {
        "colab": {
          "base_uri": "https://localhost:8080/"
        },
        "id": "erNkz-BU7Zwp",
        "outputId": "1148564a-66a8-4b4c-e670-8c536b8d7689"
      },
      "execution_count": 95,
      "outputs": [
        {
          "output_type": "stream",
          "name": "stdout",
          "text": [
            "Candy\n",
            "Candy\n",
            "Candy\n",
            "Candy\n",
            "Candy\n",
            "Candy\n",
            "Candy\n",
            "Candy\n"
          ]
        }
      ]
    },
    {
      "cell_type": "code",
      "source": [
        "for i in range(0,7,1):\n",
        "  print(i*\"#\")"
      ],
      "metadata": {
        "colab": {
          "base_uri": "https://localhost:8080/"
        },
        "id": "VppUDgvBvaK8",
        "outputId": "330a8aad-de84-408a-8962-c634ec8adefa"
      },
      "execution_count": 96,
      "outputs": [
        {
          "output_type": "stream",
          "name": "stdout",
          "text": [
            "\n",
            "#\n",
            "##\n",
            "###\n",
            "####\n",
            "#####\n",
            "######\n"
          ]
        }
      ]
    },
    {
      "cell_type": "code",
      "source": [
        "for i in range(1,6):\n",
        "  print(i*\"&\")\n",
        "  if i==5:\n",
        "    for j in range(7,0,-1):\n",
        "      print(j*\"*\")"
      ],
      "metadata": {
        "colab": {
          "base_uri": "https://localhost:8080/"
        },
        "id": "7SXLLgVEvaIM",
        "outputId": "dabd1efb-883c-4d71-c84e-5b3b2020d8da"
      },
      "execution_count": 99,
      "outputs": [
        {
          "output_type": "stream",
          "name": "stdout",
          "text": [
            "&\n",
            "&&\n",
            "&&&\n",
            "&&&&\n",
            "&&&&&\n",
            "*******\n",
            "******\n",
            "*****\n",
            "****\n",
            "***\n",
            "**\n",
            "*\n"
          ]
        }
      ]
    },
    {
      "cell_type": "code",
      "source": [
        "for i in range(1,6):\n",
        "  print(\" \"*(6-i)+i*\"^\")"
      ],
      "metadata": {
        "colab": {
          "base_uri": "https://localhost:8080/"
        },
        "id": "dh_8AHShvaFW",
        "outputId": "cb62ad46-a4f8-4fdd-b79e-9810687cbf6d"
      },
      "execution_count": 100,
      "outputs": [
        {
          "output_type": "stream",
          "name": "stdout",
          "text": [
            "     ^\n",
            "    ^^\n",
            "   ^^^\n",
            "  ^^^^\n",
            " ^^^^^\n"
          ]
        }
      ]
    },
    {
      "cell_type": "code",
      "source": [
        "x=[1,2,3,4,5]\n",
        "for i in range(1,6):\n",
        "  print(x[0:i])\n"
      ],
      "metadata": {
        "colab": {
          "base_uri": "https://localhost:8080/"
        },
        "id": "xRLr_dyS-Pkk",
        "outputId": "04cc3fd2-d9d0-4a72-d9f4-70c003e75859"
      },
      "execution_count": null,
      "outputs": [
        {
          "output_type": "stream",
          "name": "stdout",
          "text": [
            "[1]\n",
            "[1, 2]\n",
            "[1, 2, 3]\n",
            "[1, 2, 3, 4]\n",
            "[1, 2, 3, 4, 5]\n"
          ]
        }
      ]
    },
    {
      "cell_type": "code",
      "source": [
        "x=[1,2,3,4,5]\n",
        "x[0:4]"
      ],
      "metadata": {
        "colab": {
          "base_uri": "https://localhost:8080/"
        },
        "id": "OoZt-r_7vZ_m",
        "outputId": "011506e0-9042-4399-855b-4526a3af9f88"
      },
      "execution_count": null,
      "outputs": [
        {
          "output_type": "execute_result",
          "data": {
            "text/plain": [
              "[1, 2, 3, 4]"
            ]
          },
          "metadata": {},
          "execution_count": 53
        }
      ]
    },
    {
      "cell_type": "code",
      "source": [
        "x=\"Bhavya\"\n",
        "for i in range(1,8):\n",
        "  print(x[0:i])"
      ],
      "metadata": {
        "colab": {
          "base_uri": "https://localhost:8080/"
        },
        "id": "839fYSmuAAGh",
        "outputId": "25e1d9b2-ae56-446c-b1e2-59dfb737a319"
      },
      "execution_count": 103,
      "outputs": [
        {
          "output_type": "stream",
          "name": "stdout",
          "text": [
            "B\n",
            "Bh\n",
            "Bha\n",
            "Bhav\n",
            "Bhavy\n",
            "Bhavya\n",
            "Bhavya\n"
          ]
        }
      ]
    },
    {
      "cell_type": "code",
      "source": [
        "x=\"Bhavya royalbhavyabha\"\n",
        "for i in range(1,len(x)):\n",
        "  print(x[0:i])"
      ],
      "metadata": {
        "colab": {
          "base_uri": "https://localhost:8080/"
        },
        "id": "VtS_2amS__DU",
        "outputId": "a7db63e4-92f3-4ec2-97ff-eff65a261e4f"
      },
      "execution_count": 104,
      "outputs": [
        {
          "output_type": "stream",
          "name": "stdout",
          "text": [
            "B\n",
            "Bh\n",
            "Bha\n",
            "Bhav\n",
            "Bhavy\n",
            "Bhavya\n",
            "Bhavya \n",
            "Bhavya r\n",
            "Bhavya ro\n",
            "Bhavya roy\n",
            "Bhavya roya\n",
            "Bhavya royal\n",
            "Bhavya royalb\n",
            "Bhavya royalbh\n",
            "Bhavya royalbha\n",
            "Bhavya royalbhav\n",
            "Bhavya royalbhavy\n",
            "Bhavya royalbhavya\n",
            "Bhavya royalbhavyab\n",
            "Bhavya royalbhavyabh\n",
            "Bhavya royalbhavyabha\n"
          ]
        }
      ]
    },
    {
      "cell_type": "code",
      "source": [
        "x=\"data science machine !$%^&8*#@ learning\""
      ],
      "metadata": {
        "id": "1ThSAExvBNYN"
      },
      "execution_count": 108,
      "outputs": []
    },
    {
      "cell_type": "code",
      "source": [
        "for i in x:\n",
        "  if not(i.isalpha()):\n",
        "    print(i,end=\",\")"
      ],
      "metadata": {
        "colab": {
          "base_uri": "https://localhost:8080/"
        },
        "id": "o1ffQuU3BMlQ",
        "outputId": "97466842-814a-4d3f-f855-92c5ea61cba3"
      },
      "execution_count": 109,
      "outputs": [
        {
          "output_type": "stream",
          "name": "stdout",
          "text": [
            " , , ,!,$,%,^,&,8,*,#,@, ,"
          ]
        }
      ]
    },
    {
      "cell_type": "code",
      "source": [
        "counter=0\n",
        "for i in x:\n",
        "  if i.isalpha()==False:\n",
        "    print(i,end=\",\")\n",
        "    counter=counter+1"
      ],
      "metadata": {
        "colab": {
          "base_uri": "https://localhost:8080/"
        },
        "id": "QdLMHruuCJHI",
        "outputId": "2bf54b43-1562-466a-940b-e13ff6470fae"
      },
      "execution_count": 110,
      "outputs": [
        {
          "output_type": "stream",
          "name": "stdout",
          "text": [
            " , , ,!,$,%,^,&,8,*,#,@, ,"
          ]
        }
      ]
    },
    {
      "cell_type": "code",
      "source": [
        "counter"
      ],
      "metadata": {
        "colab": {
          "base_uri": "https://localhost:8080/"
        },
        "id": "XLBYy55fCWfF",
        "outputId": "ceecd768-457f-43df-9ead-af2c2416073e"
      },
      "execution_count": 111,
      "outputs": [
        {
          "output_type": "execute_result",
          "data": {
            "text/plain": [
              "13"
            ]
          },
          "metadata": {},
          "execution_count": 111
        }
      ]
    },
    {
      "cell_type": "code",
      "source": [
        "review=''' 1) I CAN TYPE AGAIN! I had switched to a turtle beach vulcan and there's a gap between the keys that I just cannot get used to. The feel, size of keys, near-silent typing, feel great. It's really nice to type on. It's heavy and feels well built. I was able to snag this (TKL Apex3) for $34. Amahhhzing value.\n",
        "\n",
        "2) THE M1-M6 KEYS ARE NOT INDEPENDENT! You cannot bind them as meta keys as you can in the Apex7 keyboard. You will have to replace your insert key, or etc. I REPEAT: You CANNOT bind to the M1-M6 keys on the Apex3.\n",
        "\n",
        "3) I hadn't noticed when purchasing that there is no dedicated print screen key. So as mentioned above, I changed my insert key to act as print screen as I have come to rely on the snipping tool quite frequently.\n",
        "\n",
        "In summary, at 30-40$ this keyboard is a...Steel! Ha.'''"
      ],
      "metadata": {
        "id": "-KX7RNJhClkb"
      },
      "execution_count": 69,
      "outputs": []
    },
    {
      "cell_type": "code",
      "source": [
        "### total number of characters\n",
        "### total number of words\n",
        "### total space\n",
        "### total number of special characters\n",
        "### total number of capital\n",
        "### total number of number"
      ],
      "metadata": {
        "id": "tg4D5KbZCuaf"
      },
      "execution_count": 67,
      "outputs": []
    },
    {
      "cell_type": "code",
      "source": [
        "len(review)"
      ],
      "metadata": {
        "colab": {
          "base_uri": "https://localhost:8080/"
        },
        "id": "92l-AybAC91f",
        "outputId": "ba299aba-4a92-4112-947a-30b2a6f47120"
      },
      "execution_count": 70,
      "outputs": [
        {
          "output_type": "execute_result",
          "data": {
            "text/plain": [
              "794"
            ]
          },
          "metadata": {},
          "execution_count": 70
        }
      ]
    },
    {
      "cell_type": "code",
      "source": [
        "len(review.split())"
      ],
      "metadata": {
        "colab": {
          "base_uri": "https://localhost:8080/"
        },
        "id": "QQTd7dM1DTZ-",
        "outputId": "2a9b88c3-7c34-4e3d-afac-9e0692983ee1"
      },
      "execution_count": 112,
      "outputs": [
        {
          "output_type": "execute_result",
          "data": {
            "text/plain": [
              "152"
            ]
          },
          "metadata": {},
          "execution_count": 112
        }
      ]
    },
    {
      "cell_type": "code",
      "source": [
        "space_counter=0\n",
        "special_char_counter=0\n",
        "numerical_char_count=0\n",
        "for i in review:\n",
        "  if i.isspace():\n",
        "    space_counter=space_counter+1\n",
        "  elif (i.isnumeric()):\n",
        "    numerical_char_count=numerical_char_count+1\n",
        "  elif not(i.isalpha()):\n",
        "    special_char_counter=special_char_counter+1\n",
        "\n",
        "print(space_counter)\n",
        "print(special_char_counter)\n",
        "print(numerical_char_count)"
      ],
      "metadata": {
        "colab": {
          "base_uri": "https://localhost:8080/"
        },
        "id": "oiG9vpCjDi-3",
        "outputId": "bd99a48f-e19f-475c-c65c-a6dfdaf5482c"
      },
      "execution_count": 72,
      "outputs": [
        {
          "output_type": "stream",
          "name": "stdout",
          "text": [
            "155\n",
            "40\n",
            "16\n"
          ]
        }
      ]
    },
    {
      "cell_type": "code",
      "source": [
        "\"Bhavya$\".replace(\"$\",\"\")"
      ],
      "metadata": {
        "colab": {
          "base_uri": "https://localhost:8080/",
          "height": 36
        },
        "id": "A1DWlxiyFCrh",
        "outputId": "3622c64d-5b75-49ca-dded-c5d06ea6b512"
      },
      "execution_count": 74,
      "outputs": [
        {
          "output_type": "execute_result",
          "data": {
            "text/plain": [
              "'Bhavya'"
            ],
            "application/vnd.google.colaboratory.intrinsic+json": {
              "type": "string"
            }
          },
          "metadata": {},
          "execution_count": 74
        }
      ]
    },
    {
      "cell_type": "code",
      "source": [
        "\"data science machine learning\""
      ],
      "metadata": {
        "colab": {
          "base_uri": "https://localhost:8080/",
          "height": 36
        },
        "id": "-EwRLq0rFTFM",
        "outputId": "594a77a5-1124-4c9d-952e-adec97e6c9f4"
      },
      "execution_count": 75,
      "outputs": [
        {
          "output_type": "execute_result",
          "data": {
            "text/plain": [
              "'data science machine learning'"
            ],
            "application/vnd.google.colaboratory.intrinsic+json": {
              "type": "string"
            }
          },
          "metadata": {},
          "execution_count": 75
        }
      ]
    },
    {
      "cell_type": "code",
      "source": [
        "x=\"data science machine learning\""
      ],
      "metadata": {
        "id": "4vNBth6lFbV8"
      },
      "execution_count": 77,
      "outputs": []
    },
    {
      "cell_type": "code",
      "source": [
        "words=x.split()"
      ],
      "metadata": {
        "id": "S2YkgcLNFlwX"
      },
      "execution_count": 78,
      "outputs": []
    },
    {
      "cell_type": "code",
      "source": [
        "words"
      ],
      "metadata": {
        "colab": {
          "base_uri": "https://localhost:8080/"
        },
        "id": "XGwtoqgwF0RL",
        "outputId": "14f8aa50-6bbf-4778-9d5d-dfafb004cc34"
      },
      "execution_count": 79,
      "outputs": [
        {
          "output_type": "execute_result",
          "data": {
            "text/plain": [
              "['data', 'science', 'machine', 'learning']"
            ]
          },
          "metadata": {},
          "execution_count": 79
        }
      ]
    },
    {
      "cell_type": "code",
      "source": [
        "words.reverse()"
      ],
      "metadata": {
        "id": "YF7x26MbF11h"
      },
      "execution_count": 80,
      "outputs": []
    },
    {
      "cell_type": "code",
      "source": [
        "words"
      ],
      "metadata": {
        "colab": {
          "base_uri": "https://localhost:8080/"
        },
        "id": "dE7gZIORF1aJ",
        "outputId": "d0259ad0-9d4d-4254-81df-8a902700118b"
      },
      "execution_count": 85,
      "outputs": [
        {
          "output_type": "execute_result",
          "data": {
            "text/plain": [
              "['learning', 'machine', 'science', 'data']"
            ]
          },
          "metadata": {},
          "execution_count": 85
        }
      ]
    },
    {
      "cell_type": "code",
      "source": [
        "string=\"\"\n",
        "for i in words:\n",
        "  string=(string+\" \"+i).lstrip()\n",
        "  print(string)"
      ],
      "metadata": {
        "id": "55OtTOibGCUv",
        "colab": {
          "base_uri": "https://localhost:8080/"
        },
        "outputId": "003e1adf-9af1-4211-998f-dee3270f4f33"
      },
      "execution_count": 87,
      "outputs": [
        {
          "output_type": "stream",
          "name": "stdout",
          "text": [
            "learning\n",
            "learning machine\n",
            "learning machine science\n",
            "learning machine science data\n"
          ]
        }
      ]
    },
    {
      "cell_type": "code",
      "source": [
        "string"
      ],
      "metadata": {
        "colab": {
          "base_uri": "https://localhost:8080/",
          "height": 36
        },
        "id": "YYzSvBF6GKLb",
        "outputId": "d4d32268-4c4d-43c5-85d2-8de3ba2b6627"
      },
      "execution_count": 89,
      "outputs": [
        {
          "output_type": "execute_result",
          "data": {
            "text/plain": [
              "'learning machine science data'"
            ],
            "application/vnd.google.colaboratory.intrinsic+json": {
              "type": "string"
            }
          },
          "metadata": {},
          "execution_count": 89
        }
      ]
    }
  ]
}
